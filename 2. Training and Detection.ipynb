{
 "cells": [
  {
   "cell_type": "markdown",
   "metadata": {
    "id": "QUANWN3rpfC9"
   },
   "source": [
    "# 0. Setup Paths"
   ]
  },
  {
   "cell_type": "code",
   "execution_count": 1,
   "metadata": {
    "id": "146BB11JpfDA"
   },
   "outputs": [],
   "source": [
    "import os\n",
    "import wget\n",
    "import object_detection"
   ]
  },
  {
   "cell_type": "markdown",
   "metadata": {},
   "source": [
    "on tf Model Zoo Website (https://github.com/tensorflow/models/blob/master/research/object_detection/g3doc/tf2_detection_zoo.md)\n",
    "- right click on model to get url\n",
    "- copy name part of url to use as name"
   ]
  },
  {
   "cell_type": "code",
   "execution_count": 2,
   "metadata": {
    "id": "42hJEdo_pfDB"
   },
   "outputs": [],
   "source": [
    "CUSTOM_MODEL_NAME = 'my_centernet_hg104_1024_8'\n",
    "PRETRAINED_MODEL_NAME = 'centernet_hg104_1024x1024_coco17_tpu-32'\n",
    "PRETRAINED_MODEL_URL = 'http://download.tensorflow.org/models/object_detection/tf2/20200713/centernet_hg104_1024x1024_coco17_tpu-32.tar.gz'\n",
    "TF_RECORD_SCRIPT_NAME = 'generate_tfrecord.py'\n",
    "LABEL_MAP_NAME = 'label_map.pbtxt'"
   ]
  },
  {
   "cell_type": "code",
   "execution_count": 3,
   "metadata": {
    "id": "hbPhYVy_pfDB"
   },
   "outputs": [],
   "source": [
    "paths = {\n",
    "    'WORKSPACE_PATH': os.path.join('Tensorflow', 'workspace'),\n",
    "    'SCRIPTS_PATH': os.path.join('Tensorflow','scripts'),\n",
    "    'APIMODEL_PATH': os.path.join('Tensorflow','models'),\n",
    "    'ANNOTATION_PATH': os.path.join('Tensorflow', 'workspace','annotations',CUSTOM_MODEL_NAME),\n",
    "    'IMAGE_PATH': os.path.join('Tensorflow', 'workspace','images'),\n",
    "    'IMAGE_PATH_TRAIN': os.path.join('Tensorflow', 'workspace','images','train'),\n",
    "    'IMAGE_PATH_TEST': os.path.join('Tensorflow', 'workspace','images','test'),\n",
    "    'MODEL_PATH': os.path.join('Tensorflow', 'workspace','models'),\n",
    "    'PRETRAINED_MODEL_PATH': os.path.join('Tensorflow', 'workspace','pre-trained-models'),\n",
    "    'CHECKPOINT_PATH': os.path.join('Tensorflow', 'workspace','models',CUSTOM_MODEL_NAME), \n",
    "    'OUTPUT_PATH': os.path.join('Tensorflow', 'workspace','models',CUSTOM_MODEL_NAME, 'export'), \n",
    "    'TFJS_PATH':os.path.join('Tensorflow', 'workspace','models',CUSTOM_MODEL_NAME, 'tfjsexport'), \n",
    "    'TFLITE_PATH':os.path.join('Tensorflow', 'workspace','models',CUSTOM_MODEL_NAME, 'tfliteexport'),\n",
    "    'PROTOC_PATH':os.path.join('Tensorflow','protoc')\n",
    " }"
   ]
  },
  {
   "cell_type": "code",
   "execution_count": 4,
   "metadata": {
    "id": "LwhWZMI0pfDC"
   },
   "outputs": [],
   "source": [
    "files = {\n",
    "    'PIPELINE_CONFIG':os.path.join('Tensorflow', 'workspace','models', CUSTOM_MODEL_NAME, 'pipeline.config'),\n",
    "    'TF_RECORD_SCRIPT': os.path.join(paths['SCRIPTS_PATH'], TF_RECORD_SCRIPT_NAME), \n",
    "    'LABELMAP': os.path.join(paths['ANNOTATION_PATH'], LABEL_MAP_NAME)\n",
    "}"
   ]
  },
  {
   "cell_type": "code",
   "execution_count": 5,
   "metadata": {
    "id": "HR-TfDGrpfDC"
   },
   "outputs": [],
   "source": [
    "# creating folders\n",
    "for path in paths.values():\n",
    "    if not os.path.exists(path):\n",
    "        if os.name == 'posix':\n",
    "            !mkdir -p {path}\n",
    "        if os.name == 'nt':\n",
    "            !mkdir {path}"
   ]
  },
  {
   "cell_type": "code",
   "execution_count": 6,
   "metadata": {},
   "outputs": [
    {
     "name": "stdout",
     "output_type": "stream",
     "text": [
      "Tensorflow/workspace/models/my_centernet_hg104_1024_8\n",
      "Tensorflow/workspace/annotations/my_centernet_hg104_1024_8\n"
     ]
    }
   ],
   "source": [
    "print(paths['CHECKPOINT_PATH'])\n",
    "print(paths['ANNOTATION_PATH'])"
   ]
  },
  {
   "cell_type": "markdown",
   "metadata": {
    "id": "OLU-rs_ipfDE"
   },
   "source": [
    "# 1. Load pre-trained Model"
   ]
  },
  {
   "cell_type": "code",
   "execution_count": 7,
   "metadata": {},
   "outputs": [
    {
     "name": "stdout",
     "output_type": "stream",
     "text": [
      "Running tests under Python 3.8.12: /home/josefine/.conda/envs/tfod_v2/bin/python\n",
      "[ RUN      ] ModelBuilderTF2Test.test_create_center_net_deepmac\n",
      "2022-04-21 16:38:21.290446: I tensorflow/core/platform/cpu_feature_guard.cc:142] This TensorFlow binary is optimized with oneAPI Deep Neural Network Library (oneDNN) to use the following CPU instructions in performance-critical operations:  AVX2 AVX512F FMA\n",
      "To enable them in other operations, rebuild TensorFlow with the appropriate compiler flags.\n",
      "2022-04-21 16:38:21.683422: I tensorflow/core/common_runtime/gpu/gpu_device.cc:1510] Created device /job:localhost/replica:0/task:0/device:GPU:0 with 10357 MB memory:  -> device: 0, name: NVIDIA GeForce GTX 1080 Ti, pci bus id: 0000:15:00.0, compute capability: 6.1\n",
      "/home/josefine/.conda/envs/tfod_v2/lib/python3.8/site-packages/object_detection/builders/model_builder.py:1100: DeprecationWarning: The 'warn' function is deprecated, use 'warning' instead\n",
      "  logging.warn(('Building experimental DeepMAC meta-arch.'\n",
      "W0421 16:38:21.932268 140621372461888 model_builder.py:1100] Building experimental DeepMAC meta-arch. Some features may be omitted.\n",
      "INFO:tensorflow:time(__main__.ModelBuilderTF2Test.test_create_center_net_deepmac): 0.8s\n",
      "I0421 16:38:22.083731 140621372461888 test_util.py:2188] time(__main__.ModelBuilderTF2Test.test_create_center_net_deepmac): 0.8s\n",
      "[       OK ] ModelBuilderTF2Test.test_create_center_net_deepmac\n",
      "[ RUN      ] ModelBuilderTF2Test.test_create_center_net_model0 (customize_head_params=True)\n",
      "INFO:tensorflow:time(__main__.ModelBuilderTF2Test.test_create_center_net_model0 (customize_head_params=True)): 0.43s\n",
      "I0421 16:38:22.512155 140621372461888 test_util.py:2188] time(__main__.ModelBuilderTF2Test.test_create_center_net_model0 (customize_head_params=True)): 0.43s\n",
      "[       OK ] ModelBuilderTF2Test.test_create_center_net_model0 (customize_head_params=True)\n",
      "[ RUN      ] ModelBuilderTF2Test.test_create_center_net_model1 (customize_head_params=False)\n",
      "INFO:tensorflow:time(__main__.ModelBuilderTF2Test.test_create_center_net_model1 (customize_head_params=False)): 0.16s\n",
      "I0421 16:38:22.672737 140621372461888 test_util.py:2188] time(__main__.ModelBuilderTF2Test.test_create_center_net_model1 (customize_head_params=False)): 0.16s\n",
      "[       OK ] ModelBuilderTF2Test.test_create_center_net_model1 (customize_head_params=False)\n",
      "[ RUN      ] ModelBuilderTF2Test.test_create_center_net_model_from_keypoints\n",
      "INFO:tensorflow:time(__main__.ModelBuilderTF2Test.test_create_center_net_model_from_keypoints): 0.14s\n",
      "I0421 16:38:22.817926 140621372461888 test_util.py:2188] time(__main__.ModelBuilderTF2Test.test_create_center_net_model_from_keypoints): 0.14s\n",
      "[       OK ] ModelBuilderTF2Test.test_create_center_net_model_from_keypoints\n",
      "[ RUN      ] ModelBuilderTF2Test.test_create_center_net_model_mobilenet\n",
      "INFO:tensorflow:time(__main__.ModelBuilderTF2Test.test_create_center_net_model_mobilenet): 1.1s\n",
      "I0421 16:38:23.917759 140621372461888 test_util.py:2188] time(__main__.ModelBuilderTF2Test.test_create_center_net_model_mobilenet): 1.1s\n",
      "[       OK ] ModelBuilderTF2Test.test_create_center_net_model_mobilenet\n",
      "[ RUN      ] ModelBuilderTF2Test.test_create_experimental_model\n",
      "INFO:tensorflow:time(__main__.ModelBuilderTF2Test.test_create_experimental_model): 0.0s\n",
      "I0421 16:38:23.918588 140621372461888 test_util.py:2188] time(__main__.ModelBuilderTF2Test.test_create_experimental_model): 0.0s\n",
      "[       OK ] ModelBuilderTF2Test.test_create_experimental_model\n",
      "[ RUN      ] ModelBuilderTF2Test.test_create_faster_rcnn_from_config_with_crop_feature0 (True)\n",
      "INFO:tensorflow:time(__main__.ModelBuilderTF2Test.test_create_faster_rcnn_from_config_with_crop_feature0 (True)): 0.01s\n",
      "I0421 16:38:23.932830 140621372461888 test_util.py:2188] time(__main__.ModelBuilderTF2Test.test_create_faster_rcnn_from_config_with_crop_feature0 (True)): 0.01s\n",
      "[       OK ] ModelBuilderTF2Test.test_create_faster_rcnn_from_config_with_crop_feature0 (True)\n",
      "[ RUN      ] ModelBuilderTF2Test.test_create_faster_rcnn_from_config_with_crop_feature1 (False)\n",
      "INFO:tensorflow:time(__main__.ModelBuilderTF2Test.test_create_faster_rcnn_from_config_with_crop_feature1 (False)): 0.01s\n",
      "I0421 16:38:23.941654 140621372461888 test_util.py:2188] time(__main__.ModelBuilderTF2Test.test_create_faster_rcnn_from_config_with_crop_feature1 (False)): 0.01s\n",
      "[       OK ] ModelBuilderTF2Test.test_create_faster_rcnn_from_config_with_crop_feature1 (False)\n",
      "[ RUN      ] ModelBuilderTF2Test.test_create_faster_rcnn_model_from_config_with_example_miner\n",
      "INFO:tensorflow:time(__main__.ModelBuilderTF2Test.test_create_faster_rcnn_model_from_config_with_example_miner): 0.01s\n",
      "I0421 16:38:23.950797 140621372461888 test_util.py:2188] time(__main__.ModelBuilderTF2Test.test_create_faster_rcnn_model_from_config_with_example_miner): 0.01s\n",
      "[       OK ] ModelBuilderTF2Test.test_create_faster_rcnn_model_from_config_with_example_miner\n",
      "[ RUN      ] ModelBuilderTF2Test.test_create_faster_rcnn_models_from_config_faster_rcnn_with_matmul\n",
      "INFO:tensorflow:time(__main__.ModelBuilderTF2Test.test_create_faster_rcnn_models_from_config_faster_rcnn_with_matmul): 0.06s\n",
      "I0421 16:38:24.009855 140621372461888 test_util.py:2188] time(__main__.ModelBuilderTF2Test.test_create_faster_rcnn_models_from_config_faster_rcnn_with_matmul): 0.06s\n",
      "[       OK ] ModelBuilderTF2Test.test_create_faster_rcnn_models_from_config_faster_rcnn_with_matmul\n",
      "[ RUN      ] ModelBuilderTF2Test.test_create_faster_rcnn_models_from_config_faster_rcnn_without_matmul\n",
      "INFO:tensorflow:time(__main__.ModelBuilderTF2Test.test_create_faster_rcnn_models_from_config_faster_rcnn_without_matmul): 0.05s\n",
      "I0421 16:38:24.064213 140621372461888 test_util.py:2188] time(__main__.ModelBuilderTF2Test.test_create_faster_rcnn_models_from_config_faster_rcnn_without_matmul): 0.05s\n",
      "[       OK ] ModelBuilderTF2Test.test_create_faster_rcnn_models_from_config_faster_rcnn_without_matmul\n",
      "[ RUN      ] ModelBuilderTF2Test.test_create_faster_rcnn_models_from_config_mask_rcnn_with_matmul\n",
      "INFO:tensorflow:time(__main__.ModelBuilderTF2Test.test_create_faster_rcnn_models_from_config_mask_rcnn_with_matmul): 0.06s\n",
      "I0421 16:38:24.124100 140621372461888 test_util.py:2188] time(__main__.ModelBuilderTF2Test.test_create_faster_rcnn_models_from_config_mask_rcnn_with_matmul): 0.06s\n",
      "[       OK ] ModelBuilderTF2Test.test_create_faster_rcnn_models_from_config_mask_rcnn_with_matmul\n",
      "[ RUN      ] ModelBuilderTF2Test.test_create_faster_rcnn_models_from_config_mask_rcnn_without_matmul\n",
      "INFO:tensorflow:time(__main__.ModelBuilderTF2Test.test_create_faster_rcnn_models_from_config_mask_rcnn_without_matmul): 0.06s\n",
      "I0421 16:38:24.182293 140621372461888 test_util.py:2188] time(__main__.ModelBuilderTF2Test.test_create_faster_rcnn_models_from_config_mask_rcnn_without_matmul): 0.06s\n",
      "[       OK ] ModelBuilderTF2Test.test_create_faster_rcnn_models_from_config_mask_rcnn_without_matmul\n",
      "[ RUN      ] ModelBuilderTF2Test.test_create_rfcn_model_from_config\n",
      "INFO:tensorflow:time(__main__.ModelBuilderTF2Test.test_create_rfcn_model_from_config): 0.06s\n",
      "I0421 16:38:24.240023 140621372461888 test_util.py:2188] time(__main__.ModelBuilderTF2Test.test_create_rfcn_model_from_config): 0.06s\n",
      "[       OK ] ModelBuilderTF2Test.test_create_rfcn_model_from_config\n",
      "[ RUN      ] ModelBuilderTF2Test.test_create_ssd_fpn_model_from_config\n",
      "INFO:tensorflow:time(__main__.ModelBuilderTF2Test.test_create_ssd_fpn_model_from_config): 0.02s\n",
      "I0421 16:38:24.257633 140621372461888 test_util.py:2188] time(__main__.ModelBuilderTF2Test.test_create_ssd_fpn_model_from_config): 0.02s\n",
      "[       OK ] ModelBuilderTF2Test.test_create_ssd_fpn_model_from_config\n",
      "[ RUN      ] ModelBuilderTF2Test.test_create_ssd_models_from_config\n",
      "I0421 16:38:24.364494 140621372461888 ssd_efficientnet_bifpn_feature_extractor.py:142] EfficientDet EfficientNet backbone version: efficientnet-b0\n",
      "I0421 16:38:24.364615 140621372461888 ssd_efficientnet_bifpn_feature_extractor.py:144] EfficientDet BiFPN num filters: 64\n",
      "I0421 16:38:24.364650 140621372461888 ssd_efficientnet_bifpn_feature_extractor.py:145] EfficientDet BiFPN num iterations: 3\n",
      "I0421 16:38:24.366225 140621372461888 efficientnet_model.py:147] round_filter input=32 output=32\n",
      "I0421 16:38:24.377145 140621372461888 efficientnet_model.py:147] round_filter input=32 output=32\n",
      "I0421 16:38:24.377213 140621372461888 efficientnet_model.py:147] round_filter input=16 output=16\n",
      "I0421 16:38:24.412558 140621372461888 efficientnet_model.py:147] round_filter input=16 output=16\n",
      "I0421 16:38:24.412631 140621372461888 efficientnet_model.py:147] round_filter input=24 output=24\n",
      "I0421 16:38:24.502117 140621372461888 efficientnet_model.py:147] round_filter input=24 output=24\n",
      "I0421 16:38:24.502198 140621372461888 efficientnet_model.py:147] round_filter input=40 output=40\n",
      "I0421 16:38:24.588520 140621372461888 efficientnet_model.py:147] round_filter input=40 output=40\n",
      "I0421 16:38:24.588607 140621372461888 efficientnet_model.py:147] round_filter input=80 output=80\n",
      "I0421 16:38:24.720729 140621372461888 efficientnet_model.py:147] round_filter input=80 output=80\n",
      "I0421 16:38:24.720814 140621372461888 efficientnet_model.py:147] round_filter input=112 output=112\n",
      "I0421 16:38:24.852664 140621372461888 efficientnet_model.py:147] round_filter input=112 output=112\n",
      "I0421 16:38:24.852753 140621372461888 efficientnet_model.py:147] round_filter input=192 output=192\n",
      "I0421 16:38:25.026020 140621372461888 efficientnet_model.py:147] round_filter input=192 output=192\n",
      "I0421 16:38:25.026109 140621372461888 efficientnet_model.py:147] round_filter input=320 output=320\n",
      "I0421 16:38:25.068582 140621372461888 efficientnet_model.py:147] round_filter input=1280 output=1280\n",
      "I0421 16:38:25.085516 140621372461888 efficientnet_model.py:458] Building model efficientnet with params ModelConfig(width_coefficient=1.0, depth_coefficient=1.0, resolution=224, dropout_rate=0.2, blocks=(BlockConfig(input_filters=32, output_filters=16, kernel_size=3, num_repeat=1, expand_ratio=1, strides=(1, 1), se_ratio=0.25, id_skip=True, fused_conv=False, conv_type='depthwise'), BlockConfig(input_filters=16, output_filters=24, kernel_size=3, num_repeat=2, expand_ratio=6, strides=(2, 2), se_ratio=0.25, id_skip=True, fused_conv=False, conv_type='depthwise'), BlockConfig(input_filters=24, output_filters=40, kernel_size=5, num_repeat=2, expand_ratio=6, strides=(2, 2), se_ratio=0.25, id_skip=True, fused_conv=False, conv_type='depthwise'), BlockConfig(input_filters=40, output_filters=80, kernel_size=3, num_repeat=3, expand_ratio=6, strides=(2, 2), se_ratio=0.25, id_skip=True, fused_conv=False, conv_type='depthwise'), BlockConfig(input_filters=80, output_filters=112, kernel_size=5, num_repeat=3, expand_ratio=6, strides=(1, 1), se_ratio=0.25, id_skip=True, fused_conv=False, conv_type='depthwise'), BlockConfig(input_filters=112, output_filters=192, kernel_size=5, num_repeat=4, expand_ratio=6, strides=(2, 2), se_ratio=0.25, id_skip=True, fused_conv=False, conv_type='depthwise'), BlockConfig(input_filters=192, output_filters=320, kernel_size=3, num_repeat=1, expand_ratio=6, strides=(1, 1), se_ratio=0.25, id_skip=True, fused_conv=False, conv_type='depthwise')), stem_base_filters=32, top_base_filters=1280, activation='simple_swish', batch_norm='default', bn_momentum=0.99, bn_epsilon=0.001, weight_decay=5e-06, drop_connect_rate=0.2, depth_divisor=8, min_depth=None, use_se=True, input_channels=3, num_classes=1000, model_name='efficientnet', rescale_input=False, data_format='channels_last', dtype='float32')\n",
      "I0421 16:38:25.244961 140621372461888 ssd_efficientnet_bifpn_feature_extractor.py:142] EfficientDet EfficientNet backbone version: efficientnet-b1\n",
      "I0421 16:38:25.245079 140621372461888 ssd_efficientnet_bifpn_feature_extractor.py:144] EfficientDet BiFPN num filters: 88\n",
      "I0421 16:38:25.245112 140621372461888 ssd_efficientnet_bifpn_feature_extractor.py:145] EfficientDet BiFPN num iterations: 4\n",
      "I0421 16:38:25.246204 140621372461888 efficientnet_model.py:147] round_filter input=32 output=32\n",
      "I0421 16:38:25.256184 140621372461888 efficientnet_model.py:147] round_filter input=32 output=32\n",
      "I0421 16:38:25.256247 140621372461888 efficientnet_model.py:147] round_filter input=16 output=16\n",
      "I0421 16:38:25.325697 140621372461888 efficientnet_model.py:147] round_filter input=16 output=16\n",
      "I0421 16:38:25.325777 140621372461888 efficientnet_model.py:147] round_filter input=24 output=24\n",
      "I0421 16:38:25.458152 140621372461888 efficientnet_model.py:147] round_filter input=24 output=24\n",
      "I0421 16:38:25.458245 140621372461888 efficientnet_model.py:147] round_filter input=40 output=40\n",
      "I0421 16:38:25.585533 140621372461888 efficientnet_model.py:147] round_filter input=40 output=40\n",
      "I0421 16:38:25.585622 140621372461888 efficientnet_model.py:147] round_filter input=80 output=80\n",
      "I0421 16:38:25.757937 140621372461888 efficientnet_model.py:147] round_filter input=80 output=80\n",
      "I0421 16:38:25.758029 140621372461888 efficientnet_model.py:147] round_filter input=112 output=112\n",
      "I0421 16:38:25.930314 140621372461888 efficientnet_model.py:147] round_filter input=112 output=112\n",
      "I0421 16:38:25.930404 140621372461888 efficientnet_model.py:147] round_filter input=192 output=192\n",
      "I0421 16:38:26.150069 140621372461888 efficientnet_model.py:147] round_filter input=192 output=192\n",
      "I0421 16:38:26.150178 140621372461888 efficientnet_model.py:147] round_filter input=320 output=320\n",
      "I0421 16:38:26.235336 140621372461888 efficientnet_model.py:147] round_filter input=1280 output=1280\n",
      "I0421 16:38:26.252746 140621372461888 efficientnet_model.py:458] Building model efficientnet with params ModelConfig(width_coefficient=1.0, depth_coefficient=1.1, resolution=240, dropout_rate=0.2, blocks=(BlockConfig(input_filters=32, output_filters=16, kernel_size=3, num_repeat=1, expand_ratio=1, strides=(1, 1), se_ratio=0.25, id_skip=True, fused_conv=False, conv_type='depthwise'), BlockConfig(input_filters=16, output_filters=24, kernel_size=3, num_repeat=2, expand_ratio=6, strides=(2, 2), se_ratio=0.25, id_skip=True, fused_conv=False, conv_type='depthwise'), BlockConfig(input_filters=24, output_filters=40, kernel_size=5, num_repeat=2, expand_ratio=6, strides=(2, 2), se_ratio=0.25, id_skip=True, fused_conv=False, conv_type='depthwise'), BlockConfig(input_filters=40, output_filters=80, kernel_size=3, num_repeat=3, expand_ratio=6, strides=(2, 2), se_ratio=0.25, id_skip=True, fused_conv=False, conv_type='depthwise'), BlockConfig(input_filters=80, output_filters=112, kernel_size=5, num_repeat=3, expand_ratio=6, strides=(1, 1), se_ratio=0.25, id_skip=True, fused_conv=False, conv_type='depthwise'), BlockConfig(input_filters=112, output_filters=192, kernel_size=5, num_repeat=4, expand_ratio=6, strides=(2, 2), se_ratio=0.25, id_skip=True, fused_conv=False, conv_type='depthwise'), BlockConfig(input_filters=192, output_filters=320, kernel_size=3, num_repeat=1, expand_ratio=6, strides=(1, 1), se_ratio=0.25, id_skip=True, fused_conv=False, conv_type='depthwise')), stem_base_filters=32, top_base_filters=1280, activation='simple_swish', batch_norm='default', bn_momentum=0.99, bn_epsilon=0.001, weight_decay=5e-06, drop_connect_rate=0.2, depth_divisor=8, min_depth=None, use_se=True, input_channels=3, num_classes=1000, model_name='efficientnet', rescale_input=False, data_format='channels_last', dtype='float32')\n",
      "I0421 16:38:26.291548 140621372461888 ssd_efficientnet_bifpn_feature_extractor.py:142] EfficientDet EfficientNet backbone version: efficientnet-b2\n",
      "I0421 16:38:26.291649 140621372461888 ssd_efficientnet_bifpn_feature_extractor.py:144] EfficientDet BiFPN num filters: 112\n",
      "I0421 16:38:26.291701 140621372461888 ssd_efficientnet_bifpn_feature_extractor.py:145] EfficientDet BiFPN num iterations: 5\n",
      "I0421 16:38:26.292744 140621372461888 efficientnet_model.py:147] round_filter input=32 output=32\n",
      "I0421 16:38:26.302908 140621372461888 efficientnet_model.py:147] round_filter input=32 output=32\n",
      "I0421 16:38:26.302976 140621372461888 efficientnet_model.py:147] round_filter input=16 output=16\n",
      "I0421 16:38:26.374680 140621372461888 efficientnet_model.py:147] round_filter input=16 output=16\n",
      "I0421 16:38:26.374794 140621372461888 efficientnet_model.py:147] round_filter input=24 output=24\n",
      "I0421 16:38:26.506406 140621372461888 efficientnet_model.py:147] round_filter input=24 output=24\n",
      "I0421 16:38:26.506514 140621372461888 efficientnet_model.py:147] round_filter input=40 output=48\n",
      "I0421 16:38:26.637513 140621372461888 efficientnet_model.py:147] round_filter input=40 output=48\n",
      "I0421 16:38:26.637629 140621372461888 efficientnet_model.py:147] round_filter input=80 output=88\n",
      "I0421 16:38:26.814738 140621372461888 efficientnet_model.py:147] round_filter input=80 output=88\n",
      "I0421 16:38:26.814850 140621372461888 efficientnet_model.py:147] round_filter input=112 output=120\n",
      "I0421 16:38:26.988050 140621372461888 efficientnet_model.py:147] round_filter input=112 output=120\n",
      "I0421 16:38:26.988160 140621372461888 efficientnet_model.py:147] round_filter input=192 output=208\n",
      "I0421 16:38:27.203372 140621372461888 efficientnet_model.py:147] round_filter input=192 output=208\n",
      "I0421 16:38:27.203476 140621372461888 efficientnet_model.py:147] round_filter input=320 output=352\n",
      "I0421 16:38:27.288308 140621372461888 efficientnet_model.py:147] round_filter input=1280 output=1408\n",
      "I0421 16:38:27.305176 140621372461888 efficientnet_model.py:458] Building model efficientnet with params ModelConfig(width_coefficient=1.1, depth_coefficient=1.2, resolution=260, dropout_rate=0.3, blocks=(BlockConfig(input_filters=32, output_filters=16, kernel_size=3, num_repeat=1, expand_ratio=1, strides=(1, 1), se_ratio=0.25, id_skip=True, fused_conv=False, conv_type='depthwise'), BlockConfig(input_filters=16, output_filters=24, kernel_size=3, num_repeat=2, expand_ratio=6, strides=(2, 2), se_ratio=0.25, id_skip=True, fused_conv=False, conv_type='depthwise'), BlockConfig(input_filters=24, output_filters=40, kernel_size=5, num_repeat=2, expand_ratio=6, strides=(2, 2), se_ratio=0.25, id_skip=True, fused_conv=False, conv_type='depthwise'), BlockConfig(input_filters=40, output_filters=80, kernel_size=3, num_repeat=3, expand_ratio=6, strides=(2, 2), se_ratio=0.25, id_skip=True, fused_conv=False, conv_type='depthwise'), BlockConfig(input_filters=80, output_filters=112, kernel_size=5, num_repeat=3, expand_ratio=6, strides=(1, 1), se_ratio=0.25, id_skip=True, fused_conv=False, conv_type='depthwise'), BlockConfig(input_filters=112, output_filters=192, kernel_size=5, num_repeat=4, expand_ratio=6, strides=(2, 2), se_ratio=0.25, id_skip=True, fused_conv=False, conv_type='depthwise'), BlockConfig(input_filters=192, output_filters=320, kernel_size=3, num_repeat=1, expand_ratio=6, strides=(1, 1), se_ratio=0.25, id_skip=True, fused_conv=False, conv_type='depthwise')), stem_base_filters=32, top_base_filters=1280, activation='simple_swish', batch_norm='default', bn_momentum=0.99, bn_epsilon=0.001, weight_decay=5e-06, drop_connect_rate=0.2, depth_divisor=8, min_depth=None, use_se=True, input_channels=3, num_classes=1000, model_name='efficientnet', rescale_input=False, data_format='channels_last', dtype='float32')\n",
      "I0421 16:38:27.342309 140621372461888 ssd_efficientnet_bifpn_feature_extractor.py:142] EfficientDet EfficientNet backbone version: efficientnet-b3\n",
      "I0421 16:38:27.342394 140621372461888 ssd_efficientnet_bifpn_feature_extractor.py:144] EfficientDet BiFPN num filters: 160\n",
      "I0421 16:38:27.342427 140621372461888 ssd_efficientnet_bifpn_feature_extractor.py:145] EfficientDet BiFPN num iterations: 6\n",
      "I0421 16:38:27.343441 140621372461888 efficientnet_model.py:147] round_filter input=32 output=40\n",
      "I0421 16:38:27.352913 140621372461888 efficientnet_model.py:147] round_filter input=32 output=40\n",
      "I0421 16:38:27.352984 140621372461888 efficientnet_model.py:147] round_filter input=16 output=24\n",
      "I0421 16:38:27.575893 140621372461888 efficientnet_model.py:147] round_filter input=16 output=24\n",
      "I0421 16:38:27.576010 140621372461888 efficientnet_model.py:147] round_filter input=24 output=32\n",
      "I0421 16:38:27.707569 140621372461888 efficientnet_model.py:147] round_filter input=24 output=32\n",
      "I0421 16:38:27.707680 140621372461888 efficientnet_model.py:147] round_filter input=40 output=48\n",
      "I0421 16:38:27.837800 140621372461888 efficientnet_model.py:147] round_filter input=40 output=48\n",
      "I0421 16:38:27.837903 140621372461888 efficientnet_model.py:147] round_filter input=80 output=96\n",
      "I0421 16:38:28.054082 140621372461888 efficientnet_model.py:147] round_filter input=80 output=96\n",
      "I0421 16:38:28.054188 140621372461888 efficientnet_model.py:147] round_filter input=112 output=136\n",
      "I0421 16:38:28.272658 140621372461888 efficientnet_model.py:147] round_filter input=112 output=136\n",
      "I0421 16:38:28.272762 140621372461888 efficientnet_model.py:147] round_filter input=192 output=232\n",
      "I0421 16:38:28.531926 140621372461888 efficientnet_model.py:147] round_filter input=192 output=232\n",
      "I0421 16:38:28.532048 140621372461888 efficientnet_model.py:147] round_filter input=320 output=384\n",
      "I0421 16:38:28.617067 140621372461888 efficientnet_model.py:147] round_filter input=1280 output=1536\n",
      "I0421 16:38:28.633962 140621372461888 efficientnet_model.py:458] Building model efficientnet with params ModelConfig(width_coefficient=1.2, depth_coefficient=1.4, resolution=300, dropout_rate=0.3, blocks=(BlockConfig(input_filters=32, output_filters=16, kernel_size=3, num_repeat=1, expand_ratio=1, strides=(1, 1), se_ratio=0.25, id_skip=True, fused_conv=False, conv_type='depthwise'), BlockConfig(input_filters=16, output_filters=24, kernel_size=3, num_repeat=2, expand_ratio=6, strides=(2, 2), se_ratio=0.25, id_skip=True, fused_conv=False, conv_type='depthwise'), BlockConfig(input_filters=24, output_filters=40, kernel_size=5, num_repeat=2, expand_ratio=6, strides=(2, 2), se_ratio=0.25, id_skip=True, fused_conv=False, conv_type='depthwise'), BlockConfig(input_filters=40, output_filters=80, kernel_size=3, num_repeat=3, expand_ratio=6, strides=(2, 2), se_ratio=0.25, id_skip=True, fused_conv=False, conv_type='depthwise'), BlockConfig(input_filters=80, output_filters=112, kernel_size=5, num_repeat=3, expand_ratio=6, strides=(1, 1), se_ratio=0.25, id_skip=True, fused_conv=False, conv_type='depthwise'), BlockConfig(input_filters=112, output_filters=192, kernel_size=5, num_repeat=4, expand_ratio=6, strides=(2, 2), se_ratio=0.25, id_skip=True, fused_conv=False, conv_type='depthwise'), BlockConfig(input_filters=192, output_filters=320, kernel_size=3, num_repeat=1, expand_ratio=6, strides=(1, 1), se_ratio=0.25, id_skip=True, fused_conv=False, conv_type='depthwise')), stem_base_filters=32, top_base_filters=1280, activation='simple_swish', batch_norm='default', bn_momentum=0.99, bn_epsilon=0.001, weight_decay=5e-06, drop_connect_rate=0.2, depth_divisor=8, min_depth=None, use_se=True, input_channels=3, num_classes=1000, model_name='efficientnet', rescale_input=False, data_format='channels_last', dtype='float32')\n",
      "I0421 16:38:28.676272 140621372461888 ssd_efficientnet_bifpn_feature_extractor.py:142] EfficientDet EfficientNet backbone version: efficientnet-b4\n",
      "I0421 16:38:28.676382 140621372461888 ssd_efficientnet_bifpn_feature_extractor.py:144] EfficientDet BiFPN num filters: 224\n",
      "I0421 16:38:28.676414 140621372461888 ssd_efficientnet_bifpn_feature_extractor.py:145] EfficientDet BiFPN num iterations: 7\n",
      "I0421 16:38:28.677484 140621372461888 efficientnet_model.py:147] round_filter input=32 output=48\n",
      "I0421 16:38:28.687557 140621372461888 efficientnet_model.py:147] round_filter input=32 output=48\n",
      "I0421 16:38:28.687628 140621372461888 efficientnet_model.py:147] round_filter input=16 output=24\n",
      "I0421 16:38:28.760516 140621372461888 efficientnet_model.py:147] round_filter input=16 output=24\n",
      "I0421 16:38:28.760628 140621372461888 efficientnet_model.py:147] round_filter input=24 output=32\n",
      "I0421 16:38:28.932909 140621372461888 efficientnet_model.py:147] round_filter input=24 output=32\n",
      "I0421 16:38:28.933015 140621372461888 efficientnet_model.py:147] round_filter input=40 output=56\n",
      "I0421 16:38:29.104959 140621372461888 efficientnet_model.py:147] round_filter input=40 output=56\n",
      "I0421 16:38:29.105063 140621372461888 efficientnet_model.py:147] round_filter input=80 output=112\n",
      "I0421 16:38:29.362190 140621372461888 efficientnet_model.py:147] round_filter input=80 output=112\n",
      "I0421 16:38:29.362300 140621372461888 efficientnet_model.py:147] round_filter input=112 output=160\n",
      "I0421 16:38:29.629877 140621372461888 efficientnet_model.py:147] round_filter input=112 output=160\n",
      "I0421 16:38:29.630007 140621372461888 efficientnet_model.py:147] round_filter input=192 output=272\n",
      "I0421 16:38:29.977563 140621372461888 efficientnet_model.py:147] round_filter input=192 output=272\n",
      "I0421 16:38:29.977673 140621372461888 efficientnet_model.py:147] round_filter input=320 output=448\n",
      "I0421 16:38:30.208920 140621372461888 efficientnet_model.py:147] round_filter input=1280 output=1792\n",
      "I0421 16:38:30.225260 140621372461888 efficientnet_model.py:458] Building model efficientnet with params ModelConfig(width_coefficient=1.4, depth_coefficient=1.8, resolution=380, dropout_rate=0.4, blocks=(BlockConfig(input_filters=32, output_filters=16, kernel_size=3, num_repeat=1, expand_ratio=1, strides=(1, 1), se_ratio=0.25, id_skip=True, fused_conv=False, conv_type='depthwise'), BlockConfig(input_filters=16, output_filters=24, kernel_size=3, num_repeat=2, expand_ratio=6, strides=(2, 2), se_ratio=0.25, id_skip=True, fused_conv=False, conv_type='depthwise'), BlockConfig(input_filters=24, output_filters=40, kernel_size=5, num_repeat=2, expand_ratio=6, strides=(2, 2), se_ratio=0.25, id_skip=True, fused_conv=False, conv_type='depthwise'), BlockConfig(input_filters=40, output_filters=80, kernel_size=3, num_repeat=3, expand_ratio=6, strides=(2, 2), se_ratio=0.25, id_skip=True, fused_conv=False, conv_type='depthwise'), BlockConfig(input_filters=80, output_filters=112, kernel_size=5, num_repeat=3, expand_ratio=6, strides=(1, 1), se_ratio=0.25, id_skip=True, fused_conv=False, conv_type='depthwise'), BlockConfig(input_filters=112, output_filters=192, kernel_size=5, num_repeat=4, expand_ratio=6, strides=(2, 2), se_ratio=0.25, id_skip=True, fused_conv=False, conv_type='depthwise'), BlockConfig(input_filters=192, output_filters=320, kernel_size=3, num_repeat=1, expand_ratio=6, strides=(1, 1), se_ratio=0.25, id_skip=True, fused_conv=False, conv_type='depthwise')), stem_base_filters=32, top_base_filters=1280, activation='simple_swish', batch_norm='default', bn_momentum=0.99, bn_epsilon=0.001, weight_decay=5e-06, drop_connect_rate=0.2, depth_divisor=8, min_depth=None, use_se=True, input_channels=3, num_classes=1000, model_name='efficientnet', rescale_input=False, data_format='channels_last', dtype='float32')\n",
      "I0421 16:38:30.272775 140621372461888 ssd_efficientnet_bifpn_feature_extractor.py:142] EfficientDet EfficientNet backbone version: efficientnet-b5\n",
      "I0421 16:38:30.272869 140621372461888 ssd_efficientnet_bifpn_feature_extractor.py:144] EfficientDet BiFPN num filters: 288\n",
      "I0421 16:38:30.272902 140621372461888 ssd_efficientnet_bifpn_feature_extractor.py:145] EfficientDet BiFPN num iterations: 7\n",
      "I0421 16:38:30.273935 140621372461888 efficientnet_model.py:147] round_filter input=32 output=48\n",
      "I0421 16:38:30.282946 140621372461888 efficientnet_model.py:147] round_filter input=32 output=48\n",
      "I0421 16:38:30.283011 140621372461888 efficientnet_model.py:147] round_filter input=16 output=24\n",
      "I0421 16:38:30.389357 140621372461888 efficientnet_model.py:147] round_filter input=16 output=24\n",
      "I0421 16:38:30.389449 140621372461888 efficientnet_model.py:147] round_filter input=24 output=40\n",
      "I0421 16:38:30.612960 140621372461888 efficientnet_model.py:147] round_filter input=24 output=40\n",
      "I0421 16:38:30.613079 140621372461888 efficientnet_model.py:147] round_filter input=40 output=64\n",
      "I0421 16:38:30.843275 140621372461888 efficientnet_model.py:147] round_filter input=40 output=64\n",
      "I0421 16:38:30.843415 140621372461888 efficientnet_model.py:147] round_filter input=80 output=128\n",
      "I0421 16:38:31.145707 140621372461888 efficientnet_model.py:147] round_filter input=80 output=128\n",
      "I0421 16:38:31.145815 140621372461888 efficientnet_model.py:147] round_filter input=112 output=176\n",
      "I0421 16:38:31.454133 140621372461888 efficientnet_model.py:147] round_filter input=112 output=176\n",
      "I0421 16:38:31.454272 140621372461888 efficientnet_model.py:147] round_filter input=192 output=304\n",
      "I0421 16:38:31.846735 140621372461888 efficientnet_model.py:147] round_filter input=192 output=304\n",
      "I0421 16:38:31.846845 140621372461888 efficientnet_model.py:147] round_filter input=320 output=512\n",
      "I0421 16:38:31.976219 140621372461888 efficientnet_model.py:147] round_filter input=1280 output=2048\n",
      "I0421 16:38:31.992368 140621372461888 efficientnet_model.py:458] Building model efficientnet with params ModelConfig(width_coefficient=1.6, depth_coefficient=2.2, resolution=456, dropout_rate=0.4, blocks=(BlockConfig(input_filters=32, output_filters=16, kernel_size=3, num_repeat=1, expand_ratio=1, strides=(1, 1), se_ratio=0.25, id_skip=True, fused_conv=False, conv_type='depthwise'), BlockConfig(input_filters=16, output_filters=24, kernel_size=3, num_repeat=2, expand_ratio=6, strides=(2, 2), se_ratio=0.25, id_skip=True, fused_conv=False, conv_type='depthwise'), BlockConfig(input_filters=24, output_filters=40, kernel_size=5, num_repeat=2, expand_ratio=6, strides=(2, 2), se_ratio=0.25, id_skip=True, fused_conv=False, conv_type='depthwise'), BlockConfig(input_filters=40, output_filters=80, kernel_size=3, num_repeat=3, expand_ratio=6, strides=(2, 2), se_ratio=0.25, id_skip=True, fused_conv=False, conv_type='depthwise'), BlockConfig(input_filters=80, output_filters=112, kernel_size=5, num_repeat=3, expand_ratio=6, strides=(1, 1), se_ratio=0.25, id_skip=True, fused_conv=False, conv_type='depthwise'), BlockConfig(input_filters=112, output_filters=192, kernel_size=5, num_repeat=4, expand_ratio=6, strides=(2, 2), se_ratio=0.25, id_skip=True, fused_conv=False, conv_type='depthwise'), BlockConfig(input_filters=192, output_filters=320, kernel_size=3, num_repeat=1, expand_ratio=6, strides=(1, 1), se_ratio=0.25, id_skip=True, fused_conv=False, conv_type='depthwise')), stem_base_filters=32, top_base_filters=1280, activation='simple_swish', batch_norm='default', bn_momentum=0.99, bn_epsilon=0.001, weight_decay=5e-06, drop_connect_rate=0.2, depth_divisor=8, min_depth=None, use_se=True, input_channels=3, num_classes=1000, model_name='efficientnet', rescale_input=False, data_format='channels_last', dtype='float32')\n",
      "I0421 16:38:32.047859 140621372461888 ssd_efficientnet_bifpn_feature_extractor.py:142] EfficientDet EfficientNet backbone version: efficientnet-b6\n",
      "I0421 16:38:32.047961 140621372461888 ssd_efficientnet_bifpn_feature_extractor.py:144] EfficientDet BiFPN num filters: 384\n",
      "I0421 16:38:32.048011 140621372461888 ssd_efficientnet_bifpn_feature_extractor.py:145] EfficientDet BiFPN num iterations: 8\n",
      "I0421 16:38:32.049036 140621372461888 efficientnet_model.py:147] round_filter input=32 output=56\n",
      "I0421 16:38:32.058713 140621372461888 efficientnet_model.py:147] round_filter input=32 output=56\n",
      "I0421 16:38:32.058781 140621372461888 efficientnet_model.py:147] round_filter input=16 output=32\n",
      "I0421 16:38:32.169297 140621372461888 efficientnet_model.py:147] round_filter input=16 output=32\n",
      "I0421 16:38:32.169411 140621372461888 efficientnet_model.py:147] round_filter input=24 output=40\n",
      "I0421 16:38:32.438128 140621372461888 efficientnet_model.py:147] round_filter input=24 output=40\n",
      "I0421 16:38:32.438244 140621372461888 efficientnet_model.py:147] round_filter input=40 output=72\n",
      "I0421 16:38:32.697930 140621372461888 efficientnet_model.py:147] round_filter input=40 output=72\n",
      "I0421 16:38:32.698037 140621372461888 efficientnet_model.py:147] round_filter input=80 output=144\n",
      "I0421 16:38:33.251464 140621372461888 efficientnet_model.py:147] round_filter input=80 output=144\n",
      "I0421 16:38:33.251573 140621372461888 efficientnet_model.py:147] round_filter input=112 output=200\n",
      "I0421 16:38:33.598163 140621372461888 efficientnet_model.py:147] round_filter input=112 output=200\n",
      "I0421 16:38:33.598278 140621372461888 efficientnet_model.py:147] round_filter input=192 output=344\n",
      "I0421 16:38:34.073890 140621372461888 efficientnet_model.py:147] round_filter input=192 output=344\n",
      "I0421 16:38:34.073997 140621372461888 efficientnet_model.py:147] round_filter input=320 output=576\n",
      "I0421 16:38:34.204176 140621372461888 efficientnet_model.py:147] round_filter input=1280 output=2304\n",
      "I0421 16:38:34.219849 140621372461888 efficientnet_model.py:458] Building model efficientnet with params ModelConfig(width_coefficient=1.8, depth_coefficient=2.6, resolution=528, dropout_rate=0.5, blocks=(BlockConfig(input_filters=32, output_filters=16, kernel_size=3, num_repeat=1, expand_ratio=1, strides=(1, 1), se_ratio=0.25, id_skip=True, fused_conv=False, conv_type='depthwise'), BlockConfig(input_filters=16, output_filters=24, kernel_size=3, num_repeat=2, expand_ratio=6, strides=(2, 2), se_ratio=0.25, id_skip=True, fused_conv=False, conv_type='depthwise'), BlockConfig(input_filters=24, output_filters=40, kernel_size=5, num_repeat=2, expand_ratio=6, strides=(2, 2), se_ratio=0.25, id_skip=True, fused_conv=False, conv_type='depthwise'), BlockConfig(input_filters=40, output_filters=80, kernel_size=3, num_repeat=3, expand_ratio=6, strides=(2, 2), se_ratio=0.25, id_skip=True, fused_conv=False, conv_type='depthwise'), BlockConfig(input_filters=80, output_filters=112, kernel_size=5, num_repeat=3, expand_ratio=6, strides=(1, 1), se_ratio=0.25, id_skip=True, fused_conv=False, conv_type='depthwise'), BlockConfig(input_filters=112, output_filters=192, kernel_size=5, num_repeat=4, expand_ratio=6, strides=(2, 2), se_ratio=0.25, id_skip=True, fused_conv=False, conv_type='depthwise'), BlockConfig(input_filters=192, output_filters=320, kernel_size=3, num_repeat=1, expand_ratio=6, strides=(1, 1), se_ratio=0.25, id_skip=True, fused_conv=False, conv_type='depthwise')), stem_base_filters=32, top_base_filters=1280, activation='simple_swish', batch_norm='default', bn_momentum=0.99, bn_epsilon=0.001, weight_decay=5e-06, drop_connect_rate=0.2, depth_divisor=8, min_depth=None, use_se=True, input_channels=3, num_classes=1000, model_name='efficientnet', rescale_input=False, data_format='channels_last', dtype='float32')\n",
      "I0421 16:38:34.282743 140621372461888 ssd_efficientnet_bifpn_feature_extractor.py:142] EfficientDet EfficientNet backbone version: efficientnet-b7\n",
      "I0421 16:38:34.282841 140621372461888 ssd_efficientnet_bifpn_feature_extractor.py:144] EfficientDet BiFPN num filters: 384\n",
      "I0421 16:38:34.282893 140621372461888 ssd_efficientnet_bifpn_feature_extractor.py:145] EfficientDet BiFPN num iterations: 8\n",
      "I0421 16:38:34.283952 140621372461888 efficientnet_model.py:147] round_filter input=32 output=64\n",
      "I0421 16:38:34.293382 140621372461888 efficientnet_model.py:147] round_filter input=32 output=64\n",
      "I0421 16:38:34.293448 140621372461888 efficientnet_model.py:147] round_filter input=16 output=32\n",
      "I0421 16:38:34.436330 140621372461888 efficientnet_model.py:147] round_filter input=16 output=32\n",
      "I0421 16:38:34.436447 140621372461888 efficientnet_model.py:147] round_filter input=24 output=48\n",
      "I0421 16:38:34.741244 140621372461888 efficientnet_model.py:147] round_filter input=24 output=48\n",
      "I0421 16:38:34.741352 140621372461888 efficientnet_model.py:147] round_filter input=40 output=80\n",
      "I0421 16:38:35.041134 140621372461888 efficientnet_model.py:147] round_filter input=40 output=80\n",
      "I0421 16:38:35.041239 140621372461888 efficientnet_model.py:147] round_filter input=80 output=160\n",
      "I0421 16:38:35.468909 140621372461888 efficientnet_model.py:147] round_filter input=80 output=160\n",
      "I0421 16:38:35.469016 140621372461888 efficientnet_model.py:147] round_filter input=112 output=224\n",
      "I0421 16:38:36.095316 140621372461888 efficientnet_model.py:147] round_filter input=112 output=224\n",
      "I0421 16:38:36.095440 140621372461888 efficientnet_model.py:147] round_filter input=192 output=384\n",
      "I0421 16:38:36.661493 140621372461888 efficientnet_model.py:147] round_filter input=192 output=384\n",
      "I0421 16:38:36.661601 140621372461888 efficientnet_model.py:147] round_filter input=320 output=640\n",
      "I0421 16:38:36.834963 140621372461888 efficientnet_model.py:147] round_filter input=1280 output=2560\n",
      "I0421 16:38:36.852040 140621372461888 efficientnet_model.py:458] Building model efficientnet with params ModelConfig(width_coefficient=2.0, depth_coefficient=3.1, resolution=600, dropout_rate=0.5, blocks=(BlockConfig(input_filters=32, output_filters=16, kernel_size=3, num_repeat=1, expand_ratio=1, strides=(1, 1), se_ratio=0.25, id_skip=True, fused_conv=False, conv_type='depthwise'), BlockConfig(input_filters=16, output_filters=24, kernel_size=3, num_repeat=2, expand_ratio=6, strides=(2, 2), se_ratio=0.25, id_skip=True, fused_conv=False, conv_type='depthwise'), BlockConfig(input_filters=24, output_filters=40, kernel_size=5, num_repeat=2, expand_ratio=6, strides=(2, 2), se_ratio=0.25, id_skip=True, fused_conv=False, conv_type='depthwise'), BlockConfig(input_filters=40, output_filters=80, kernel_size=3, num_repeat=3, expand_ratio=6, strides=(2, 2), se_ratio=0.25, id_skip=True, fused_conv=False, conv_type='depthwise'), BlockConfig(input_filters=80, output_filters=112, kernel_size=5, num_repeat=3, expand_ratio=6, strides=(1, 1), se_ratio=0.25, id_skip=True, fused_conv=False, conv_type='depthwise'), BlockConfig(input_filters=112, output_filters=192, kernel_size=5, num_repeat=4, expand_ratio=6, strides=(2, 2), se_ratio=0.25, id_skip=True, fused_conv=False, conv_type='depthwise'), BlockConfig(input_filters=192, output_filters=320, kernel_size=3, num_repeat=1, expand_ratio=6, strides=(1, 1), se_ratio=0.25, id_skip=True, fused_conv=False, conv_type='depthwise')), stem_base_filters=32, top_base_filters=1280, activation='simple_swish', batch_norm='default', bn_momentum=0.99, bn_epsilon=0.001, weight_decay=5e-06, drop_connect_rate=0.2, depth_divisor=8, min_depth=None, use_se=True, input_channels=3, num_classes=1000, model_name='efficientnet', rescale_input=False, data_format='channels_last', dtype='float32')\n",
      "INFO:tensorflow:time(__main__.ModelBuilderTF2Test.test_create_ssd_models_from_config): 12.67s\n",
      "I0421 16:38:36.924404 140621372461888 test_util.py:2188] time(__main__.ModelBuilderTF2Test.test_create_ssd_models_from_config): 12.67s\n",
      "[       OK ] ModelBuilderTF2Test.test_create_ssd_models_from_config\n",
      "[ RUN      ] ModelBuilderTF2Test.test_invalid_faster_rcnn_batchnorm_update\n",
      "INFO:tensorflow:time(__main__.ModelBuilderTF2Test.test_invalid_faster_rcnn_batchnorm_update): 0.0s\n",
      "I0421 16:38:36.932880 140621372461888 test_util.py:2188] time(__main__.ModelBuilderTF2Test.test_invalid_faster_rcnn_batchnorm_update): 0.0s\n",
      "[       OK ] ModelBuilderTF2Test.test_invalid_faster_rcnn_batchnorm_update\n",
      "[ RUN      ] ModelBuilderTF2Test.test_invalid_first_stage_nms_iou_threshold\n",
      "INFO:tensorflow:time(__main__.ModelBuilderTF2Test.test_invalid_first_stage_nms_iou_threshold): 0.0s\n",
      "I0421 16:38:36.933984 140621372461888 test_util.py:2188] time(__main__.ModelBuilderTF2Test.test_invalid_first_stage_nms_iou_threshold): 0.0s\n",
      "[       OK ] ModelBuilderTF2Test.test_invalid_first_stage_nms_iou_threshold\n",
      "[ RUN      ] ModelBuilderTF2Test.test_invalid_model_config_proto\n",
      "INFO:tensorflow:time(__main__.ModelBuilderTF2Test.test_invalid_model_config_proto): 0.0s\n",
      "I0421 16:38:36.934281 140621372461888 test_util.py:2188] time(__main__.ModelBuilderTF2Test.test_invalid_model_config_proto): 0.0s\n",
      "[       OK ] ModelBuilderTF2Test.test_invalid_model_config_proto\n",
      "[ RUN      ] ModelBuilderTF2Test.test_invalid_second_stage_batch_size\n",
      "INFO:tensorflow:time(__main__.ModelBuilderTF2Test.test_invalid_second_stage_batch_size): 0.0s\n",
      "I0421 16:38:36.935263 140621372461888 test_util.py:2188] time(__main__.ModelBuilderTF2Test.test_invalid_second_stage_batch_size): 0.0s\n",
      "[       OK ] ModelBuilderTF2Test.test_invalid_second_stage_batch_size\n",
      "[ RUN      ] ModelBuilderTF2Test.test_session\n",
      "[  SKIPPED ] ModelBuilderTF2Test.test_session\n",
      "[ RUN      ] ModelBuilderTF2Test.test_unknown_faster_rcnn_feature_extractor\n",
      "INFO:tensorflow:time(__main__.ModelBuilderTF2Test.test_unknown_faster_rcnn_feature_extractor): 0.0s\n",
      "I0421 16:38:36.936137 140621372461888 test_util.py:2188] time(__main__.ModelBuilderTF2Test.test_unknown_faster_rcnn_feature_extractor): 0.0s\n",
      "[       OK ] ModelBuilderTF2Test.test_unknown_faster_rcnn_feature_extractor\n",
      "[ RUN      ] ModelBuilderTF2Test.test_unknown_meta_architecture\n",
      "INFO:tensorflow:time(__main__.ModelBuilderTF2Test.test_unknown_meta_architecture): 0.0s\n",
      "I0421 16:38:36.936381 140621372461888 test_util.py:2188] time(__main__.ModelBuilderTF2Test.test_unknown_meta_architecture): 0.0s\n",
      "[       OK ] ModelBuilderTF2Test.test_unknown_meta_architecture\n",
      "[ RUN      ] ModelBuilderTF2Test.test_unknown_ssd_feature_extractor\n",
      "INFO:tensorflow:time(__main__.ModelBuilderTF2Test.test_unknown_ssd_feature_extractor): 0.0s\n",
      "I0421 16:38:36.937037 140621372461888 test_util.py:2188] time(__main__.ModelBuilderTF2Test.test_unknown_ssd_feature_extractor): 0.0s\n",
      "[       OK ] ModelBuilderTF2Test.test_unknown_ssd_feature_extractor\n",
      "----------------------------------------------------------------------\n",
      "Ran 24 tests in 15.651s\n",
      "\n",
      "OK (skipped=1)\n"
     ]
    }
   ],
   "source": [
    "VERIFICATION_SCRIPT = os.path.join(paths['APIMODEL_PATH'], 'research', 'object_detection', 'builders', 'model_builder_tf2_test.py')\n",
    "# Verify Installation\n",
    "!python {VERIFICATION_SCRIPT}"
   ]
  },
  {
   "cell_type": "code",
   "execution_count": 8,
   "metadata": {},
   "outputs": [
    {
     "name": "stdout",
     "output_type": "stream",
     "text": [
      "Tue Apr 12 14:42:20 2022       \n",
      "+-----------------------------------------------------------------------------+\n",
      "| NVIDIA-SMI 510.54       Driver Version: 510.54       CUDA Version: 11.6     |\n",
      "|-------------------------------+----------------------+----------------------+\n",
      "| GPU  Name        Persistence-M| Bus-Id        Disp.A | Volatile Uncorr. ECC |\n",
      "| Fan  Temp  Perf  Pwr:Usage/Cap|         Memory-Usage | GPU-Util  Compute M. |\n",
      "|                               |                      |               MIG M. |\n",
      "|===============================+======================+======================|\n",
      "|   0  NVIDIA GeForce ...  Off  | 00000000:15:00.0 Off |                  N/A |\n",
      "|  0%   52C    P0    75W / 250W |    169MiB / 11264MiB |      0%      Default |\n",
      "|                               |                      |                  N/A |\n",
      "+-------------------------------+----------------------+----------------------+\n",
      "                                                                               \n",
      "+-----------------------------------------------------------------------------+\n",
      "| Processes:                                                                  |\n",
      "|  GPU   GI   CI        PID   Type   Process name                  GPU Memory |\n",
      "|        ID   ID                                                   Usage      |\n",
      "|=============================================================================|\n",
      "|    0   N/A  N/A      1256      G   /usr/lib/xorg/Xorg                 29MiB |\n",
      "|    0   N/A  N/A      1907      G   /usr/lib/xorg/Xorg                 89MiB |\n",
      "|    0   N/A  N/A      2038      G   /usr/bin/gnome-shell                8MiB |\n",
      "|    0   N/A  N/A    105412      G   ...mviewer/tv_bin/TeamViewer       11MiB |\n",
      "+-----------------------------------------------------------------------------+\n"
     ]
    }
   ],
   "source": [
    "#!pip list\n",
    "!nvidia-smi"
   ]
  },
  {
   "cell_type": "code",
   "execution_count": 8,
   "metadata": {},
   "outputs": [
    {
     "name": "stdout",
     "output_type": "stream",
     "text": [
      "dritonbahtiri :1           2022-03-28 08:43 (:1)\n",
      "josefine pts/7        2022-04-19 13:38 (85.148.49.130)\n"
     ]
    }
   ],
   "source": [
    "!who"
   ]
  },
  {
   "cell_type": "code",
   "execution_count": 8,
   "metadata": {
    "colab": {
     "base_uri": "https://localhost:8080/"
    },
    "id": "csofht2npfDE",
    "outputId": "ff5471b2-bed2-43f2-959c-327a706527b6"
   },
   "outputs": [
    {
     "name": "stdout",
     "output_type": "stream",
     "text": [
      "--2022-04-12 14:10:33--  http://download.tensorflow.org/models/object_detection/tf2/20200713/centernet_hg104_1024x1024_coco17_tpu-32.tar.gz\n",
      "Resolving download.tensorflow.org (download.tensorflow.org)... 142.250.179.208, 2a00:1450:400e:803::2010\n",
      "Connecting to download.tensorflow.org (download.tensorflow.org)|142.250.179.208|:80... connected.\n",
      "HTTP request sent, awaiting response... 200 OK\n",
      "Length: 1424430731 (1,3G) [application/x-tar]\n",
      "Saving to: ‘centernet_hg104_1024x1024_coco17_tpu-32.tar.gz’\n",
      "\n",
      "centernet_hg104_102  98%[==================> ]   1,31G  45,1MB/s    in 22s     \n",
      "\n",
      "\n",
      "Cannot write to ‘centernet_hg104_1024x1024_coco17_tpu-32.tar.gz’ (No space left on device).\n",
      "centernet_hg104_1024x1024_coco17_tpu-32/\n",
      "centernet_hg104_1024x1024_coco17_tpu-32/checkpoint/\n",
      "centernet_hg104_1024x1024_coco17_tpu-32/checkpoint/ckpt-0.data-00000-of-00001\n",
      "centernet_hg104_1024x1024_coco17_tpu-32/checkpoint/checkpoint\n",
      "centernet_hg104_1024x1024_coco17_tpu-32/checkpoint/ckpt-0.index\n",
      "centernet_hg104_1024x1024_coco17_tpu-32/pipeline.config\n",
      "centernet_hg104_1024x1024_coco17_tpu-32/saved_model/\n",
      "centernet_hg104_1024x1024_coco17_tpu-32/saved_model/saved_model.pb\n",
      "centernet_hg104_1024x1024_coco17_tpu-32/saved_model/assets/\n",
      "centernet_hg104_1024x1024_coco17_tpu-32/saved_model/variables/\n",
      "centernet_hg104_1024x1024_coco17_tpu-32/saved_model/variables/variables.data-00000-of-00001\n",
      "\n",
      "gzip: stdin: unexpected end of file\n",
      "tar: Unexpected EOF in archive\n",
      "tar: Unexpected EOF in archive\n",
      "tar: Error is not recoverable: exiting now\n"
     ]
    }
   ],
   "source": [
    "# download model from tf model zoo\n",
    "if os.name =='posix':\n",
    "    !wget {PRETRAINED_MODEL_URL}\n",
    "    !mv {PRETRAINED_MODEL_NAME+'.tar.gz'} {paths['PRETRAINED_MODEL_PATH']}\n",
    "    !cd {paths['PRETRAINED_MODEL_PATH']} && tar -zxvf {PRETRAINED_MODEL_NAME+'.tar.gz'}\n",
    "if os.name == 'nt':\n",
    "    wget.download(PRETRAINED_MODEL_URL)\n",
    "    !move {PRETRAINED_MODEL_NAME+'.tar.gz'} {paths['PRETRAINED_MODEL_PATH']}\n",
    "    !cd {paths['PRETRAINED_MODEL_PATH']} && tar -zxvf {PRETRAINED_MODEL_NAME+'.tar.gz'}"
   ]
  },
  {
   "cell_type": "markdown",
   "metadata": {
    "id": "M5KJTnkfpfDC"
   },
   "source": [
    "# 2. Create Label Map"
   ]
  },
  {
   "cell_type": "code",
   "execution_count": 8,
   "metadata": {
    "id": "p1BVDWo7pfDC"
   },
   "outputs": [],
   "source": [
    "labels = [{'name':'Bubble', 'id':1}]\n",
    "\n",
    "# write into label map file\n",
    "with open(files['LABELMAP'], 'w') as f:\n",
    "    for label in labels:\n",
    "        f.write('item { \\n')\n",
    "        f.write('\\tname:\\'{}\\'\\n'.format(label['name']))\n",
    "        f.write('\\tid:{}\\n'.format(label['id']))\n",
    "        f.write('}\\n')"
   ]
  },
  {
   "cell_type": "markdown",
   "metadata": {
    "id": "C88zyVELpfDC"
   },
   "source": [
    "# 3. Create TF records\n",
    "- binary storage format\n",
    "- convert annotations and images into format for training\n",
    "- storing data as sequence of binary strings has impact on training time\n",
    "- (less space on disk, copy faster, read efficiently)"
   ]
  },
  {
   "cell_type": "code",
   "execution_count": 9,
   "metadata": {
    "colab": {
     "base_uri": "https://localhost:8080/"
    },
    "id": "UPFToGZqpfDD",
    "outputId": "0ebb456f-aadc-4a1f-96e6-fbfec1923e1c",
    "scrolled": true
   },
   "outputs": [
    {
     "name": "stdout",
     "output_type": "stream",
     "text": [
      "Successfully created the TFRecord file: Tensorflow/workspace/annotations/my_centernet_hg104_1024_8/train.record\n",
      "Successfully created the TFRecord file: Tensorflow/workspace/annotations/my_centernet_hg104_1024_8/test.record\n"
     ]
    }
   ],
   "source": [
    "# create TFRecord file\n",
    "# --> train and test record file within annotations path\n",
    "!python {files['TF_RECORD_SCRIPT']} -x {os.path.join(paths['IMAGE_PATH'], 'train')} -l {files['LABELMAP']} -o {os.path.join(paths['ANNOTATION_PATH'], 'train.record')} \n",
    "!python {files['TF_RECORD_SCRIPT']} -x {os.path.join(paths['IMAGE_PATH'], 'test')} -l {files['LABELMAP']} -o {os.path.join(paths['ANNOTATION_PATH'], 'test.record')} "
   ]
  },
  {
   "cell_type": "markdown",
   "metadata": {
    "id": "qT4QU7pLpfDE"
   },
   "source": [
    "# 4. Copy Model Config to Training Folder\n",
    "- pipeline.config defines architecture of model\n",
    "- contains e.g. prebuilt data augmentation\n",
    "- see pipeline file in pre-trained model folder --> preset configurations (e.g. data augmentation etc.)"
   ]
  },
  {
   "cell_type": "code",
   "execution_count": 10,
   "metadata": {
    "id": "cOjuTFbwpfDF"
   },
   "outputs": [],
   "source": [
    "# copy pipeline.config into my_model folder\n",
    "if os.name =='posix':\n",
    "    !cp {os.path.join(paths['PRETRAINED_MODEL_PATH'], PRETRAINED_MODEL_NAME, 'pipeline.config')} {os.path.join(paths['CHECKPOINT_PATH'])}\n",
    "if os.name == 'nt':\n",
    "    !copy {os.path.join(paths['PRETRAINED_MODEL_PATH'], PRETRAINED_MODEL_NAME, 'pipeline.config')} {os.path.join(paths['CHECKPOINT_PATH'])}"
   ]
  },
  {
   "cell_type": "markdown",
   "metadata": {
    "id": "Ga8gpNslpfDF"
   },
   "source": [
    "# 5. Update Config For Transfer Learning\n",
    "config file: change parameter of the model"
   ]
  },
  {
   "cell_type": "code",
   "execution_count": 11,
   "metadata": {
    "id": "Z9hRrO_ppfDF"
   },
   "outputs": [],
   "source": [
    "import tensorflow as tf\n",
    "from object_detection.utils import config_util\n",
    "from object_detection.protos import pipeline_pb2\n",
    "from google.protobuf import text_format"
   ]
  },
  {
   "cell_type": "code",
   "execution_count": 12,
   "metadata": {
    "id": "c2A0mn4ipfDF"
   },
   "outputs": [],
   "source": [
    "config = config_util.get_configs_from_pipeline_file(files['PIPELINE_CONFIG'])"
   ]
  },
  {
   "cell_type": "code",
   "execution_count": 13,
   "metadata": {
    "colab": {
     "base_uri": "https://localhost:8080/"
    },
    "id": "uQA13-afpfDF",
    "outputId": "907496a4-a39d-4b13-8c2c-e5978ecb1f10"
   },
   "outputs": [
    {
     "data": {
      "text/plain": [
       "{'model': center_net {\n",
       "   num_classes: 90\n",
       "   feature_extractor {\n",
       "     type: \"hourglass_104\"\n",
       "     channel_means: 104.01361846923828\n",
       "     channel_means: 114.03422546386719\n",
       "     channel_means: 119.91659545898438\n",
       "     channel_stds: 73.60276794433594\n",
       "     channel_stds: 69.89082336425781\n",
       "     channel_stds: 70.91507720947266\n",
       "     bgr_ordering: true\n",
       "   }\n",
       "   image_resizer {\n",
       "     keep_aspect_ratio_resizer {\n",
       "       min_dimension: 1024\n",
       "       max_dimension: 1024\n",
       "       pad_to_max_dimension: true\n",
       "     }\n",
       "   }\n",
       "   object_detection_task {\n",
       "     task_loss_weight: 1.0\n",
       "     offset_loss_weight: 1.0\n",
       "     scale_loss_weight: 0.10000000149011612\n",
       "     localization_loss {\n",
       "       l1_localization_loss {\n",
       "       }\n",
       "     }\n",
       "   }\n",
       "   object_center_params {\n",
       "     object_center_loss_weight: 1.0\n",
       "     classification_loss {\n",
       "       penalty_reduced_logistic_focal_loss {\n",
       "         alpha: 2.0\n",
       "         beta: 4.0\n",
       "       }\n",
       "     }\n",
       "     min_box_overlap_iou: 0.699999988079071\n",
       "     max_box_predictions: 100\n",
       "   }\n",
       " },\n",
       " 'train_config': batch_size: 128\n",
       " data_augmentation_options {\n",
       "   random_horizontal_flip {\n",
       "   }\n",
       " }\n",
       " data_augmentation_options {\n",
       "   random_adjust_hue {\n",
       "   }\n",
       " }\n",
       " data_augmentation_options {\n",
       "   random_adjust_contrast {\n",
       "   }\n",
       " }\n",
       " data_augmentation_options {\n",
       "   random_adjust_saturation {\n",
       "   }\n",
       " }\n",
       " data_augmentation_options {\n",
       "   random_adjust_brightness {\n",
       "   }\n",
       " }\n",
       " data_augmentation_options {\n",
       "   random_square_crop_by_scale {\n",
       "     scale_min: 0.6000000238418579\n",
       "     scale_max: 1.2999999523162842\n",
       "   }\n",
       " }\n",
       " optimizer {\n",
       "   adam_optimizer {\n",
       "     learning_rate {\n",
       "       cosine_decay_learning_rate {\n",
       "         learning_rate_base: 0.0010000000474974513\n",
       "         total_steps: 50000\n",
       "         warmup_learning_rate: 0.0002500000118743628\n",
       "         warmup_steps: 5000\n",
       "       }\n",
       "     }\n",
       "     epsilon: 1.0000000116860974e-07\n",
       "   }\n",
       "   use_moving_average: false\n",
       " }\n",
       " fine_tune_checkpoint: \"PATH_TO_BE_CONFIGURED\"\n",
       " num_steps: 50000\n",
       " max_number_of_boxes: 100\n",
       " unpad_groundtruth_tensors: false\n",
       " fine_tune_checkpoint_type: \"detection\"\n",
       " fine_tune_checkpoint_version: V2,\n",
       " 'train_input_config': tf_record_input_reader {\n",
       "   input_path: \"PATH_TO_BE_CONFIGURED\"\n",
       " },\n",
       " 'eval_config': metrics_set: \"coco_detection_metrics\"\n",
       " use_moving_averages: false\n",
       " batch_size: 1,\n",
       " 'eval_input_configs': [label_map_path: \"PATH_TO_BE_CONFIGURED\"\n",
       " shuffle: false\n",
       " num_epochs: 1\n",
       " tf_record_input_reader {\n",
       "   input_path: \"PATH_TO_BE_CONFIGURED\"\n",
       " }\n",
       " ],\n",
       " 'eval_input_config': label_map_path: \"PATH_TO_BE_CONFIGURED\"\n",
       " shuffle: false\n",
       " num_epochs: 1\n",
       " tf_record_input_reader {\n",
       "   input_path: \"PATH_TO_BE_CONFIGURED\"\n",
       " }}"
      ]
     },
     "execution_count": 13,
     "metadata": {},
     "output_type": "execute_result"
    }
   ],
   "source": [
    "config"
   ]
  },
  {
   "cell_type": "code",
   "execution_count": 52,
   "metadata": {},
   "outputs": [],
   "source": [
    "#ckeys = config.keys()\n",
    "#print(type(ckeys))\n",
    "#print(list(ckeys)[0])"
   ]
  },
  {
   "cell_type": "code",
   "execution_count": 14,
   "metadata": {
    "id": "9vK5lotDpfDF"
   },
   "outputs": [],
   "source": [
    "pipeline_config = pipeline_pb2.TrainEvalPipelineConfig()\n",
    "with tf.io.gfile.GFile(files['PIPELINE_CONFIG'], \"r\") as f:                                                                                                                                                                                                                     \n",
    "    proto_str = f.read()                                                                                                                                                                                                                                          \n",
    "    text_format.Merge(proto_str, pipeline_config)  "
   ]
  },
  {
   "cell_type": "markdown",
   "metadata": {},
   "source": [
    "MODIFY FIRST LINE!\n",
    "- pipeline_config.model.###\n",
    "- insert model name (shown in first line of config file)"
   ]
  },
  {
   "cell_type": "code",
   "execution_count": 15,
   "metadata": {
    "id": "rP43Ph0JpfDG"
   },
   "outputs": [],
   "source": [
    "# modify pipeline.config for personal use case (num classes, set paths etc.)\n",
    "pipeline_config.model.center_net.num_classes = len(labels)\n",
    "pipeline_config.train_config.batch_size = 1\n",
    "pipeline_config.train_config.fine_tune_checkpoint = os.path.join(paths['PRETRAINED_MODEL_PATH'], PRETRAINED_MODEL_NAME, 'checkpoint', 'ckpt-0')\n",
    "pipeline_config.train_config.fine_tune_checkpoint_type = \"detection\"\n",
    "pipeline_config.train_input_reader.label_map_path= files['LABELMAP']\n",
    "pipeline_config.train_input_reader.tf_record_input_reader.input_path[:] = [os.path.join(paths['ANNOTATION_PATH'], 'train.record')]\n",
    "pipeline_config.eval_input_reader[0].label_map_path = files['LABELMAP']\n",
    "pipeline_config.eval_input_reader[0].tf_record_input_reader.input_path[:] = [os.path.join(paths['ANNOTATION_PATH'], 'test.record')]"
   ]
  },
  {
   "cell_type": "code",
   "execution_count": 16,
   "metadata": {},
   "outputs": [
    {
     "name": "stdout",
     "output_type": "stream",
     "text": [
      "['Tensorflow/workspace/annotations/my_centernet_hg104_1024_8/test.record']\n"
     ]
    }
   ],
   "source": [
    "print([os.path.join(paths['ANNOTATION_PATH'], 'test.record')])"
   ]
  },
  {
   "cell_type": "code",
   "execution_count": 17,
   "metadata": {
    "id": "oJvfgwWqpfDG"
   },
   "outputs": [],
   "source": [
    "config_text = text_format.MessageToString(pipeline_config)                                                                                                                                                                                                        \n",
    "with tf.io.gfile.GFile(files['PIPELINE_CONFIG'], \"wb\") as f:                                                                                                                                                                                                                     \n",
    "    f.write(config_text)   "
   ]
  },
  {
   "cell_type": "markdown",
   "metadata": {
    "id": "Zr3ON7xMpfDG"
   },
   "source": [
    "# 6. Train the model\n",
    "Before Training, my_model directory must be empty!"
   ]
  },
  {
   "cell_type": "code",
   "execution_count": 6,
   "metadata": {
    "id": "B-Y2UQmQpfDG"
   },
   "outputs": [],
   "source": [
    "TRAINING_SCRIPT = os.path.join(paths['APIMODEL_PATH'], 'research', 'object_detection', 'model_main_tf2.py')"
   ]
  },
  {
   "cell_type": "code",
   "execution_count": 19,
   "metadata": {},
   "outputs": [
    {
     "name": "stdout",
     "output_type": "stream",
     "text": [
      "Num GPUs Available:  1\n"
     ]
    }
   ],
   "source": [
    "# test if GPU is available\n",
    "print(\"Num GPUs Available: \", len(tf.config.list_physical_devices('GPU')))\n",
    "\n",
    "# check GPU use\n",
    "# watch -n0.1 nvidia-smi"
   ]
  },
  {
   "cell_type": "code",
   "execution_count": 20,
   "metadata": {
    "id": "jMP2XDfQpfDH"
   },
   "outputs": [],
   "source": [
    "command = \"python {} --model_dir={} --pipeline_config_path={} --num_train_steps=20000\".format(TRAINING_SCRIPT, paths['CHECKPOINT_PATH'],files['PIPELINE_CONFIG'])"
   ]
  },
  {
   "cell_type": "code",
   "execution_count": 21,
   "metadata": {
    "colab": {
     "base_uri": "https://localhost:8080/"
    },
    "id": "A4OXXi-ApfDH",
    "outputId": "117a0e83-012b-466e-b7a6-ccaa349ac5ab",
    "scrolled": true
   },
   "outputs": [
    {
     "name": "stdout",
     "output_type": "stream",
     "text": [
      "python Tensorflow/models/research/object_detection/model_main_tf2.py --model_dir=Tensorflow/workspace/models/my_centernet_hg104_1024_8 --pipeline_config_path=Tensorflow/workspace/models/my_centernet_hg104_1024_8/pipeline.config --num_train_steps=20000\n"
     ]
    }
   ],
   "source": [
    "# to see training status, copy command to prompt and run from there\n",
    "# (from tfodCourse directory and with activated environment)\n",
    "print(command)"
   ]
  },
  {
   "cell_type": "markdown",
   "metadata": {},
   "source": [
    "- runs model_main_tf2.py\n",
    "- arguments passed:\n",
    "    - model directory\n",
    "    - directory of pipeline.config\n",
    "    - number of training steps"
   ]
  },
  {
   "cell_type": "code",
   "execution_count": 39,
   "metadata": {
    "colab": {
     "base_uri": "https://localhost:8080/"
    },
    "collapsed": true,
    "id": "i3ZsJR-qpfDH",
    "outputId": "cabec5e1-45e6-4f2f-d9cf-297d9c1d0225"
   },
   "outputs": [
    {
     "name": "stdout",
     "output_type": "stream",
     "text": [
      "2021-11-24 11:57:14.384791: I tensorflow/core/platform/cpu_feature_guard.cc:142] This TensorFlow binary is optimized with oneAPI Deep Neural Network Library (oneDNN) to use the following CPU instructions in performance-critical operations:  AVX2 AVX512F FMA\n",
      "To enable them in other operations, rebuild TensorFlow with the appropriate compiler flags.\n",
      "2021-11-24 11:57:14.956688: I tensorflow/core/common_runtime/gpu/gpu_device.cc:1510] Created device /job:localhost/replica:0/task:0/device:GPU:0 with 10265 MB memory:  -> device: 0, name: GeForce GTX 1080 Ti, pci bus id: 0000:15:00.0, compute capability: 6.1\n",
      "INFO:tensorflow:Using MirroredStrategy with devices ('/job:localhost/replica:0/task:0/device:GPU:0',)\n",
      "I1124 11:57:15.128776 140224440755008 mirrored_strategy.py:369] Using MirroredStrategy with devices ('/job:localhost/replica:0/task:0/device:GPU:0',)\n",
      "INFO:tensorflow:Maybe overwriting train_steps: 5000\n",
      "I1124 11:57:15.132200 140224440755008 config_util.py:552] Maybe overwriting train_steps: 5000\n",
      "INFO:tensorflow:Maybe overwriting use_bfloat16: False\n",
      "I1124 11:57:15.132313 140224440755008 config_util.py:552] Maybe overwriting use_bfloat16: False\n",
      "WARNING:tensorflow:From /home/josefine/.conda/envs/tfod_v2/lib/python3.8/site-packages/object_detection/model_lib_v2.py:557: StrategyBase.experimental_distribute_datasets_from_function (from tensorflow.python.distribute.distribute_lib) is deprecated and will be removed in a future version.\n",
      "Instructions for updating:\n",
      "rename to distribute_datasets_from_function\n",
      "W1124 11:57:15.281029 140224440755008 deprecation.py:339] From /home/josefine/.conda/envs/tfod_v2/lib/python3.8/site-packages/object_detection/model_lib_v2.py:557: StrategyBase.experimental_distribute_datasets_from_function (from tensorflow.python.distribute.distribute_lib) is deprecated and will be removed in a future version.\n",
      "Instructions for updating:\n",
      "rename to distribute_datasets_from_function\n",
      "INFO:tensorflow:Reading unweighted datasets: ['Tensorflow/workspace/annotations/my_faster_rcnn_resnet101_v1_1024/train.record']\n",
      "I1124 11:57:15.283201 140224440755008 dataset_builder.py:163] Reading unweighted datasets: ['Tensorflow/workspace/annotations/my_faster_rcnn_resnet101_v1_1024/train.record']\n",
      "INFO:tensorflow:Reading record datasets for input file: ['Tensorflow/workspace/annotations/my_faster_rcnn_resnet101_v1_1024/train.record']\n",
      "I1124 11:57:15.283335 140224440755008 dataset_builder.py:80] Reading record datasets for input file: ['Tensorflow/workspace/annotations/my_faster_rcnn_resnet101_v1_1024/train.record']\n",
      "INFO:tensorflow:Number of filenames to read: 1\n",
      "I1124 11:57:15.283378 140224440755008 dataset_builder.py:81] Number of filenames to read: 1\n",
      "WARNING:tensorflow:num_readers has been reduced to 1 to match input file shards.\n",
      "W1124 11:57:15.283412 140224440755008 dataset_builder.py:87] num_readers has been reduced to 1 to match input file shards.\n",
      "WARNING:tensorflow:From /home/josefine/.conda/envs/tfod_v2/lib/python3.8/site-packages/object_detection/builders/dataset_builder.py:101: parallel_interleave (from tensorflow.python.data.experimental.ops.interleave_ops) is deprecated and will be removed in a future version.\n",
      "Instructions for updating:\n",
      "Use `tf.data.Dataset.interleave(map_func, cycle_length, block_length, num_parallel_calls=tf.data.AUTOTUNE)` instead. If sloppy execution is desired, use `tf.data.Options.experimental_deterministic`.\n",
      "W1124 11:57:15.285368 140224440755008 deprecation.py:339] From /home/josefine/.conda/envs/tfod_v2/lib/python3.8/site-packages/object_detection/builders/dataset_builder.py:101: parallel_interleave (from tensorflow.python.data.experimental.ops.interleave_ops) is deprecated and will be removed in a future version.\n",
      "Instructions for updating:\n",
      "Use `tf.data.Dataset.interleave(map_func, cycle_length, block_length, num_parallel_calls=tf.data.AUTOTUNE)` instead. If sloppy execution is desired, use `tf.data.Options.experimental_deterministic`.\n",
      "WARNING:tensorflow:From /home/josefine/.conda/envs/tfod_v2/lib/python3.8/site-packages/object_detection/builders/dataset_builder.py:236: DatasetV1.map_with_legacy_function (from tensorflow.python.data.ops.dataset_ops) is deprecated and will be removed in a future version.\n",
      "Instructions for updating:\n",
      "Use `tf.data.Dataset.map()\n",
      "W1124 11:57:15.302454 140224440755008 deprecation.py:339] From /home/josefine/.conda/envs/tfod_v2/lib/python3.8/site-packages/object_detection/builders/dataset_builder.py:236: DatasetV1.map_with_legacy_function (from tensorflow.python.data.ops.dataset_ops) is deprecated and will be removed in a future version.\n",
      "Instructions for updating:\n",
      "Use `tf.data.Dataset.map()\n",
      "WARNING:tensorflow:From /home/josefine/.conda/envs/tfod_v2/lib/python3.8/site-packages/tensorflow/python/util/dispatch.py:206: sparse_to_dense (from tensorflow.python.ops.sparse_ops) is deprecated and will be removed in a future version.\n",
      "Instructions for updating:\n",
      "Create a `tf.sparse.SparseTensor` and use `tf.sparse.to_dense` instead.\n",
      "W1124 11:57:21.314090 140224440755008 deprecation.py:339] From /home/josefine/.conda/envs/tfod_v2/lib/python3.8/site-packages/tensorflow/python/util/dispatch.py:206: sparse_to_dense (from tensorflow.python.ops.sparse_ops) is deprecated and will be removed in a future version.\n",
      "Instructions for updating:\n",
      "Create a `tf.sparse.SparseTensor` and use `tf.sparse.to_dense` instead.\n",
      "WARNING:tensorflow:From /home/josefine/.conda/envs/tfod_v2/lib/python3.8/site-packages/tensorflow/python/autograph/impl/api.py:464: to_float (from tensorflow.python.ops.math_ops) is deprecated and will be removed in a future version.\n",
      "Instructions for updating:\n",
      "Use `tf.cast` instead.\n",
      "W1124 11:57:25.200062 140224440755008 deprecation.py:339] From /home/josefine/.conda/envs/tfod_v2/lib/python3.8/site-packages/tensorflow/python/autograph/impl/api.py:464: to_float (from tensorflow.python.ops.math_ops) is deprecated and will be removed in a future version.\n",
      "Instructions for updating:\n",
      "Use `tf.cast` instead.\n",
      "2021-11-24 11:57:27.023469: I tensorflow/compiler/mlir/mlir_graph_optimization_pass.cc:185] None of the MLIR Optimization Passes are enabled (registered 2)\n",
      "2021-11-24 11:57:29.744333: W tensorflow/core/framework/cpu_allocator_impl.cc:80] Allocation of 43274412 exceeds 10% of free system memory.\n",
      "2021-11-24 11:57:29.748703: W tensorflow/core/framework/cpu_allocator_impl.cc:80] Allocation of 43274412 exceeds 10% of free system memory.\n",
      "2021-11-24 11:57:29.770105: W tensorflow/core/framework/cpu_allocator_impl.cc:80] Allocation of 43274412 exceeds 10% of free system memory.\n",
      "2021-11-24 11:57:29.801644: W tensorflow/core/framework/cpu_allocator_impl.cc:80] Allocation of 43274412 exceeds 10% of free system memory.\n",
      "2021-11-24 11:57:29.813089: W tensorflow/core/framework/cpu_allocator_impl.cc:80] Allocation of 30989388 exceeds 10% of free system memory.\n",
      "/home/josefine/.conda/envs/tfod_v2/lib/python3.8/site-packages/keras/backend.py:401: UserWarning: `tf.keras.backend.set_learning_phase` is deprecated and will be removed after 2020-10-11. To update it, simply pass a True/False value to the `training` argument of the `__call__` method of your layer or model.\n",
      "  warnings.warn('`tf.keras.backend.set_learning_phase` is deprecated and '\n",
      "INFO:tensorflow:depth of additional conv before box predictor: 0\n",
      "I1124 11:57:35.828636 140201280136960 convolutional_keras_box_predictor.py:153] depth of additional conv before box predictor: 0\n",
      "WARNING:tensorflow:From /home/josefine/.conda/envs/tfod_v2/lib/python3.8/site-packages/tensorflow/python/autograph/impl/api.py:464: Tensor.experimental_ref (from tensorflow.python.framework.ops) is deprecated and will be removed in a future version.\n",
      "Instructions for updating:\n",
      "Use ref() instead.\n",
      "W1124 11:57:41.819036 140201280136960 deprecation.py:339] From /home/josefine/.conda/envs/tfod_v2/lib/python3.8/site-packages/tensorflow/python/autograph/impl/api.py:464: Tensor.experimental_ref (from tensorflow.python.framework.ops) is deprecated and will be removed in a future version.\n",
      "Instructions for updating:\n",
      "Use ref() instead.\n",
      "^C\n",
      "INFO:tensorflow:Error reported to Coordinator: \n",
      "Traceback (most recent call last):\n",
      "  File \"/home/josefine/.conda/envs/tfod_v2/lib/python3.8/site-packages/tensorflow/python/training/coordinator.py\", line 297, in stop_on_exception\n",
      "    yield\n",
      "  File \"/home/josefine/.conda/envs/tfod_v2/lib/python3.8/site-packages/tensorflow/python/distribute/mirrored_run.py\", line 208, in _call_for_each_replica\n",
      "    t.has_paused.wait()\n",
      "  File \"/home/josefine/.conda/envs/tfod_v2/lib/python3.8/threading.py\", line 558, in wait\n",
      "    signaled = self._cond.wait(timeout)\n",
      "  File \"/home/josefine/.conda/envs/tfod_v2/lib/python3.8/threading.py\", line 302, in wait\n",
      "    waiter.acquire()\n",
      "KeyboardInterrupt\n",
      "I1124 11:57:43.274191 140224440755008 coordinator.py:217] Error reported to Coordinator: \n",
      "Traceback (most recent call last):\n",
      "  File \"/home/josefine/.conda/envs/tfod_v2/lib/python3.8/site-packages/tensorflow/python/training/coordinator.py\", line 297, in stop_on_exception\n",
      "    yield\n",
      "  File \"/home/josefine/.conda/envs/tfod_v2/lib/python3.8/site-packages/tensorflow/python/distribute/mirrored_run.py\", line 208, in _call_for_each_replica\n",
      "    t.has_paused.wait()\n",
      "  File \"/home/josefine/.conda/envs/tfod_v2/lib/python3.8/threading.py\", line 558, in wait\n",
      "    signaled = self._cond.wait(timeout)\n",
      "  File \"/home/josefine/.conda/envs/tfod_v2/lib/python3.8/threading.py\", line 302, in wait\n",
      "    waiter.acquire()\n",
      "KeyboardInterrupt\n"
     ]
    }
   ],
   "source": [
    "#!{command}"
   ]
  },
  {
   "cell_type": "markdown",
   "metadata": {
    "id": "4_YRZu7npfDH"
   },
   "source": [
    "# 7. Evaluate the Model\n",
    "Calculate performance metrics"
   ]
  },
  {
   "cell_type": "code",
   "execution_count": 7,
   "metadata": {
    "id": "80L7-fdPpfDH"
   },
   "outputs": [],
   "source": [
    "command = \"python {} --model_dir={} --pipeline_config_path={} --checkpoint_dir={}\".format(TRAINING_SCRIPT, paths['CHECKPOINT_PATH'],files['PIPELINE_CONFIG'], paths['CHECKPOINT_PATH'])"
   ]
  },
  {
   "cell_type": "code",
   "execution_count": 8,
   "metadata": {
    "colab": {
     "base_uri": "https://localhost:8080/"
    },
    "id": "lYsgEPx9pfDH",
    "outputId": "8632d48b-91d2-45d9-bcb8-c1b172bf6eed"
   },
   "outputs": [
    {
     "name": "stdout",
     "output_type": "stream",
     "text": [
      "python Tensorflow/models/research/object_detection/model_main_tf2.py --model_dir=Tensorflow/workspace/models/my_centernet_hg104_1024_8 --pipeline_config_path=Tensorflow/workspace/models/my_centernet_hg104_1024_8/pipeline.config --checkpoint_dir=Tensorflow/workspace/models/my_centernet_hg104_1024_8\n"
     ]
    }
   ],
   "source": [
    "# command can be run from prompt to see progress\n",
    "print(command)"
   ]
  },
  {
   "cell_type": "code",
   "execution_count": 75,
   "metadata": {
    "collapsed": true,
    "id": "lqTV2jGBpfDH"
   },
   "outputs": [
    {
     "name": "stdout",
     "output_type": "stream",
     "text": [
      "creating index...\n",
      "index created!\n",
      "creating index...\n",
      "index created!\n",
      "Running per image evaluation...\n",
      "Evaluate annotation type *bbox*\n",
      "DONE (t=0.08s).\n",
      "Accumulating evaluation results...\n",
      "DONE (t=0.01s).\n",
      " Average Precision  (AP) @[ IoU=0.50:0.95 | area=   all | maxDets=100 ] = 0.093\n",
      " Average Precision  (AP) @[ IoU=0.50      | area=   all | maxDets=100 ] = 0.254\n",
      " Average Precision  (AP) @[ IoU=0.75      | area=   all | maxDets=100 ] = 0.062\n",
      " Average Precision  (AP) @[ IoU=0.50:0.95 | area= small | maxDets=100 ] = 0.002\n",
      " Average Precision  (AP) @[ IoU=0.50:0.95 | area=medium | maxDets=100 ] = 0.274\n",
      " Average Precision  (AP) @[ IoU=0.50:0.95 | area= large | maxDets=100 ] = -1.000\n",
      " Average Recall     (AR) @[ IoU=0.50:0.95 | area=   all | maxDets=  1 ] = 0.035\n",
      " Average Recall     (AR) @[ IoU=0.50:0.95 | area=   all | maxDets= 10 ] = 0.135\n",
      " Average Recall     (AR) @[ IoU=0.50:0.95 | area=   all | maxDets=100 ] = 0.325\n",
      " Average Recall     (AR) @[ IoU=0.50:0.95 | area= small | maxDets=100 ] = 0.050\n",
      " Average Recall     (AR) @[ IoU=0.50:0.95 | area=medium | maxDets=100 ] = 0.508\n",
      " Average Recall     (AR) @[ IoU=0.50:0.95 | area= large | maxDets=100 ] = -1.000\n"
     ]
    },
    {
     "name": "stderr",
     "output_type": "stream",
     "text": [
      "WARNING:tensorflow:Forced number of epochs for all eval validations to be 1.\n",
      "W1103 16:03:43.788491 17756 model_lib_v2.py:1081] Forced number of epochs for all eval validations to be 1.\n",
      "INFO:tensorflow:Maybe overwriting sample_1_of_n_eval_examples: None\n",
      "I1103 16:03:43.789491 17756 config_util.py:552] Maybe overwriting sample_1_of_n_eval_examples: None\n",
      "INFO:tensorflow:Maybe overwriting use_bfloat16: False\n",
      "I1103 16:03:43.789491 17756 config_util.py:552] Maybe overwriting use_bfloat16: False\n",
      "INFO:tensorflow:Maybe overwriting eval_num_epochs: 1\n",
      "I1103 16:03:43.789491 17756 config_util.py:552] Maybe overwriting eval_num_epochs: 1\n",
      "WARNING:tensorflow:Expected number of evaluation epochs is 1, but instead encountered `eval_on_train_input_config.num_epochs` = 0. Overwriting `num_epochs` to 1.\n",
      "W1103 16:03:43.789491 17756 model_lib_v2.py:1099] Expected number of evaluation epochs is 1, but instead encountered `eval_on_train_input_config.num_epochs` = 0. Overwriting `num_epochs` to 1.\n",
      "2021-11-03 16:03:43.795207: I tensorflow/core/platform/cpu_feature_guard.cc:142] This TensorFlow binary is optimized with oneAPI Deep Neural Network Library (oneDNN) to use the following CPU instructions in performance-critical operations:  AVX AVX2\n",
      "To enable them in other operations, rebuild TensorFlow with the appropriate compiler flags.\n",
      "2021-11-03 16:03:44.492456: I tensorflow/core/common_runtime/gpu/gpu_device.cc:1510] Created device /job:localhost/replica:0/task:0/device:GPU:0 with 2819 MB memory:  -> device: 0, name: Quadro M1200, pci bus id: 0000:01:00.0, compute capability: 5.0\n",
      "INFO:tensorflow:Reading unweighted datasets: ['Tensorflow\\\\workspace\\\\annotations\\\\test.record']\n",
      "I1103 16:03:44.857108 17756 dataset_builder.py:163] Reading unweighted datasets: ['Tensorflow\\\\workspace\\\\annotations\\\\test.record']\n",
      "INFO:tensorflow:Reading record datasets for input file: ['Tensorflow\\\\workspace\\\\annotations\\\\test.record']\n",
      "I1103 16:03:44.858107 17756 dataset_builder.py:80] Reading record datasets for input file: ['Tensorflow\\\\workspace\\\\annotations\\\\test.record']\n",
      "INFO:tensorflow:Number of filenames to read: 1\n",
      "I1103 16:03:44.858107 17756 dataset_builder.py:81] Number of filenames to read: 1\n",
      "WARNING:tensorflow:num_readers has been reduced to 1 to match input file shards.\n",
      "W1103 16:03:44.858107 17756 dataset_builder.py:87] num_readers has been reduced to 1 to match input file shards.\n",
      "WARNING:tensorflow:From C:\\Users\\20214373\\Anaconda\\envs\\tfod\\lib\\site-packages\\object_detection\\builders\\dataset_builder.py:101: parallel_interleave (from tensorflow.python.data.experimental.ops.interleave_ops) is deprecated and will be removed in a future version.\n",
      "Instructions for updating:\n",
      "Use `tf.data.Dataset.interleave(map_func, cycle_length, block_length, num_parallel_calls=tf.data.AUTOTUNE)` instead. If sloppy execution is desired, use `tf.data.Options.experimental_deterministic`.\n",
      "W1103 16:03:44.860107 17756 deprecation.py:339] From C:\\Users\\20214373\\Anaconda\\envs\\tfod\\lib\\site-packages\\object_detection\\builders\\dataset_builder.py:101: parallel_interleave (from tensorflow.python.data.experimental.ops.interleave_ops) is deprecated and will be removed in a future version.\n",
      "Instructions for updating:\n",
      "Use `tf.data.Dataset.interleave(map_func, cycle_length, block_length, num_parallel_calls=tf.data.AUTOTUNE)` instead. If sloppy execution is desired, use `tf.data.Options.experimental_deterministic`.\n",
      "WARNING:tensorflow:From C:\\Users\\20214373\\Anaconda\\envs\\tfod\\lib\\site-packages\\object_detection\\builders\\dataset_builder.py:236: DatasetV1.map_with_legacy_function (from tensorflow.python.data.ops.dataset_ops) is deprecated and will be removed in a future version.\n",
      "Instructions for updating:\n",
      "Use `tf.data.Dataset.map()\n",
      "W1103 16:03:44.889137 17756 deprecation.py:339] From C:\\Users\\20214373\\Anaconda\\envs\\tfod\\lib\\site-packages\\object_detection\\builders\\dataset_builder.py:236: DatasetV1.map_with_legacy_function (from tensorflow.python.data.ops.dataset_ops) is deprecated and will be removed in a future version.\n",
      "Instructions for updating:\n",
      "Use `tf.data.Dataset.map()\n",
      "WARNING:tensorflow:From C:\\Users\\20214373\\Anaconda\\envs\\tfod\\lib\\site-packages\\tensorflow\\python\\util\\dispatch.py:206: sparse_to_dense (from tensorflow.python.ops.sparse_ops) is deprecated and will be removed in a future version.\n",
      "Instructions for updating:\n",
      "Create a `tf.sparse.SparseTensor` and use `tf.sparse.to_dense` instead.\n",
      "W1103 16:03:50.081036 17756 deprecation.py:339] From C:\\Users\\20214373\\Anaconda\\envs\\tfod\\lib\\site-packages\\tensorflow\\python\\util\\dispatch.py:206: sparse_to_dense (from tensorflow.python.ops.sparse_ops) is deprecated and will be removed in a future version.\n",
      "Instructions for updating:\n",
      "Create a `tf.sparse.SparseTensor` and use `tf.sparse.to_dense` instead.\n",
      "WARNING:tensorflow:From C:\\Users\\20214373\\Anaconda\\envs\\tfod\\lib\\site-packages\\tensorflow\\python\\autograph\\impl\\api.py:464: to_float (from tensorflow.python.ops.math_ops) is deprecated and will be removed in a future version.\n",
      "Instructions for updating:\n",
      "Use `tf.cast` instead.\n",
      "W1103 16:03:51.537253 17756 deprecation.py:339] From C:\\Users\\20214373\\Anaconda\\envs\\tfod\\lib\\site-packages\\tensorflow\\python\\autograph\\impl\\api.py:464: to_float (from tensorflow.python.ops.math_ops) is deprecated and will be removed in a future version.\n",
      "Instructions for updating:\n",
      "Use `tf.cast` instead.\n",
      "INFO:tensorflow:Waiting for new checkpoint at Tensorflow\\workspace\\models\\my_ssd_mobnet\n",
      "I1103 16:03:54.825147 17756 checkpoint_utils.py:140] Waiting for new checkpoint at Tensorflow\\workspace\\models\\my_ssd_mobnet\n",
      "INFO:tensorflow:Found new checkpoint at Tensorflow\\workspace\\models\\my_ssd_mobnet\\ckpt-3\n",
      "I1103 16:03:54.827115 17756 checkpoint_utils.py:149] Found new checkpoint at Tensorflow\\workspace\\models\\my_ssd_mobnet\\ckpt-3\n",
      "C:\\Users\\20214373\\Anaconda\\envs\\tfod\\lib\\site-packages\\keras\\backend.py:401: UserWarning: `tf.keras.backend.set_learning_phase` is deprecated and will be removed after 2020-10-11. To update it, simply pass a True/False value to the `training` argument of the `__call__` method of your layer or model.\n",
      "  warnings.warn('`tf.keras.backend.set_learning_phase` is deprecated and '\n",
      "2021-11-03 16:03:54.970378: I tensorflow/compiler/mlir/mlir_graph_optimization_pass.cc:185] None of the MLIR Optimization Passes are enabled (registered 2)\n",
      "2021-11-03 16:04:23.110312: I tensorflow/stream_executor/cuda/cuda_dnn.cc:369] Loaded cuDNN version 8101\n",
      "WARNING:tensorflow:From C:\\Users\\20214373\\Anaconda\\envs\\tfod\\lib\\site-packages\\object_detection\\eval_util.py:929: to_int64 (from tensorflow.python.ops.math_ops) is deprecated and will be removed in a future version.\n",
      "Instructions for updating:\n",
      "Use `tf.cast` instead.\n",
      "W1103 16:04:25.040576 17756 deprecation.py:339] From C:\\Users\\20214373\\Anaconda\\envs\\tfod\\lib\\site-packages\\object_detection\\eval_util.py:929: to_int64 (from tensorflow.python.ops.math_ops) is deprecated and will be removed in a future version.\n",
      "Instructions for updating:\n",
      "Use `tf.cast` instead.\n",
      "INFO:tensorflow:Finished eval step 0\n",
      "I1103 16:04:25.053580 17756 model_lib_v2.py:958] Finished eval step 0\n",
      "WARNING:tensorflow:From C:\\Users\\20214373\\Anaconda\\envs\\tfod\\lib\\site-packages\\tensorflow\\python\\autograph\\impl\\api.py:464: py_func (from tensorflow.python.ops.script_ops) is deprecated and will be removed in a future version.\n",
      "Instructions for updating:\n",
      "tf.py_func is deprecated in TF V2. Instead, there are two\n",
      "    options available in V2.\n",
      "    - tf.py_function takes a python function which manipulates tf eager\n",
      "    tensors instead of numpy arrays. It's easy to convert a tf eager tensor to\n",
      "    an ndarray (just call tensor.numpy()) but having access to eager tensors\n",
      "    means `tf.py_function`s can use accelerators such as GPUs as well as\n",
      "    being differentiable using a gradient tape.\n",
      "    - tf.numpy_function maintains the semantics of the deprecated tf.py_func\n",
      "    (it is not differentiable, and manipulates numpy arrays). It drops the\n",
      "    stateful argument making all functions stateful.\n",
      "    \n",
      "W1103 16:04:25.290631 17756 deprecation.py:339] From C:\\Users\\20214373\\Anaconda\\envs\\tfod\\lib\\site-packages\\tensorflow\\python\\autograph\\impl\\api.py:464: py_func (from tensorflow.python.ops.script_ops) is deprecated and will be removed in a future version.\n",
      "Instructions for updating:\n",
      "tf.py_func is deprecated in TF V2. Instead, there are two\n",
      "    options available in V2.\n",
      "    - tf.py_function takes a python function which manipulates tf eager\n",
      "    tensors instead of numpy arrays. It's easy to convert a tf eager tensor to\n",
      "    an ndarray (just call tensor.numpy()) but having access to eager tensors\n",
      "    means `tf.py_function`s can use accelerators such as GPUs as well as\n",
      "    being differentiable using a gradient tape.\n",
      "    - tf.numpy_function maintains the semantics of the deprecated tf.py_func\n",
      "    (it is not differentiable, and manipulates numpy arrays). It drops the\n",
      "    stateful argument making all functions stateful.\n",
      "    \n",
      "INFO:tensorflow:Performing evaluation on 2 images.\n",
      "I1103 16:04:26.862852 17756 coco_evaluation.py:293] Performing evaluation on 2 images.\n",
      "INFO:tensorflow:Loading and preparing annotation results...\n",
      "I1103 16:04:26.863887 17756 coco_tools.py:116] Loading and preparing annotation results...\n",
      "INFO:tensorflow:DONE (t=0.00s)\n",
      "I1103 16:04:26.863887 17756 coco_tools.py:138] DONE (t=0.00s)\n",
      "INFO:tensorflow:Eval metrics at step 2000\n"
     ]
    },
    {
     "name": "stderr",
     "output_type": "stream",
     "text": [
      "I1103 16:04:26.952852 17756 model_lib_v2.py:1007] Eval metrics at step 2000\n",
      "INFO:tensorflow:\t+ DetectionBoxes_Precision/mAP: 0.092891\n",
      "I1103 16:04:26.955851 17756 model_lib_v2.py:1010] \t+ DetectionBoxes_Precision/mAP: 0.092891\n",
      "INFO:tensorflow:\t+ DetectionBoxes_Precision/mAP@.50IOU: 0.254012\n",
      "I1103 16:04:26.959856 17756 model_lib_v2.py:1010] \t+ DetectionBoxes_Precision/mAP@.50IOU: 0.254012\n",
      "INFO:tensorflow:\t+ DetectionBoxes_Precision/mAP@.75IOU: 0.061814\n",
      "I1103 16:04:26.965859 17756 model_lib_v2.py:1010] \t+ DetectionBoxes_Precision/mAP@.75IOU: 0.061814\n",
      "INFO:tensorflow:\t+ DetectionBoxes_Precision/mAP (small): 0.001661\n",
      "I1103 16:04:26.968851 17756 model_lib_v2.py:1010] \t+ DetectionBoxes_Precision/mAP (small): 0.001661\n",
      "INFO:tensorflow:\t+ DetectionBoxes_Precision/mAP (medium): 0.274420\n",
      "I1103 16:04:26.971855 17756 model_lib_v2.py:1010] \t+ DetectionBoxes_Precision/mAP (medium): 0.274420\n",
      "INFO:tensorflow:\t+ DetectionBoxes_Precision/mAP (large): -1.000000\n",
      "I1103 16:04:26.975855 17756 model_lib_v2.py:1010] \t+ DetectionBoxes_Precision/mAP (large): -1.000000\n",
      "INFO:tensorflow:\t+ DetectionBoxes_Recall/AR@1: 0.035000\n",
      "I1103 16:04:26.977886 17756 model_lib_v2.py:1010] \t+ DetectionBoxes_Recall/AR@1: 0.035000\n",
      "INFO:tensorflow:\t+ DetectionBoxes_Recall/AR@10: 0.135000\n",
      "I1103 16:04:26.979851 17756 model_lib_v2.py:1010] \t+ DetectionBoxes_Recall/AR@10: 0.135000\n",
      "INFO:tensorflow:\t+ DetectionBoxes_Recall/AR@100: 0.325000\n",
      "I1103 16:04:26.989894 17756 model_lib_v2.py:1010] \t+ DetectionBoxes_Recall/AR@100: 0.325000\n",
      "INFO:tensorflow:\t+ DetectionBoxes_Recall/AR@100 (small): 0.050000\n",
      "I1103 16:04:26.991858 17756 model_lib_v2.py:1010] \t+ DetectionBoxes_Recall/AR@100 (small): 0.050000\n",
      "INFO:tensorflow:\t+ DetectionBoxes_Recall/AR@100 (medium): 0.508333\n",
      "I1103 16:04:26.994849 17756 model_lib_v2.py:1010] \t+ DetectionBoxes_Recall/AR@100 (medium): 0.508333\n",
      "INFO:tensorflow:\t+ DetectionBoxes_Recall/AR@100 (large): -1.000000\n",
      "I1103 16:04:26.995849 17756 model_lib_v2.py:1010] \t+ DetectionBoxes_Recall/AR@100 (large): -1.000000\n",
      "INFO:tensorflow:\t+ Loss/localization_loss: 0.563818\n",
      "I1103 16:04:26.997885 17756 model_lib_v2.py:1010] \t+ Loss/localization_loss: 0.563818\n",
      "INFO:tensorflow:\t+ Loss/classification_loss: 0.480929\n",
      "I1103 16:04:27.001877 17756 model_lib_v2.py:1010] \t+ Loss/classification_loss: 0.480929\n",
      "INFO:tensorflow:\t+ Loss/regularization_loss: 0.148512\n",
      "I1103 16:04:27.004853 17756 model_lib_v2.py:1010] \t+ Loss/regularization_loss: 0.148512\n",
      "INFO:tensorflow:\t+ Loss/total_loss: 1.193260\n",
      "I1103 16:04:27.006853 17756 model_lib_v2.py:1010] \t+ Loss/total_loss: 1.193260\n",
      "INFO:tensorflow:Waiting for new checkpoint at Tensorflow\\workspace\\models\\my_ssd_mobnet\n",
      "I1103 16:08:54.839685 17756 checkpoint_utils.py:140] Waiting for new checkpoint at Tensorflow\\workspace\\models\\my_ssd_mobnet\n",
      "INFO:tensorflow:Timed-out waiting for a checkpoint.\n",
      "I1103 17:08:54.333549 17756 checkpoint_utils.py:203] Timed-out waiting for a checkpoint.\n"
     ]
    }
   ],
   "source": [
    "#!{command}"
   ]
  },
  {
   "cell_type": "markdown",
   "metadata": {},
   "source": [
    "# See Evaluation graphically with Tensorboard\n",
    "- Eval folder: \\TFODCourse\\Tensorflow\\workspace\\models\\my_ssd_mobnet\\eval --> AV, AR\n",
    "- Train folder: \\TFODCourse\\Tensorflow\\workspace\\models\\my_ssd_mobnet\\train --> losscurve\n",
    "\n",
    "in prompt: go to directory\n",
    "\n",
    "run command: tensorboard --logdir=.\n",
    "    \n",
    "open localhost url\n",
    "\n",
    "## Ideas to improve performance\n",
    "- more imgs of low performing classes to training dataset\n",
    "- train longer\n",
    "- change architecture"
   ]
  }
 ],
 "metadata": {
  "accelerator": "GPU",
  "colab": {
   "name": "3. Training and Detection.ipynb",
   "provenance": []
  },
  "interpreter": {
   "hash": "c1a5abd9fcc236de744981f6e7e78926a49df198c56982f6743dab32b3f4f43f"
  },
  "kernelspec": {
   "display_name": "Python 3.8.12 ('tfod_v2')",
   "language": "python",
   "name": "python3"
  },
  "language_info": {
   "codemirror_mode": {
    "name": "ipython",
    "version": 3
   },
   "file_extension": ".py",
   "mimetype": "text/x-python",
   "name": "python",
   "nbconvert_exporter": "python",
   "pygments_lexer": "ipython3",
   "version": "3.8.12"
  }
 },
 "nbformat": 4,
 "nbformat_minor": 1
}
