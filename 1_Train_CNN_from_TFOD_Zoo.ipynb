{
 "cells": [
  {
   "cell_type": "markdown",
   "metadata": {
    "id": "QUANWN3rpfC9"
   },
   "source": [
    "# 0. Setup Paths"
   ]
  },
  {
   "cell_type": "code",
   "execution_count": 1,
   "metadata": {
    "id": "146BB11JpfDA"
   },
   "outputs": [],
   "source": [
    "import os\n",
    "# import wget\n",
    "# import object_detection"
   ]
  },
  {
   "attachments": {},
   "cell_type": "markdown",
   "metadata": {},
   "source": [
    "## Note on setup\n",
    "`SETUP_ENVIRONMENT` controls whether tensorflow and related packages need to be downloaded, configured and installed. This is a one-time operation for a new user.\n",
    "All in all, this script considers a clean environment with python=3.6, and protobuf-compiler installed (`sudo apt-get install protobuf-compiler`)"
   ]
  },
  {
   "cell_type": "code",
   "execution_count": 2,
   "metadata": {
    "id": "42hJEdo_pfDB"
   },
   "outputs": [],
   "source": [
    "SETUP_ENVIRONMENT = True\n",
    "CUSTOM_MODEL_NAME = 'my_centernet_hg104_1024_8'\n",
    "PRETRAINED_MODEL_NAME = 'centernet_hg104_1024x1024_coco17_tpu-32'\n",
    "PRETRAINED_MODEL_URL = 'http://download.tensorflow.org/models/object_detection/tf2/20200713/centernet_hg104_1024x1024_coco17_tpu-32.tar.gz'\n",
    "TF_RECORD_SCRIPT_NAME = 'generate_tfrecord.py'\n",
    "LABEL_MAP_NAME = 'label_map.pbtxt'"
   ]
  },
  {
   "cell_type": "code",
   "execution_count": 3,
   "metadata": {
    "id": "hbPhYVy_pfDB"
   },
   "outputs": [],
   "source": [
    "paths = {\n",
    "    'WORKSPACE_PATH': os.path.join('Tensorflow', 'workspace'),\n",
    "    'SCRIPTS_PATH': os.path.join('Tensorflow','scripts'),\n",
    "    'APIMODEL_PATH': os.path.join('Tensorflow','models'),\n",
    "    'ANNOTATION_PATH': os.path.join('Tensorflow', 'workspace','annotations',CUSTOM_MODEL_NAME),\n",
    "    'IMAGE_PATH': os.path.join('Tensorflow', 'workspace','images'),\n",
    "    'IMAGE_PATH_TRAIN': os.path.join('Tensorflow', 'workspace','images','train'),\n",
    "    'IMAGE_PATH_TEST': os.path.join('Tensorflow', 'workspace','images','test'),\n",
    "    'MODEL_PATH': os.path.join('Tensorflow', 'workspace','models'),\n",
    "    'PRETRAINED_MODEL_PATH': os.path.join('Tensorflow', 'workspace','pre-trained-models'),\n",
    "    'CHECKPOINT_PATH': os.path.join('Tensorflow', 'workspace','models',CUSTOM_MODEL_NAME), \n",
    "    'OUTPUT_PATH': os.path.join('Tensorflow', 'workspace','models',CUSTOM_MODEL_NAME, 'export'), \n",
    "    'TFJS_PATH':os.path.join('Tensorflow', 'workspace','models',CUSTOM_MODEL_NAME, 'tfjsexport'), \n",
    "    'TFLITE_PATH':os.path.join('Tensorflow', 'workspace','models',CUSTOM_MODEL_NAME, 'tfliteexport'),\n",
    "    'PROTOC_PATH':os.path.join('Tensorflow','protoc')\n",
    " }"
   ]
  },
  {
   "cell_type": "code",
   "execution_count": 4,
   "metadata": {
    "id": "LwhWZMI0pfDC"
   },
   "outputs": [],
   "source": [
    "files = {\n",
    "    'PIPELINE_CONFIG':os.path.join('Tensorflow', 'workspace','models', CUSTOM_MODEL_NAME, 'pipeline.config'),\n",
    "    'TF_RECORD_SCRIPT': os.path.join(paths['SCRIPTS_PATH'], TF_RECORD_SCRIPT_NAME), \n",
    "    'LABELMAP': os.path.join(paths['ANNOTATION_PATH'], LABEL_MAP_NAME)\n",
    "}"
   ]
  },
  {
   "cell_type": "code",
   "execution_count": 5,
   "metadata": {
    "id": "HR-TfDGrpfDC"
   },
   "outputs": [],
   "source": [
    "# creating folders\n",
    "for path in paths.values():\n",
    "    if not os.path.exists(path):\n",
    "        if os.name == 'posix':\n",
    "            !mkdir -p {path}\n",
    "        if os.name == 'nt':\n",
    "            !mkdir {path}"
   ]
  },
  {
   "cell_type": "code",
   "execution_count": 6,
   "metadata": {},
   "outputs": [
    {
     "name": "stdout",
     "output_type": "stream",
     "text": [
      "Using the following models and annotation paths:\n",
      "Tensorflow/workspace/models/my_centernet_hg104_1024_8\n",
      "Tensorflow/workspace/annotations/my_centernet_hg104_1024_8\n"
     ]
    }
   ],
   "source": [
    "print('Using the following models and annotation paths:')\n",
    "print(paths['CHECKPOINT_PATH'])\n",
    "print(paths['ANNOTATION_PATH'])"
   ]
  },
  {
   "cell_type": "markdown",
   "metadata": {},
   "source": [
    "# Download TF models from Tensorflow Model Zoo and install TFOD"
   ]
  },
  {
   "cell_type": "code",
   "execution_count": 7,
   "metadata": {},
   "outputs": [],
   "source": [
    "if os.name=='nt':\n",
    "    !pip install wget\n",
    "    import wget"
   ]
  },
  {
   "cell_type": "code",
   "execution_count": 8,
   "metadata": {},
   "outputs": [
    {
     "name": "stdout",
     "output_type": "stream",
     "text": [
      "Searching for path: Tensorflow/models/research/object_detection...\n",
      "Path found... Skipping\n"
     ]
    }
   ],
   "source": [
    "print(f\"Searching for path: {paths['APIMODEL_PATH']}/research/object_detection...\")\n",
    "if not os.path.exists(os.path.join(paths['APIMODEL_PATH'], 'research', 'object_detection')):\n",
    "    print('Path not found - cloning from repository...')\n",
    "    !git clone https://github.com/tensorflow/models {paths['APIMODEL_PATH']}\n",
    "else:\n",
    "    print('Path found... Skipping')"
   ]
  },
  {
   "cell_type": "code",
   "execution_count": 9,
   "metadata": {},
   "outputs": [
    {
     "name": "stdout",
     "output_type": "stream",
     "text": [
      "Processing /home/ivo/Development/tensorflow-object-detection/Tensorflow/models/research\n",
      "  Preparing metadata (setup.py) ... \u001b[?25ldone\n",
      "\u001b[?25hRequirement already satisfied: avro-python3 in /home/ivo/anaconda3/envs/tfod/lib/python3.6/site-packages (from object-detection==0.1) (1.10.2)\n",
      "Requirement already satisfied: apache-beam in /home/ivo/anaconda3/envs/tfod/lib/python3.6/site-packages (from object-detection==0.1) (2.38.0)\n",
      "Requirement already satisfied: pillow in /home/ivo/anaconda3/envs/tfod/lib/python3.6/site-packages (from object-detection==0.1) (8.4.0)\n",
      "Requirement already satisfied: lxml in /home/ivo/anaconda3/envs/tfod/lib/python3.6/site-packages (from object-detection==0.1) (4.9.2)\n",
      "Requirement already satisfied: matplotlib in /home/ivo/anaconda3/envs/tfod/lib/python3.6/site-packages (from object-detection==0.1) (3.3.4)\n",
      "Requirement already satisfied: Cython in /home/ivo/anaconda3/envs/tfod/lib/python3.6/site-packages (from object-detection==0.1) (0.29.33)\n",
      "Requirement already satisfied: contextlib2 in /home/ivo/anaconda3/envs/tfod/lib/python3.6/site-packages (from object-detection==0.1) (21.6.0)\n",
      "Requirement already satisfied: tf-slim in /home/ivo/anaconda3/envs/tfod/lib/python3.6/site-packages (from object-detection==0.1) (1.1.0)\n",
      "Requirement already satisfied: six in /home/ivo/anaconda3/envs/tfod/lib/python3.6/site-packages (from object-detection==0.1) (1.15.0)\n",
      "Requirement already satisfied: pycocotools in /home/ivo/anaconda3/envs/tfod/lib/python3.6/site-packages (from object-detection==0.1) (2.0.6)\n",
      "Requirement already satisfied: lvis in /home/ivo/anaconda3/envs/tfod/lib/python3.6/site-packages (from object-detection==0.1) (0.5.3)\n",
      "Requirement already satisfied: scipy in /home/ivo/anaconda3/envs/tfod/lib/python3.6/site-packages (from object-detection==0.1) (1.5.4)\n",
      "Requirement already satisfied: pandas in /home/ivo/anaconda3/envs/tfod/lib/python3.6/site-packages (from object-detection==0.1) (1.1.5)\n",
      "Requirement already satisfied: tf-models-official>=2.5.1 in /home/ivo/anaconda3/envs/tfod/lib/python3.6/site-packages (from object-detection==0.1) (2.7.2)\n",
      "Requirement already satisfied: tensorflow_io in /home/ivo/anaconda3/envs/tfod/lib/python3.6/site-packages (from object-detection==0.1) (0.21.0)\n",
      "Requirement already satisfied: keras==2.6.0 in /home/ivo/anaconda3/envs/tfod/lib/python3.6/site-packages (from object-detection==0.1) (2.6.0)\n",
      "Requirement already satisfied: opencv-python-headless in /home/ivo/anaconda3/envs/tfod/lib/python3.6/site-packages (from tf-models-official>=2.5.1->object-detection==0.1) (4.7.0.72)\n",
      "Requirement already satisfied: dataclasses in /home/ivo/anaconda3/envs/tfod/lib/python3.6/site-packages (from tf-models-official>=2.5.1->object-detection==0.1) (0.8)\n",
      "Requirement already satisfied: tensorflow>=2.4.0 in /home/ivo/anaconda3/envs/tfod/lib/python3.6/site-packages (from tf-models-official>=2.5.1->object-detection==0.1) (2.6.2)\n",
      "Requirement already satisfied: seqeval in /home/ivo/anaconda3/envs/tfod/lib/python3.6/site-packages (from tf-models-official>=2.5.1->object-detection==0.1) (1.2.2)\n",
      "Requirement already satisfied: psutil>=5.4.3 in /home/ivo/anaconda3/envs/tfod/lib/python3.6/site-packages (from tf-models-official>=2.5.1->object-detection==0.1) (5.9.4)\n",
      "Requirement already satisfied: pyyaml>=5.1 in /home/ivo/anaconda3/envs/tfod/lib/python3.6/site-packages (from tf-models-official>=2.5.1->object-detection==0.1) (6.0)\n",
      "Requirement already satisfied: sacrebleu in /home/ivo/anaconda3/envs/tfod/lib/python3.6/site-packages (from tf-models-official>=2.5.1->object-detection==0.1) (2.3.1)\n",
      "Requirement already satisfied: google-api-python-client>=1.6.7 in /home/ivo/anaconda3/envs/tfod/lib/python3.6/site-packages (from tf-models-official>=2.5.1->object-detection==0.1) (2.52.0)\n",
      "Requirement already satisfied: tensorflow-hub>=0.6.0 in /home/ivo/anaconda3/envs/tfod/lib/python3.6/site-packages (from tf-models-official>=2.5.1->object-detection==0.1) (0.13.0)\n",
      "Requirement already satisfied: sentencepiece in /home/ivo/anaconda3/envs/tfod/lib/python3.6/site-packages (from tf-models-official>=2.5.1->object-detection==0.1) (0.1.97)\n",
      "Requirement already satisfied: numpy>=1.15.4 in /home/ivo/anaconda3/envs/tfod/lib/python3.6/site-packages (from tf-models-official>=2.5.1->object-detection==0.1) (1.19.5)\n",
      "Requirement already satisfied: tensorflow-text>=2.4.0 in /home/ivo/anaconda3/envs/tfod/lib/python3.6/site-packages (from tf-models-official>=2.5.1->object-detection==0.1) (2.6.0)\n",
      "Requirement already satisfied: tensorflow-addons in /home/ivo/anaconda3/envs/tfod/lib/python3.6/site-packages (from tf-models-official>=2.5.1->object-detection==0.1) (0.14.0)\n",
      "Requirement already satisfied: tensorflow-model-optimization>=0.4.1 in /home/ivo/anaconda3/envs/tfod/lib/python3.6/site-packages (from tf-models-official>=2.5.1->object-detection==0.1) (0.7.3)\n",
      "Requirement already satisfied: oauth2client in /home/ivo/anaconda3/envs/tfod/lib/python3.6/site-packages (from tf-models-official>=2.5.1->object-detection==0.1) (4.1.3)\n",
      "Requirement already satisfied: kaggle>=1.3.9 in /home/ivo/anaconda3/envs/tfod/lib/python3.6/site-packages (from tf-models-official>=2.5.1->object-detection==0.1) (1.5.13)\n",
      "Requirement already satisfied: py-cpuinfo>=3.3.0 in /home/ivo/anaconda3/envs/tfod/lib/python3.6/site-packages (from tf-models-official>=2.5.1->object-detection==0.1) (9.0.0)\n",
      "Requirement already satisfied: tensorflow-datasets in /home/ivo/anaconda3/envs/tfod/lib/python3.6/site-packages (from tf-models-official>=2.5.1->object-detection==0.1) (4.5.2)\n",
      "Requirement already satisfied: gin-config in /home/ivo/anaconda3/envs/tfod/lib/python3.6/site-packages (from tf-models-official>=2.5.1->object-detection==0.1) (0.5.0)\n",
      "Requirement already satisfied: pytz>=2017.2 in /home/ivo/anaconda3/envs/tfod/lib/python3.6/site-packages (from pandas->object-detection==0.1) (2022.7.1)\n",
      "Requirement already satisfied: python-dateutil>=2.7.3 in /home/ivo/anaconda3/envs/tfod/lib/python3.6/site-packages (from pandas->object-detection==0.1) (2.8.2)\n",
      "Requirement already satisfied: absl-py>=0.2.2 in /home/ivo/anaconda3/envs/tfod/lib/python3.6/site-packages (from tf-slim->object-detection==0.1) (0.12.0)\n",
      "Requirement already satisfied: pydot<2,>=1.2.0 in /home/ivo/anaconda3/envs/tfod/lib/python3.6/site-packages (from apache-beam->object-detection==0.1) (1.4.2)\n",
      "Requirement already satisfied: orjson<4.0 in /home/ivo/anaconda3/envs/tfod/lib/python3.6/site-packages (from apache-beam->object-detection==0.1) (3.6.1)\n",
      "Requirement already satisfied: dill<0.3.2,>=0.3.1.1 in /home/ivo/anaconda3/envs/tfod/lib/python3.6/site-packages (from apache-beam->object-detection==0.1) (0.3.1.1)\n",
      "Requirement already satisfied: crcmod<2.0,>=1.7 in /home/ivo/anaconda3/envs/tfod/lib/python3.6/site-packages (from apache-beam->object-detection==0.1) (1.7)\n",
      "Requirement already satisfied: requests<3.0.0,>=2.24.0 in /home/ivo/anaconda3/envs/tfod/lib/python3.6/site-packages (from apache-beam->object-detection==0.1) (2.27.1)\n",
      "Requirement already satisfied: hdfs<3.0.0,>=2.1.0 in /home/ivo/anaconda3/envs/tfod/lib/python3.6/site-packages (from apache-beam->object-detection==0.1) (2.7.0)\n",
      "Requirement already satisfied: typing-extensions>=3.7.0 in /home/ivo/anaconda3/envs/tfod/lib/python3.6/site-packages (from apache-beam->object-detection==0.1) (3.7.4.3)\n",
      "Requirement already satisfied: httplib2<0.20.0,>=0.8 in /home/ivo/anaconda3/envs/tfod/lib/python3.6/site-packages (from apache-beam->object-detection==0.1) (0.19.1)\n",
      "Requirement already satisfied: pymongo<4.0.0,>=3.8.0 in /home/ivo/anaconda3/envs/tfod/lib/python3.6/site-packages (from apache-beam->object-detection==0.1) (3.13.0)\n",
      "Requirement already satisfied: pyarrow<7.0.0,>=0.15.1 in /home/ivo/anaconda3/envs/tfod/lib/python3.6/site-packages (from apache-beam->object-detection==0.1) (6.0.1)\n",
      "Requirement already satisfied: fastavro<2,>=0.23.6 in /home/ivo/anaconda3/envs/tfod/lib/python3.6/site-packages (from apache-beam->object-detection==0.1) (1.4.7)\n",
      "Requirement already satisfied: protobuf<4,>=3.12.2 in /home/ivo/anaconda3/envs/tfod/lib/python3.6/site-packages (from apache-beam->object-detection==0.1) (3.19.6)\n",
      "Requirement already satisfied: cloudpickle<3,>=2.0.0 in /home/ivo/anaconda3/envs/tfod/lib/python3.6/site-packages (from apache-beam->object-detection==0.1) (2.2.1)\n",
      "Requirement already satisfied: grpcio<2,>=1.29.0 in /home/ivo/anaconda3/envs/tfod/lib/python3.6/site-packages (from apache-beam->object-detection==0.1) (1.48.2)\n",
      "Requirement already satisfied: proto-plus<2,>=1.7.1 in /home/ivo/anaconda3/envs/tfod/lib/python3.6/site-packages (from apache-beam->object-detection==0.1) (1.22.2)\n",
      "Requirement already satisfied: kiwisolver>=1.1.0 in /home/ivo/anaconda3/envs/tfod/lib/python3.6/site-packages (from lvis->object-detection==0.1) (1.3.1)\n",
      "Requirement already satisfied: cycler>=0.10.0 in /home/ivo/anaconda3/envs/tfod/lib/python3.6/site-packages (from lvis->object-detection==0.1) (0.11.0)\n",
      "Requirement already satisfied: opencv-python>=4.1.0.25 in /home/ivo/anaconda3/envs/tfod/lib/python3.6/site-packages (from lvis->object-detection==0.1) (4.7.0.72)\n",
      "Requirement already satisfied: pyparsing>=2.4.0 in /home/ivo/anaconda3/envs/tfod/lib/python3.6/site-packages (from lvis->object-detection==0.1) (2.4.7)\n",
      "Requirement already satisfied: tensorflow-io-gcs-filesystem==0.21.0 in /home/ivo/anaconda3/envs/tfod/lib/python3.6/site-packages (from tensorflow_io->object-detection==0.1) (0.21.0)\n",
      "Requirement already satisfied: google-api-core!=2.0.*,!=2.1.*,!=2.2.*,!=2.3.0,<3.0.0dev,>=1.31.5 in /home/ivo/anaconda3/envs/tfod/lib/python3.6/site-packages (from google-api-python-client>=1.6.7->tf-models-official>=2.5.1->object-detection==0.1) (2.8.2)\n",
      "Requirement already satisfied: uritemplate<5,>=3.0.1 in /home/ivo/anaconda3/envs/tfod/lib/python3.6/site-packages (from google-api-python-client>=1.6.7->tf-models-official>=2.5.1->object-detection==0.1) (4.1.1)\n",
      "Requirement already satisfied: google-auth<3.0.0dev,>=1.19.0 in /home/ivo/anaconda3/envs/tfod/lib/python3.6/site-packages (from google-api-python-client>=1.6.7->tf-models-official>=2.5.1->object-detection==0.1) (1.35.0)\n",
      "Requirement already satisfied: google-auth-httplib2>=0.1.0 in /home/ivo/anaconda3/envs/tfod/lib/python3.6/site-packages (from google-api-python-client>=1.6.7->tf-models-official>=2.5.1->object-detection==0.1) (0.1.0)\n",
      "Requirement already satisfied: docopt in /home/ivo/anaconda3/envs/tfod/lib/python3.6/site-packages (from hdfs<3.0.0,>=2.1.0->apache-beam->object-detection==0.1) (0.6.2)\n",
      "Requirement already satisfied: python-slugify in /home/ivo/anaconda3/envs/tfod/lib/python3.6/site-packages (from kaggle>=1.3.9->tf-models-official>=2.5.1->object-detection==0.1) (6.1.2)\n",
      "Requirement already satisfied: urllib3 in /home/ivo/anaconda3/envs/tfod/lib/python3.6/site-packages (from kaggle>=1.3.9->tf-models-official>=2.5.1->object-detection==0.1) (1.26.15)\n",
      "Requirement already satisfied: certifi in /home/ivo/anaconda3/envs/tfod/lib/python3.6/site-packages (from kaggle>=1.3.9->tf-models-official>=2.5.1->object-detection==0.1) (2021.5.30)\n",
      "Requirement already satisfied: tqdm in /home/ivo/anaconda3/envs/tfod/lib/python3.6/site-packages (from kaggle>=1.3.9->tf-models-official>=2.5.1->object-detection==0.1) (4.64.1)\n",
      "Requirement already satisfied: pyasn1-modules>=0.0.5 in /home/ivo/anaconda3/envs/tfod/lib/python3.6/site-packages (from oauth2client->tf-models-official>=2.5.1->object-detection==0.1) (0.2.8)\n",
      "Requirement already satisfied: rsa>=3.1.4 in /home/ivo/anaconda3/envs/tfod/lib/python3.6/site-packages (from oauth2client->tf-models-official>=2.5.1->object-detection==0.1) (4.9)\n",
      "Requirement already satisfied: pyasn1>=0.1.7 in /home/ivo/anaconda3/envs/tfod/lib/python3.6/site-packages (from oauth2client->tf-models-official>=2.5.1->object-detection==0.1) (0.4.8)\n",
      "Requirement already satisfied: idna<4,>=2.5 in /home/ivo/anaconda3/envs/tfod/lib/python3.6/site-packages (from requests<3.0.0,>=2.24.0->apache-beam->object-detection==0.1) (3.4)\n",
      "Requirement already satisfied: charset-normalizer~=2.0.0 in /home/ivo/anaconda3/envs/tfod/lib/python3.6/site-packages (from requests<3.0.0,>=2.24.0->apache-beam->object-detection==0.1) (2.0.12)\n",
      "Requirement already satisfied: tensorboard<2.7,>=2.6.0 in /home/ivo/anaconda3/envs/tfod/lib/python3.6/site-packages (from tensorflow>=2.4.0->tf-models-official>=2.5.1->object-detection==0.1) (2.6.0)\n",
      "Requirement already satisfied: tensorflow-estimator<2.7,>=2.6.0 in /home/ivo/anaconda3/envs/tfod/lib/python3.6/site-packages (from tensorflow>=2.4.0->tf-models-official>=2.5.1->object-detection==0.1) (2.6.0)\n",
      "Requirement already satisfied: google-pasta~=0.2 in /home/ivo/anaconda3/envs/tfod/lib/python3.6/site-packages (from tensorflow>=2.4.0->tf-models-official>=2.5.1->object-detection==0.1) (0.2.0)\n",
      "Requirement already satisfied: flatbuffers~=1.12.0 in /home/ivo/anaconda3/envs/tfod/lib/python3.6/site-packages (from tensorflow>=2.4.0->tf-models-official>=2.5.1->object-detection==0.1) (1.12)\n",
      "Requirement already satisfied: termcolor~=1.1.0 in /home/ivo/anaconda3/envs/tfod/lib/python3.6/site-packages (from tensorflow>=2.4.0->tf-models-official>=2.5.1->object-detection==0.1) (1.1.0)\n",
      "Requirement already satisfied: wheel~=0.35 in /home/ivo/anaconda3/envs/tfod/lib/python3.6/site-packages (from tensorflow>=2.4.0->tf-models-official>=2.5.1->object-detection==0.1) (0.37.1)\n",
      "Requirement already satisfied: clang~=5.0 in /home/ivo/anaconda3/envs/tfod/lib/python3.6/site-packages (from tensorflow>=2.4.0->tf-models-official>=2.5.1->object-detection==0.1) (5.0)\n",
      "Requirement already satisfied: wrapt~=1.12.1 in /home/ivo/anaconda3/envs/tfod/lib/python3.6/site-packages (from tensorflow>=2.4.0->tf-models-official>=2.5.1->object-detection==0.1) (1.12.1)\n",
      "Requirement already satisfied: h5py~=3.1.0 in /home/ivo/anaconda3/envs/tfod/lib/python3.6/site-packages (from tensorflow>=2.4.0->tf-models-official>=2.5.1->object-detection==0.1) (3.1.0)\n",
      "Requirement already satisfied: opt-einsum~=3.3.0 in /home/ivo/anaconda3/envs/tfod/lib/python3.6/site-packages (from tensorflow>=2.4.0->tf-models-official>=2.5.1->object-detection==0.1) (3.3.0)\n",
      "Requirement already satisfied: gast==0.4.0 in /home/ivo/anaconda3/envs/tfod/lib/python3.6/site-packages (from tensorflow>=2.4.0->tf-models-official>=2.5.1->object-detection==0.1) (0.4.0)\n",
      "Requirement already satisfied: astunparse~=1.6.3 in /home/ivo/anaconda3/envs/tfod/lib/python3.6/site-packages (from tensorflow>=2.4.0->tf-models-official>=2.5.1->object-detection==0.1) (1.6.3)\n",
      "Requirement already satisfied: keras-preprocessing~=1.1.2 in /home/ivo/anaconda3/envs/tfod/lib/python3.6/site-packages (from tensorflow>=2.4.0->tf-models-official>=2.5.1->object-detection==0.1) (1.1.2)\n",
      "Requirement already satisfied: dm-tree~=0.1.1 in /home/ivo/anaconda3/envs/tfod/lib/python3.6/site-packages (from tensorflow-model-optimization>=0.4.1->tf-models-official>=2.5.1->object-detection==0.1) (0.1.8)\n",
      "Requirement already satisfied: portalocker in /home/ivo/anaconda3/envs/tfod/lib/python3.6/site-packages (from sacrebleu->tf-models-official>=2.5.1->object-detection==0.1) (2.7.0)\n",
      "Requirement already satisfied: colorama in /home/ivo/anaconda3/envs/tfod/lib/python3.6/site-packages (from sacrebleu->tf-models-official>=2.5.1->object-detection==0.1) (0.4.5)\n",
      "Requirement already satisfied: regex in /home/ivo/anaconda3/envs/tfod/lib/python3.6/site-packages (from sacrebleu->tf-models-official>=2.5.1->object-detection==0.1) (2022.10.31)\n",
      "Requirement already satisfied: tabulate>=0.8.9 in /home/ivo/anaconda3/envs/tfod/lib/python3.6/site-packages (from sacrebleu->tf-models-official>=2.5.1->object-detection==0.1) (0.8.10)\n",
      "Requirement already satisfied: scikit-learn>=0.21.3 in /home/ivo/anaconda3/envs/tfod/lib/python3.6/site-packages (from seqeval->tf-models-official>=2.5.1->object-detection==0.1) (0.24.2)\n",
      "Requirement already satisfied: typeguard>=2.7 in /home/ivo/anaconda3/envs/tfod/lib/python3.6/site-packages (from tensorflow-addons->tf-models-official>=2.5.1->object-detection==0.1) (2.13.3)\n",
      "Requirement already satisfied: importlib-resources in /home/ivo/anaconda3/envs/tfod/lib/python3.6/site-packages (from tensorflow-datasets->tf-models-official>=2.5.1->object-detection==0.1) (5.4.0)\n",
      "Requirement already satisfied: promise in /home/ivo/anaconda3/envs/tfod/lib/python3.6/site-packages (from tensorflow-datasets->tf-models-official>=2.5.1->object-detection==0.1) (2.3)\n",
      "Requirement already satisfied: tensorflow-metadata in /home/ivo/anaconda3/envs/tfod/lib/python3.6/site-packages (from tensorflow-datasets->tf-models-official>=2.5.1->object-detection==0.1) (1.2.0)\n",
      "Requirement already satisfied: googleapis-common-protos<2.0dev,>=1.56.2 in /home/ivo/anaconda3/envs/tfod/lib/python3.6/site-packages (from google-api-core!=2.0.*,!=2.1.*,!=2.2.*,!=2.3.0,<3.0.0dev,>=1.31.5->google-api-python-client>=1.6.7->tf-models-official>=2.5.1->object-detection==0.1) (1.56.3)\n",
      "Requirement already satisfied: cachetools<5.0,>=2.0.0 in /home/ivo/anaconda3/envs/tfod/lib/python3.6/site-packages (from google-auth<3.0.0dev,>=1.19.0->google-api-python-client>=1.6.7->tf-models-official>=2.5.1->object-detection==0.1) (4.2.4)\n",
      "Requirement already satisfied: setuptools>=40.3.0 in /home/ivo/anaconda3/envs/tfod/lib/python3.6/site-packages (from google-auth<3.0.0dev,>=1.19.0->google-api-python-client>=1.6.7->tf-models-official>=2.5.1->object-detection==0.1) (59.6.0)\n",
      "Requirement already satisfied: cached-property in /home/ivo/anaconda3/envs/tfod/lib/python3.6/site-packages (from h5py~=3.1.0->tensorflow>=2.4.0->tf-models-official>=2.5.1->object-detection==0.1) (1.5.2)\n",
      "Requirement already satisfied: threadpoolctl>=2.0.0 in /home/ivo/anaconda3/envs/tfod/lib/python3.6/site-packages (from scikit-learn>=0.21.3->seqeval->tf-models-official>=2.5.1->object-detection==0.1) (3.1.0)\n",
      "Requirement already satisfied: joblib>=0.11 in /home/ivo/anaconda3/envs/tfod/lib/python3.6/site-packages (from scikit-learn>=0.21.3->seqeval->tf-models-official>=2.5.1->object-detection==0.1) (1.1.1)\n",
      "Requirement already satisfied: werkzeug>=0.11.15 in /home/ivo/anaconda3/envs/tfod/lib/python3.6/site-packages (from tensorboard<2.7,>=2.6.0->tensorflow>=2.4.0->tf-models-official>=2.5.1->object-detection==0.1) (2.0.3)\n",
      "Requirement already satisfied: tensorboard-data-server<0.7.0,>=0.6.0 in /home/ivo/anaconda3/envs/tfod/lib/python3.6/site-packages (from tensorboard<2.7,>=2.6.0->tensorflow>=2.4.0->tf-models-official>=2.5.1->object-detection==0.1) (0.6.1)\n",
      "Requirement already satisfied: markdown>=2.6.8 in /home/ivo/anaconda3/envs/tfod/lib/python3.6/site-packages (from tensorboard<2.7,>=2.6.0->tensorflow>=2.4.0->tf-models-official>=2.5.1->object-detection==0.1) (3.3.7)\n",
      "Requirement already satisfied: tensorboard-plugin-wit>=1.6.0 in /home/ivo/anaconda3/envs/tfod/lib/python3.6/site-packages (from tensorboard<2.7,>=2.6.0->tensorflow>=2.4.0->tf-models-official>=2.5.1->object-detection==0.1) (1.8.1)\n",
      "Requirement already satisfied: google-auth-oauthlib<0.5,>=0.4.1 in /home/ivo/anaconda3/envs/tfod/lib/python3.6/site-packages (from tensorboard<2.7,>=2.6.0->tensorflow>=2.4.0->tf-models-official>=2.5.1->object-detection==0.1) (0.4.6)\n",
      "Requirement already satisfied: zipp>=3.1.0 in /home/ivo/anaconda3/envs/tfod/lib/python3.6/site-packages (from importlib-resources->tensorflow-datasets->tf-models-official>=2.5.1->object-detection==0.1) (3.6.0)\n",
      "Requirement already satisfied: text-unidecode>=1.3 in /home/ivo/anaconda3/envs/tfod/lib/python3.6/site-packages (from python-slugify->kaggle>=1.3.9->tf-models-official>=2.5.1->object-detection==0.1) (1.3)\n",
      "Requirement already satisfied: requests-oauthlib>=0.7.0 in /home/ivo/anaconda3/envs/tfod/lib/python3.6/site-packages (from google-auth-oauthlib<0.5,>=0.4.1->tensorboard<2.7,>=2.6.0->tensorflow>=2.4.0->tf-models-official>=2.5.1->object-detection==0.1) (1.3.1)\n",
      "Requirement already satisfied: importlib-metadata>=4.4 in /home/ivo/anaconda3/envs/tfod/lib/python3.6/site-packages (from markdown>=2.6.8->tensorboard<2.7,>=2.6.0->tensorflow>=2.4.0->tf-models-official>=2.5.1->object-detection==0.1) (4.8.3)\n",
      "Requirement already satisfied: oauthlib>=3.0.0 in /home/ivo/anaconda3/envs/tfod/lib/python3.6/site-packages (from requests-oauthlib>=0.7.0->google-auth-oauthlib<0.5,>=0.4.1->tensorboard<2.7,>=2.6.0->tensorflow>=2.4.0->tf-models-official>=2.5.1->object-detection==0.1) (3.2.2)\n",
      "Building wheels for collected packages: object-detection\n",
      "  Building wheel for object-detection (setup.py) ... \u001b[?25ldone\n",
      "\u001b[?25h  Created wheel for object-detection: filename=object_detection-0.1-py3-none-any.whl size=21902073 sha256=800b3758773823e801602fceb4a16a285714d3a9f8cc0f11b67fd5434662f408\n",
      "  Stored in directory: /tmp/pip-ephem-wheel-cache-frw7hvi2/wheels/a1/d2/27/2ad15538537efda79e9e94213bdf505578bbb5da2d5ba29693\n",
      "Successfully built object-detection\n",
      "Installing collected packages: object-detection\n",
      "  Attempting uninstall: object-detection\n",
      "    Found existing installation: object-detection 0.1\n",
      "    Uninstalling object-detection-0.1:\n",
      "      Successfully uninstalled object-detection-0.1\n",
      "Successfully installed object-detection-0.1\n",
      "\u001b[33mWARNING: You are using pip version 21.3.1; however, version 23.0.1 is available.\n",
      "You should consider upgrading via the '/home/ivo/anaconda3/envs/tfod/bin/python -m pip install --upgrade pip' command.\u001b[0m\n"
     ]
    }
   ],
   "source": [
    "# Install Tensorflow Object Detection \n",
    "if SETUP_ENVIRONMENT:\n",
    "    if os.name=='posix':  \n",
    "        !cd Tensorflow/models/research && protoc object_detection/protos/*.proto --python_out=. && cp object_detection/packages/tf2/setup.py . && python -m pip install . \n",
    "        \n",
    "    if os.name=='nt':\n",
    "        url=\"https://github.com/protocolbuffers/protobuf/releases/download/v3.15.6/protoc-3.15.6-win64.zip\"\n",
    "        wget.download(url)\n",
    "        !move protoc-3.15.6-win64.zip {paths['PROTOC_PATH']}\n",
    "        !cd {paths['PROTOC_PATH']} && tar -xf protoc-3.15.6-win64.zip\n",
    "        os.environ['PATH'] += os.pathsep + os.path.abspath(os.path.join(paths['PROTOC_PATH'], 'bin'))   \n",
    "        !cd Tensorflow/models/research && protoc object_detection/protos/*.proto --python_out=. && copy object_detection\\\\packages\\\\tf2\\\\setup.py setup.py && python setup.py build && python setup.py install\n",
    "        !cd Tensorflow/models/research/slim && pip install -e . "
   ]
  },
  {
   "cell_type": "code",
   "execution_count": 10,
   "metadata": {},
   "outputs": [
    {
     "name": "stdout",
     "output_type": "stream",
     "text": [
      "2023-03-24 12:02:49.977387: I tensorflow/stream_executor/cuda/cuda_gpu_executor.cc:937] successful NUMA node read from SysFS had negative value (-1), but there must be at least one NUMA node, so returning NUMA node zero\n",
      "2023-03-24 12:02:50.009784: I tensorflow/stream_executor/cuda/cuda_gpu_executor.cc:937] successful NUMA node read from SysFS had negative value (-1), but there must be at least one NUMA node, so returning NUMA node zero\n",
      "2023-03-24 12:02:50.010091: I tensorflow/stream_executor/cuda/cuda_gpu_executor.cc:937] successful NUMA node read from SysFS had negative value (-1), but there must be at least one NUMA node, so returning NUMA node zero\n",
      "Running tests under Python 3.6.13: /home/ivo/anaconda3/envs/tfod/bin/python\n",
      "[ RUN      ] ModelBuilderTF2Test.test_create_center_net_deepmac\n",
      "2023-03-24 12:02:50.018018: I tensorflow/core/platform/cpu_feature_guard.cc:142] This TensorFlow binary is optimized with oneAPI Deep Neural Network Library (oneDNN) to use the following CPU instructions in performance-critical operations:  AVX2 FMA\n",
      "To enable them in other operations, rebuild TensorFlow with the appropriate compiler flags.\n",
      "2023-03-24 12:02:50.018698: I tensorflow/stream_executor/cuda/cuda_gpu_executor.cc:937] successful NUMA node read from SysFS had negative value (-1), but there must be at least one NUMA node, so returning NUMA node zero\n",
      "2023-03-24 12:02:50.018997: I tensorflow/stream_executor/cuda/cuda_gpu_executor.cc:937] successful NUMA node read from SysFS had negative value (-1), but there must be at least one NUMA node, so returning NUMA node zero\n",
      "2023-03-24 12:02:50.019143: I tensorflow/stream_executor/cuda/cuda_gpu_executor.cc:937] successful NUMA node read from SysFS had negative value (-1), but there must be at least one NUMA node, so returning NUMA node zero\n",
      "2023-03-24 12:02:50.507433: I tensorflow/stream_executor/cuda/cuda_gpu_executor.cc:937] successful NUMA node read from SysFS had negative value (-1), but there must be at least one NUMA node, so returning NUMA node zero\n",
      "2023-03-24 12:02:50.507613: I tensorflow/stream_executor/cuda/cuda_gpu_executor.cc:937] successful NUMA node read from SysFS had negative value (-1), but there must be at least one NUMA node, so returning NUMA node zero\n",
      "2023-03-24 12:02:50.507744: I tensorflow/stream_executor/cuda/cuda_gpu_executor.cc:937] successful NUMA node read from SysFS had negative value (-1), but there must be at least one NUMA node, so returning NUMA node zero\n",
      "2023-03-24 12:02:50.507857: I tensorflow/core/common_runtime/gpu/gpu_device.cc:1510] Created device /job:localhost/replica:0/task:0/device:GPU:0 with 7289 MB memory:  -> device: 0, name: NVIDIA GeForce GTX 1080, pci bus id: 0000:02:00.0, compute capability: 6.1\n",
      "/home/ivo/anaconda3/envs/tfod/lib/python3.6/site-packages/object_detection/builders/model_builder.py:1100: DeprecationWarning: The 'warn' function is deprecated, use 'warning' instead\n",
      "  logging.warn(('Building experimental DeepMAC meta-arch.'\n",
      "W0324 12:02:50.919456 139648966550336 model_builder.py:1100] Building experimental DeepMAC meta-arch. Some features may be omitted.\n",
      "INFO:tensorflow:time(__main__.ModelBuilderTF2Test.test_create_center_net_deepmac): 1.16s\n",
      "I0324 12:02:51.171501 139648966550336 test_util.py:2189] time(__main__.ModelBuilderTF2Test.test_create_center_net_deepmac): 1.16s\n",
      "[       OK ] ModelBuilderTF2Test.test_create_center_net_deepmac\n",
      "[ RUN      ] ModelBuilderTF2Test.test_create_center_net_model0 (customize_head_params=True)\n",
      "INFO:tensorflow:time(__main__.ModelBuilderTF2Test.test_create_center_net_model0 (customize_head_params=True)): 0.46s\n",
      "I0324 12:02:51.634007 139648966550336 test_util.py:2189] time(__main__.ModelBuilderTF2Test.test_create_center_net_model0 (customize_head_params=True)): 0.46s\n",
      "[       OK ] ModelBuilderTF2Test.test_create_center_net_model0 (customize_head_params=True)\n",
      "[ RUN      ] ModelBuilderTF2Test.test_create_center_net_model1 (customize_head_params=False)\n",
      "INFO:tensorflow:time(__main__.ModelBuilderTF2Test.test_create_center_net_model1 (customize_head_params=False)): 0.25s\n",
      "I0324 12:02:51.883137 139648966550336 test_util.py:2189] time(__main__.ModelBuilderTF2Test.test_create_center_net_model1 (customize_head_params=False)): 0.25s\n",
      "[       OK ] ModelBuilderTF2Test.test_create_center_net_model1 (customize_head_params=False)\n",
      "[ RUN      ] ModelBuilderTF2Test.test_create_center_net_model_from_keypoints\n",
      "INFO:tensorflow:time(__main__.ModelBuilderTF2Test.test_create_center_net_model_from_keypoints): 0.31s\n",
      "I0324 12:02:52.194186 139648966550336 test_util.py:2189] time(__main__.ModelBuilderTF2Test.test_create_center_net_model_from_keypoints): 0.31s\n",
      "[       OK ] ModelBuilderTF2Test.test_create_center_net_model_from_keypoints\n",
      "[ RUN      ] ModelBuilderTF2Test.test_create_center_net_model_mobilenet\n",
      "INFO:tensorflow:time(__main__.ModelBuilderTF2Test.test_create_center_net_model_mobilenet): 1.44s\n",
      "I0324 12:02:53.633127 139648966550336 test_util.py:2189] time(__main__.ModelBuilderTF2Test.test_create_center_net_model_mobilenet): 1.44s\n",
      "[       OK ] ModelBuilderTF2Test.test_create_center_net_model_mobilenet\n",
      "[ RUN      ] ModelBuilderTF2Test.test_create_experimental_model\n",
      "INFO:tensorflow:time(__main__.ModelBuilderTF2Test.test_create_experimental_model): 0.0s\n",
      "I0324 12:02:53.634138 139648966550336 test_util.py:2189] time(__main__.ModelBuilderTF2Test.test_create_experimental_model): 0.0s\n",
      "[       OK ] ModelBuilderTF2Test.test_create_experimental_model\n",
      "[ RUN      ] ModelBuilderTF2Test.test_create_faster_rcnn_from_config_with_crop_feature0 (True)\n",
      "INFO:tensorflow:time(__main__.ModelBuilderTF2Test.test_create_faster_rcnn_from_config_with_crop_feature0 (True)): 0.06s\n",
      "I0324 12:02:53.694903 139648966550336 test_util.py:2189] time(__main__.ModelBuilderTF2Test.test_create_faster_rcnn_from_config_with_crop_feature0 (True)): 0.06s\n",
      "[       OK ] ModelBuilderTF2Test.test_create_faster_rcnn_from_config_with_crop_feature0 (True)\n",
      "[ RUN      ] ModelBuilderTF2Test.test_create_faster_rcnn_from_config_with_crop_feature1 (False)\n",
      "INFO:tensorflow:time(__main__.ModelBuilderTF2Test.test_create_faster_rcnn_from_config_with_crop_feature1 (False)): 0.02s\n",
      "I0324 12:02:53.719825 139648966550336 test_util.py:2189] time(__main__.ModelBuilderTF2Test.test_create_faster_rcnn_from_config_with_crop_feature1 (False)): 0.02s\n",
      "[       OK ] ModelBuilderTF2Test.test_create_faster_rcnn_from_config_with_crop_feature1 (False)\n",
      "[ RUN      ] ModelBuilderTF2Test.test_create_faster_rcnn_model_from_config_with_example_miner\n",
      "INFO:tensorflow:time(__main__.ModelBuilderTF2Test.test_create_faster_rcnn_model_from_config_with_example_miner): 0.02s\n",
      "I0324 12:02:53.741554 139648966550336 test_util.py:2189] time(__main__.ModelBuilderTF2Test.test_create_faster_rcnn_model_from_config_with_example_miner): 0.02s\n",
      "[       OK ] ModelBuilderTF2Test.test_create_faster_rcnn_model_from_config_with_example_miner\n",
      "[ RUN      ] ModelBuilderTF2Test.test_create_faster_rcnn_models_from_config_faster_rcnn_with_matmul\n",
      "INFO:tensorflow:time(__main__.ModelBuilderTF2Test.test_create_faster_rcnn_models_from_config_faster_rcnn_with_matmul): 0.11s\n",
      "I0324 12:02:53.853199 139648966550336 test_util.py:2189] time(__main__.ModelBuilderTF2Test.test_create_faster_rcnn_models_from_config_faster_rcnn_with_matmul): 0.11s\n",
      "[       OK ] ModelBuilderTF2Test.test_create_faster_rcnn_models_from_config_faster_rcnn_with_matmul\n",
      "[ RUN      ] ModelBuilderTF2Test.test_create_faster_rcnn_models_from_config_faster_rcnn_without_matmul\n",
      "INFO:tensorflow:time(__main__.ModelBuilderTF2Test.test_create_faster_rcnn_models_from_config_faster_rcnn_without_matmul): 0.1s\n",
      "I0324 12:02:53.949814 139648966550336 test_util.py:2189] time(__main__.ModelBuilderTF2Test.test_create_faster_rcnn_models_from_config_faster_rcnn_without_matmul): 0.1s\n",
      "[       OK ] ModelBuilderTF2Test.test_create_faster_rcnn_models_from_config_faster_rcnn_without_matmul\n",
      "[ RUN      ] ModelBuilderTF2Test.test_create_faster_rcnn_models_from_config_mask_rcnn_with_matmul\n",
      "INFO:tensorflow:time(__main__.ModelBuilderTF2Test.test_create_faster_rcnn_models_from_config_mask_rcnn_with_matmul): 0.1s\n",
      "I0324 12:02:54.054903 139648966550336 test_util.py:2189] time(__main__.ModelBuilderTF2Test.test_create_faster_rcnn_models_from_config_mask_rcnn_with_matmul): 0.1s\n",
      "[       OK ] ModelBuilderTF2Test.test_create_faster_rcnn_models_from_config_mask_rcnn_with_matmul\n",
      "[ RUN      ] ModelBuilderTF2Test.test_create_faster_rcnn_models_from_config_mask_rcnn_without_matmul\n",
      "INFO:tensorflow:time(__main__.ModelBuilderTF2Test.test_create_faster_rcnn_models_from_config_mask_rcnn_without_matmul): 0.1s\n",
      "I0324 12:02:54.152952 139648966550336 test_util.py:2189] time(__main__.ModelBuilderTF2Test.test_create_faster_rcnn_models_from_config_mask_rcnn_without_matmul): 0.1s\n",
      "[       OK ] ModelBuilderTF2Test.test_create_faster_rcnn_models_from_config_mask_rcnn_without_matmul\n",
      "[ RUN      ] ModelBuilderTF2Test.test_create_rfcn_model_from_config\n",
      "INFO:tensorflow:time(__main__.ModelBuilderTF2Test.test_create_rfcn_model_from_config): 0.1s\n",
      "I0324 12:02:54.251729 139648966550336 test_util.py:2189] time(__main__.ModelBuilderTF2Test.test_create_rfcn_model_from_config): 0.1s\n",
      "[       OK ] ModelBuilderTF2Test.test_create_rfcn_model_from_config\n",
      "[ RUN      ] ModelBuilderTF2Test.test_create_ssd_fpn_model_from_config\n",
      "INFO:tensorflow:time(__main__.ModelBuilderTF2Test.test_create_ssd_fpn_model_from_config): 0.03s\n",
      "I0324 12:02:54.284918 139648966550336 test_util.py:2189] time(__main__.ModelBuilderTF2Test.test_create_ssd_fpn_model_from_config): 0.03s\n",
      "[       OK ] ModelBuilderTF2Test.test_create_ssd_fpn_model_from_config\n",
      "[ RUN      ] ModelBuilderTF2Test.test_create_ssd_models_from_config\n",
      "I0324 12:02:54.585063 139648966550336 ssd_efficientnet_bifpn_feature_extractor.py:143] EfficientDet EfficientNet backbone version: efficientnet-b0\n",
      "I0324 12:02:54.585201 139648966550336 ssd_efficientnet_bifpn_feature_extractor.py:144] EfficientDet BiFPN num filters: 64\n",
      "I0324 12:02:54.585260 139648966550336 ssd_efficientnet_bifpn_feature_extractor.py:146] EfficientDet BiFPN num iterations: 3\n",
      "I0324 12:02:54.589297 139648966550336 efficientnet_model.py:147] round_filter input=32 output=32\n",
      "I0324 12:02:54.604556 139648966550336 efficientnet_model.py:147] round_filter input=32 output=32\n",
      "I0324 12:02:54.604677 139648966550336 efficientnet_model.py:147] round_filter input=16 output=16\n",
      "I0324 12:02:54.654032 139648966550336 efficientnet_model.py:147] round_filter input=16 output=16\n",
      "I0324 12:02:54.654161 139648966550336 efficientnet_model.py:147] round_filter input=24 output=24\n",
      "I0324 12:02:54.785274 139648966550336 efficientnet_model.py:147] round_filter input=24 output=24\n",
      "I0324 12:02:54.785407 139648966550336 efficientnet_model.py:147] round_filter input=40 output=40\n",
      "I0324 12:02:54.915839 139648966550336 efficientnet_model.py:147] round_filter input=40 output=40\n",
      "I0324 12:02:54.915970 139648966550336 efficientnet_model.py:147] round_filter input=80 output=80\n",
      "I0324 12:02:55.118499 139648966550336 efficientnet_model.py:147] round_filter input=80 output=80\n",
      "I0324 12:02:55.118628 139648966550336 efficientnet_model.py:147] round_filter input=112 output=112\n",
      "I0324 12:02:55.312216 139648966550336 efficientnet_model.py:147] round_filter input=112 output=112\n",
      "I0324 12:02:55.312350 139648966550336 efficientnet_model.py:147] round_filter input=192 output=192\n",
      "I0324 12:02:55.578033 139648966550336 efficientnet_model.py:147] round_filter input=192 output=192\n",
      "I0324 12:02:55.578159 139648966550336 efficientnet_model.py:147] round_filter input=320 output=320\n",
      "I0324 12:02:55.639882 139648966550336 efficientnet_model.py:147] round_filter input=1280 output=1280\n",
      "I0324 12:02:55.668405 139648966550336 efficientnet_model.py:457] Building model efficientnet with params ModelConfig(width_coefficient=1.0, depth_coefficient=1.0, resolution=224, dropout_rate=0.2, blocks=(BlockConfig(input_filters=32, output_filters=16, kernel_size=3, num_repeat=1, expand_ratio=1, strides=(1, 1), se_ratio=0.25, id_skip=True, fused_conv=False, conv_type='depthwise'), BlockConfig(input_filters=16, output_filters=24, kernel_size=3, num_repeat=2, expand_ratio=6, strides=(2, 2), se_ratio=0.25, id_skip=True, fused_conv=False, conv_type='depthwise'), BlockConfig(input_filters=24, output_filters=40, kernel_size=5, num_repeat=2, expand_ratio=6, strides=(2, 2), se_ratio=0.25, id_skip=True, fused_conv=False, conv_type='depthwise'), BlockConfig(input_filters=40, output_filters=80, kernel_size=3, num_repeat=3, expand_ratio=6, strides=(2, 2), se_ratio=0.25, id_skip=True, fused_conv=False, conv_type='depthwise'), BlockConfig(input_filters=80, output_filters=112, kernel_size=5, num_repeat=3, expand_ratio=6, strides=(1, 1), se_ratio=0.25, id_skip=True, fused_conv=False, conv_type='depthwise'), BlockConfig(input_filters=112, output_filters=192, kernel_size=5, num_repeat=4, expand_ratio=6, strides=(2, 2), se_ratio=0.25, id_skip=True, fused_conv=False, conv_type='depthwise'), BlockConfig(input_filters=192, output_filters=320, kernel_size=3, num_repeat=1, expand_ratio=6, strides=(1, 1), se_ratio=0.25, id_skip=True, fused_conv=False, conv_type='depthwise')), stem_base_filters=32, top_base_filters=1280, activation='simple_swish', batch_norm='default', bn_momentum=0.99, bn_epsilon=0.001, weight_decay=5e-06, drop_connect_rate=0.2, depth_divisor=8, min_depth=None, use_se=True, input_channels=3, num_classes=1000, model_name='efficientnet', rescale_input=False, data_format='channels_last', dtype='float32')\n",
      "I0324 12:02:55.722159 139648966550336 ssd_efficientnet_bifpn_feature_extractor.py:143] EfficientDet EfficientNet backbone version: efficientnet-b1\n",
      "I0324 12:02:55.722289 139648966550336 ssd_efficientnet_bifpn_feature_extractor.py:144] EfficientDet BiFPN num filters: 88\n",
      "I0324 12:02:55.722347 139648966550336 ssd_efficientnet_bifpn_feature_extractor.py:146] EfficientDet BiFPN num iterations: 4\n",
      "I0324 12:02:55.723934 139648966550336 efficientnet_model.py:147] round_filter input=32 output=32\n",
      "I0324 12:02:55.737151 139648966550336 efficientnet_model.py:147] round_filter input=32 output=32\n",
      "I0324 12:02:55.737274 139648966550336 efficientnet_model.py:147] round_filter input=16 output=16\n",
      "I0324 12:02:55.842196 139648966550336 efficientnet_model.py:147] round_filter input=16 output=16\n",
      "I0324 12:02:55.842323 139648966550336 efficientnet_model.py:147] round_filter input=24 output=24\n",
      "I0324 12:02:56.036262 139648966550336 efficientnet_model.py:147] round_filter input=24 output=24\n",
      "I0324 12:02:56.036386 139648966550336 efficientnet_model.py:147] round_filter input=40 output=40\n",
      "I0324 12:02:56.235339 139648966550336 efficientnet_model.py:147] round_filter input=40 output=40\n",
      "I0324 12:02:56.235474 139648966550336 efficientnet_model.py:147] round_filter input=80 output=80\n",
      "I0324 12:02:56.501913 139648966550336 efficientnet_model.py:147] round_filter input=80 output=80\n",
      "I0324 12:02:56.502045 139648966550336 efficientnet_model.py:147] round_filter input=112 output=112\n",
      "I0324 12:02:56.741104 139648966550336 efficientnet_model.py:147] round_filter input=112 output=112\n",
      "I0324 12:02:56.741243 139648966550336 efficientnet_model.py:147] round_filter input=192 output=192\n",
      "I0324 12:02:57.045721 139648966550336 efficientnet_model.py:147] round_filter input=192 output=192\n",
      "I0324 12:02:57.045858 139648966550336 efficientnet_model.py:147] round_filter input=320 output=320\n",
      "I0324 12:02:57.163229 139648966550336 efficientnet_model.py:147] round_filter input=1280 output=1280\n",
      "I0324 12:02:57.185039 139648966550336 efficientnet_model.py:457] Building model efficientnet with params ModelConfig(width_coefficient=1.0, depth_coefficient=1.1, resolution=240, dropout_rate=0.2, blocks=(BlockConfig(input_filters=32, output_filters=16, kernel_size=3, num_repeat=1, expand_ratio=1, strides=(1, 1), se_ratio=0.25, id_skip=True, fused_conv=False, conv_type='depthwise'), BlockConfig(input_filters=16, output_filters=24, kernel_size=3, num_repeat=2, expand_ratio=6, strides=(2, 2), se_ratio=0.25, id_skip=True, fused_conv=False, conv_type='depthwise'), BlockConfig(input_filters=24, output_filters=40, kernel_size=5, num_repeat=2, expand_ratio=6, strides=(2, 2), se_ratio=0.25, id_skip=True, fused_conv=False, conv_type='depthwise'), BlockConfig(input_filters=40, output_filters=80, kernel_size=3, num_repeat=3, expand_ratio=6, strides=(2, 2), se_ratio=0.25, id_skip=True, fused_conv=False, conv_type='depthwise'), BlockConfig(input_filters=80, output_filters=112, kernel_size=5, num_repeat=3, expand_ratio=6, strides=(1, 1), se_ratio=0.25, id_skip=True, fused_conv=False, conv_type='depthwise'), BlockConfig(input_filters=112, output_filters=192, kernel_size=5, num_repeat=4, expand_ratio=6, strides=(2, 2), se_ratio=0.25, id_skip=True, fused_conv=False, conv_type='depthwise'), BlockConfig(input_filters=192, output_filters=320, kernel_size=3, num_repeat=1, expand_ratio=6, strides=(1, 1), se_ratio=0.25, id_skip=True, fused_conv=False, conv_type='depthwise')), stem_base_filters=32, top_base_filters=1280, activation='simple_swish', batch_norm='default', bn_momentum=0.99, bn_epsilon=0.001, weight_decay=5e-06, drop_connect_rate=0.2, depth_divisor=8, min_depth=None, use_se=True, input_channels=3, num_classes=1000, model_name='efficientnet', rescale_input=False, data_format='channels_last', dtype='float32')\n",
      "I0324 12:02:57.240100 139648966550336 ssd_efficientnet_bifpn_feature_extractor.py:143] EfficientDet EfficientNet backbone version: efficientnet-b2\n",
      "I0324 12:02:57.240221 139648966550336 ssd_efficientnet_bifpn_feature_extractor.py:144] EfficientDet BiFPN num filters: 112\n",
      "I0324 12:02:57.240279 139648966550336 ssd_efficientnet_bifpn_feature_extractor.py:146] EfficientDet BiFPN num iterations: 5\n",
      "I0324 12:02:57.241762 139648966550336 efficientnet_model.py:147] round_filter input=32 output=32\n",
      "I0324 12:02:57.254719 139648966550336 efficientnet_model.py:147] round_filter input=32 output=32\n",
      "I0324 12:02:57.254822 139648966550336 efficientnet_model.py:147] round_filter input=16 output=16\n",
      "I0324 12:02:57.463039 139648966550336 efficientnet_model.py:147] round_filter input=16 output=16\n",
      "I0324 12:02:57.463193 139648966550336 efficientnet_model.py:147] round_filter input=24 output=24\n",
      "I0324 12:02:57.646268 139648966550336 efficientnet_model.py:147] round_filter input=24 output=24\n",
      "I0324 12:02:57.646394 139648966550336 efficientnet_model.py:147] round_filter input=40 output=48\n",
      "I0324 12:02:57.826382 139648966550336 efficientnet_model.py:147] round_filter input=40 output=48\n",
      "I0324 12:02:57.826518 139648966550336 efficientnet_model.py:147] round_filter input=80 output=88\n",
      "I0324 12:02:58.072636 139648966550336 efficientnet_model.py:147] round_filter input=80 output=88\n",
      "I0324 12:02:58.072778 139648966550336 efficientnet_model.py:147] round_filter input=112 output=120\n",
      "I0324 12:02:58.327334 139648966550336 efficientnet_model.py:147] round_filter input=112 output=120\n",
      "I0324 12:02:58.327459 139648966550336 efficientnet_model.py:147] round_filter input=192 output=208\n",
      "I0324 12:02:58.627194 139648966550336 efficientnet_model.py:147] round_filter input=192 output=208\n",
      "I0324 12:02:58.627343 139648966550336 efficientnet_model.py:147] round_filter input=320 output=352\n",
      "I0324 12:02:58.746473 139648966550336 efficientnet_model.py:147] round_filter input=1280 output=1408\n",
      "I0324 12:02:58.768940 139648966550336 efficientnet_model.py:457] Building model efficientnet with params ModelConfig(width_coefficient=1.1, depth_coefficient=1.2, resolution=260, dropout_rate=0.3, blocks=(BlockConfig(input_filters=32, output_filters=16, kernel_size=3, num_repeat=1, expand_ratio=1, strides=(1, 1), se_ratio=0.25, id_skip=True, fused_conv=False, conv_type='depthwise'), BlockConfig(input_filters=16, output_filters=24, kernel_size=3, num_repeat=2, expand_ratio=6, strides=(2, 2), se_ratio=0.25, id_skip=True, fused_conv=False, conv_type='depthwise'), BlockConfig(input_filters=24, output_filters=40, kernel_size=5, num_repeat=2, expand_ratio=6, strides=(2, 2), se_ratio=0.25, id_skip=True, fused_conv=False, conv_type='depthwise'), BlockConfig(input_filters=40, output_filters=80, kernel_size=3, num_repeat=3, expand_ratio=6, strides=(2, 2), se_ratio=0.25, id_skip=True, fused_conv=False, conv_type='depthwise'), BlockConfig(input_filters=80, output_filters=112, kernel_size=5, num_repeat=3, expand_ratio=6, strides=(1, 1), se_ratio=0.25, id_skip=True, fused_conv=False, conv_type='depthwise'), BlockConfig(input_filters=112, output_filters=192, kernel_size=5, num_repeat=4, expand_ratio=6, strides=(2, 2), se_ratio=0.25, id_skip=True, fused_conv=False, conv_type='depthwise'), BlockConfig(input_filters=192, output_filters=320, kernel_size=3, num_repeat=1, expand_ratio=6, strides=(1, 1), se_ratio=0.25, id_skip=True, fused_conv=False, conv_type='depthwise')), stem_base_filters=32, top_base_filters=1280, activation='simple_swish', batch_norm='default', bn_momentum=0.99, bn_epsilon=0.001, weight_decay=5e-06, drop_connect_rate=0.2, depth_divisor=8, min_depth=None, use_se=True, input_channels=3, num_classes=1000, model_name='efficientnet', rescale_input=False, data_format='channels_last', dtype='float32')\n",
      "I0324 12:02:58.825098 139648966550336 ssd_efficientnet_bifpn_feature_extractor.py:143] EfficientDet EfficientNet backbone version: efficientnet-b3\n",
      "I0324 12:02:58.825236 139648966550336 ssd_efficientnet_bifpn_feature_extractor.py:144] EfficientDet BiFPN num filters: 160\n",
      "I0324 12:02:58.825305 139648966550336 ssd_efficientnet_bifpn_feature_extractor.py:146] EfficientDet BiFPN num iterations: 6\n",
      "I0324 12:02:58.826738 139648966550336 efficientnet_model.py:147] round_filter input=32 output=40\n",
      "I0324 12:02:58.839273 139648966550336 efficientnet_model.py:147] round_filter input=32 output=40\n",
      "I0324 12:02:58.839367 139648966550336 efficientnet_model.py:147] round_filter input=16 output=24\n",
      "I0324 12:02:58.936172 139648966550336 efficientnet_model.py:147] round_filter input=16 output=24\n",
      "I0324 12:02:58.936305 139648966550336 efficientnet_model.py:147] round_filter input=24 output=32\n",
      "I0324 12:02:59.113026 139648966550336 efficientnet_model.py:147] round_filter input=24 output=32\n",
      "I0324 12:02:59.113160 139648966550336 efficientnet_model.py:147] round_filter input=40 output=48\n",
      "I0324 12:02:59.293102 139648966550336 efficientnet_model.py:147] round_filter input=40 output=48\n",
      "I0324 12:02:59.293238 139648966550336 efficientnet_model.py:147] round_filter input=80 output=96\n",
      "I0324 12:02:59.596138 139648966550336 efficientnet_model.py:147] round_filter input=80 output=96\n",
      "I0324 12:02:59.596278 139648966550336 efficientnet_model.py:147] round_filter input=112 output=136\n",
      "I0324 12:02:59.906878 139648966550336 efficientnet_model.py:147] round_filter input=112 output=136\n",
      "I0324 12:02:59.907025 139648966550336 efficientnet_model.py:147] round_filter input=192 output=232\n",
      "I0324 12:03:00.280678 139648966550336 efficientnet_model.py:147] round_filter input=192 output=232\n",
      "I0324 12:03:00.280815 139648966550336 efficientnet_model.py:147] round_filter input=320 output=384\n",
      "I0324 12:03:00.555609 139648966550336 efficientnet_model.py:147] round_filter input=1280 output=1536\n",
      "I0324 12:03:00.579458 139648966550336 efficientnet_model.py:457] Building model efficientnet with params ModelConfig(width_coefficient=1.2, depth_coefficient=1.4, resolution=300, dropout_rate=0.3, blocks=(BlockConfig(input_filters=32, output_filters=16, kernel_size=3, num_repeat=1, expand_ratio=1, strides=(1, 1), se_ratio=0.25, id_skip=True, fused_conv=False, conv_type='depthwise'), BlockConfig(input_filters=16, output_filters=24, kernel_size=3, num_repeat=2, expand_ratio=6, strides=(2, 2), se_ratio=0.25, id_skip=True, fused_conv=False, conv_type='depthwise'), BlockConfig(input_filters=24, output_filters=40, kernel_size=5, num_repeat=2, expand_ratio=6, strides=(2, 2), se_ratio=0.25, id_skip=True, fused_conv=False, conv_type='depthwise'), BlockConfig(input_filters=40, output_filters=80, kernel_size=3, num_repeat=3, expand_ratio=6, strides=(2, 2), se_ratio=0.25, id_skip=True, fused_conv=False, conv_type='depthwise'), BlockConfig(input_filters=80, output_filters=112, kernel_size=5, num_repeat=3, expand_ratio=6, strides=(1, 1), se_ratio=0.25, id_skip=True, fused_conv=False, conv_type='depthwise'), BlockConfig(input_filters=112, output_filters=192, kernel_size=5, num_repeat=4, expand_ratio=6, strides=(2, 2), se_ratio=0.25, id_skip=True, fused_conv=False, conv_type='depthwise'), BlockConfig(input_filters=192, output_filters=320, kernel_size=3, num_repeat=1, expand_ratio=6, strides=(1, 1), se_ratio=0.25, id_skip=True, fused_conv=False, conv_type='depthwise')), stem_base_filters=32, top_base_filters=1280, activation='simple_swish', batch_norm='default', bn_momentum=0.99, bn_epsilon=0.001, weight_decay=5e-06, drop_connect_rate=0.2, depth_divisor=8, min_depth=None, use_se=True, input_channels=3, num_classes=1000, model_name='efficientnet', rescale_input=False, data_format='channels_last', dtype='float32')\n",
      "I0324 12:03:00.643223 139648966550336 ssd_efficientnet_bifpn_feature_extractor.py:143] EfficientDet EfficientNet backbone version: efficientnet-b4\n",
      "I0324 12:03:00.643369 139648966550336 ssd_efficientnet_bifpn_feature_extractor.py:144] EfficientDet BiFPN num filters: 224\n",
      "I0324 12:03:00.643425 139648966550336 ssd_efficientnet_bifpn_feature_extractor.py:146] EfficientDet BiFPN num iterations: 7\n",
      "I0324 12:03:00.644904 139648966550336 efficientnet_model.py:147] round_filter input=32 output=48\n",
      "I0324 12:03:00.658479 139648966550336 efficientnet_model.py:147] round_filter input=32 output=48\n",
      "I0324 12:03:00.658602 139648966550336 efficientnet_model.py:147] round_filter input=16 output=24\n",
      "I0324 12:03:00.756417 139648966550336 efficientnet_model.py:147] round_filter input=16 output=24\n",
      "I0324 12:03:00.756540 139648966550336 efficientnet_model.py:147] round_filter input=24 output=32\n",
      "I0324 12:03:01.010392 139648966550336 efficientnet_model.py:147] round_filter input=24 output=32\n",
      "I0324 12:03:01.010523 139648966550336 efficientnet_model.py:147] round_filter input=40 output=56\n",
      "I0324 12:03:01.265227 139648966550336 efficientnet_model.py:147] round_filter input=40 output=56\n",
      "I0324 12:03:01.265359 139648966550336 efficientnet_model.py:147] round_filter input=80 output=112\n",
      "I0324 12:03:01.643863 139648966550336 efficientnet_model.py:147] round_filter input=80 output=112\n",
      "I0324 12:03:01.643990 139648966550336 efficientnet_model.py:147] round_filter input=112 output=160\n",
      "I0324 12:03:02.021574 139648966550336 efficientnet_model.py:147] round_filter input=112 output=160\n",
      "I0324 12:03:02.021701 139648966550336 efficientnet_model.py:147] round_filter input=192 output=272\n",
      "I0324 12:03:02.527172 139648966550336 efficientnet_model.py:147] round_filter input=192 output=272\n",
      "I0324 12:03:02.527300 139648966550336 efficientnet_model.py:147] round_filter input=320 output=448\n",
      "I0324 12:03:02.656013 139648966550336 efficientnet_model.py:147] round_filter input=1280 output=1792\n",
      "I0324 12:03:02.679822 139648966550336 efficientnet_model.py:457] Building model efficientnet with params ModelConfig(width_coefficient=1.4, depth_coefficient=1.8, resolution=380, dropout_rate=0.4, blocks=(BlockConfig(input_filters=32, output_filters=16, kernel_size=3, num_repeat=1, expand_ratio=1, strides=(1, 1), se_ratio=0.25, id_skip=True, fused_conv=False, conv_type='depthwise'), BlockConfig(input_filters=16, output_filters=24, kernel_size=3, num_repeat=2, expand_ratio=6, strides=(2, 2), se_ratio=0.25, id_skip=True, fused_conv=False, conv_type='depthwise'), BlockConfig(input_filters=24, output_filters=40, kernel_size=5, num_repeat=2, expand_ratio=6, strides=(2, 2), se_ratio=0.25, id_skip=True, fused_conv=False, conv_type='depthwise'), BlockConfig(input_filters=40, output_filters=80, kernel_size=3, num_repeat=3, expand_ratio=6, strides=(2, 2), se_ratio=0.25, id_skip=True, fused_conv=False, conv_type='depthwise'), BlockConfig(input_filters=80, output_filters=112, kernel_size=5, num_repeat=3, expand_ratio=6, strides=(1, 1), se_ratio=0.25, id_skip=True, fused_conv=False, conv_type='depthwise'), BlockConfig(input_filters=112, output_filters=192, kernel_size=5, num_repeat=4, expand_ratio=6, strides=(2, 2), se_ratio=0.25, id_skip=True, fused_conv=False, conv_type='depthwise'), BlockConfig(input_filters=192, output_filters=320, kernel_size=3, num_repeat=1, expand_ratio=6, strides=(1, 1), se_ratio=0.25, id_skip=True, fused_conv=False, conv_type='depthwise')), stem_base_filters=32, top_base_filters=1280, activation='simple_swish', batch_norm='default', bn_momentum=0.99, bn_epsilon=0.001, weight_decay=5e-06, drop_connect_rate=0.2, depth_divisor=8, min_depth=None, use_se=True, input_channels=3, num_classes=1000, model_name='efficientnet', rescale_input=False, data_format='channels_last', dtype='float32')\n",
      "I0324 12:03:02.751758 139648966550336 ssd_efficientnet_bifpn_feature_extractor.py:143] EfficientDet EfficientNet backbone version: efficientnet-b5\n",
      "I0324 12:03:02.751900 139648966550336 ssd_efficientnet_bifpn_feature_extractor.py:144] EfficientDet BiFPN num filters: 288\n",
      "I0324 12:03:02.751954 139648966550336 ssd_efficientnet_bifpn_feature_extractor.py:146] EfficientDet BiFPN num iterations: 7\n",
      "I0324 12:03:02.753421 139648966550336 efficientnet_model.py:147] round_filter input=32 output=48\n",
      "I0324 12:03:02.766207 139648966550336 efficientnet_model.py:147] round_filter input=32 output=48\n",
      "I0324 12:03:02.766335 139648966550336 efficientnet_model.py:147] round_filter input=16 output=24\n",
      "I0324 12:03:02.915987 139648966550336 efficientnet_model.py:147] round_filter input=16 output=24\n",
      "I0324 12:03:02.916140 139648966550336 efficientnet_model.py:147] round_filter input=24 output=40\n",
      "I0324 12:03:03.229598 139648966550336 efficientnet_model.py:147] round_filter input=24 output=40\n",
      "I0324 12:03:03.229740 139648966550336 efficientnet_model.py:147] round_filter input=40 output=64\n",
      "I0324 12:03:03.544050 139648966550336 efficientnet_model.py:147] round_filter input=40 output=64\n",
      "I0324 12:03:03.544194 139648966550336 efficientnet_model.py:147] round_filter input=80 output=128\n",
      "I0324 12:03:04.178145 139648966550336 efficientnet_model.py:147] round_filter input=80 output=128\n",
      "I0324 12:03:04.178293 139648966550336 efficientnet_model.py:147] round_filter input=112 output=176\n",
      "I0324 12:03:04.626545 139648966550336 efficientnet_model.py:147] round_filter input=112 output=176\n",
      "I0324 12:03:04.626674 139648966550336 efficientnet_model.py:147] round_filter input=192 output=304\n",
      "I0324 12:03:05.208078 139648966550336 efficientnet_model.py:147] round_filter input=192 output=304\n",
      "I0324 12:03:05.208223 139648966550336 efficientnet_model.py:147] round_filter input=320 output=512\n",
      "I0324 12:03:05.397791 139648966550336 efficientnet_model.py:147] round_filter input=1280 output=2048\n",
      "I0324 12:03:05.421207 139648966550336 efficientnet_model.py:457] Building model efficientnet with params ModelConfig(width_coefficient=1.6, depth_coefficient=2.2, resolution=456, dropout_rate=0.4, blocks=(BlockConfig(input_filters=32, output_filters=16, kernel_size=3, num_repeat=1, expand_ratio=1, strides=(1, 1), se_ratio=0.25, id_skip=True, fused_conv=False, conv_type='depthwise'), BlockConfig(input_filters=16, output_filters=24, kernel_size=3, num_repeat=2, expand_ratio=6, strides=(2, 2), se_ratio=0.25, id_skip=True, fused_conv=False, conv_type='depthwise'), BlockConfig(input_filters=24, output_filters=40, kernel_size=5, num_repeat=2, expand_ratio=6, strides=(2, 2), se_ratio=0.25, id_skip=True, fused_conv=False, conv_type='depthwise'), BlockConfig(input_filters=40, output_filters=80, kernel_size=3, num_repeat=3, expand_ratio=6, strides=(2, 2), se_ratio=0.25, id_skip=True, fused_conv=False, conv_type='depthwise'), BlockConfig(input_filters=80, output_filters=112, kernel_size=5, num_repeat=3, expand_ratio=6, strides=(1, 1), se_ratio=0.25, id_skip=True, fused_conv=False, conv_type='depthwise'), BlockConfig(input_filters=112, output_filters=192, kernel_size=5, num_repeat=4, expand_ratio=6, strides=(2, 2), se_ratio=0.25, id_skip=True, fused_conv=False, conv_type='depthwise'), BlockConfig(input_filters=192, output_filters=320, kernel_size=3, num_repeat=1, expand_ratio=6, strides=(1, 1), se_ratio=0.25, id_skip=True, fused_conv=False, conv_type='depthwise')), stem_base_filters=32, top_base_filters=1280, activation='simple_swish', batch_norm='default', bn_momentum=0.99, bn_epsilon=0.001, weight_decay=5e-06, drop_connect_rate=0.2, depth_divisor=8, min_depth=None, use_se=True, input_channels=3, num_classes=1000, model_name='efficientnet', rescale_input=False, data_format='channels_last', dtype='float32')\n",
      "I0324 12:03:05.504274 139648966550336 ssd_efficientnet_bifpn_feature_extractor.py:143] EfficientDet EfficientNet backbone version: efficientnet-b6\n",
      "I0324 12:03:05.504420 139648966550336 ssd_efficientnet_bifpn_feature_extractor.py:144] EfficientDet BiFPN num filters: 384\n",
      "I0324 12:03:05.504476 139648966550336 ssd_efficientnet_bifpn_feature_extractor.py:146] EfficientDet BiFPN num iterations: 8\n",
      "I0324 12:03:05.505947 139648966550336 efficientnet_model.py:147] round_filter input=32 output=56\n",
      "I0324 12:03:05.518899 139648966550336 efficientnet_model.py:147] round_filter input=32 output=56\n",
      "I0324 12:03:05.519038 139648966550336 efficientnet_model.py:147] round_filter input=16 output=32\n",
      "I0324 12:03:05.669564 139648966550336 efficientnet_model.py:147] round_filter input=16 output=32\n",
      "I0324 12:03:05.669707 139648966550336 efficientnet_model.py:147] round_filter input=24 output=40\n",
      "I0324 12:03:06.051993 139648966550336 efficientnet_model.py:147] round_filter input=24 output=40\n",
      "I0324 12:03:06.052117 139648966550336 efficientnet_model.py:147] round_filter input=40 output=72\n",
      "I0324 12:03:06.433086 139648966550336 efficientnet_model.py:147] round_filter input=40 output=72\n",
      "I0324 12:03:06.433233 139648966550336 efficientnet_model.py:147] round_filter input=80 output=144\n",
      "I0324 12:03:06.942269 139648966550336 efficientnet_model.py:147] round_filter input=80 output=144\n",
      "I0324 12:03:06.942429 139648966550336 efficientnet_model.py:147] round_filter input=112 output=200\n",
      "I0324 12:03:07.456268 139648966550336 efficientnet_model.py:147] round_filter input=112 output=200\n",
      "I0324 12:03:07.456409 139648966550336 efficientnet_model.py:147] round_filter input=192 output=344\n",
      "I0324 12:03:08.324265 139648966550336 efficientnet_model.py:147] round_filter input=192 output=344\n",
      "I0324 12:03:08.324405 139648966550336 efficientnet_model.py:147] round_filter input=320 output=576\n",
      "I0324 12:03:08.512345 139648966550336 efficientnet_model.py:147] round_filter input=1280 output=2304\n",
      "I0324 12:03:08.535287 139648966550336 efficientnet_model.py:457] Building model efficientnet with params ModelConfig(width_coefficient=1.8, depth_coefficient=2.6, resolution=528, dropout_rate=0.5, blocks=(BlockConfig(input_filters=32, output_filters=16, kernel_size=3, num_repeat=1, expand_ratio=1, strides=(1, 1), se_ratio=0.25, id_skip=True, fused_conv=False, conv_type='depthwise'), BlockConfig(input_filters=16, output_filters=24, kernel_size=3, num_repeat=2, expand_ratio=6, strides=(2, 2), se_ratio=0.25, id_skip=True, fused_conv=False, conv_type='depthwise'), BlockConfig(input_filters=24, output_filters=40, kernel_size=5, num_repeat=2, expand_ratio=6, strides=(2, 2), se_ratio=0.25, id_skip=True, fused_conv=False, conv_type='depthwise'), BlockConfig(input_filters=40, output_filters=80, kernel_size=3, num_repeat=3, expand_ratio=6, strides=(2, 2), se_ratio=0.25, id_skip=True, fused_conv=False, conv_type='depthwise'), BlockConfig(input_filters=80, output_filters=112, kernel_size=5, num_repeat=3, expand_ratio=6, strides=(1, 1), se_ratio=0.25, id_skip=True, fused_conv=False, conv_type='depthwise'), BlockConfig(input_filters=112, output_filters=192, kernel_size=5, num_repeat=4, expand_ratio=6, strides=(2, 2), se_ratio=0.25, id_skip=True, fused_conv=False, conv_type='depthwise'), BlockConfig(input_filters=192, output_filters=320, kernel_size=3, num_repeat=1, expand_ratio=6, strides=(1, 1), se_ratio=0.25, id_skip=True, fused_conv=False, conv_type='depthwise')), stem_base_filters=32, top_base_filters=1280, activation='simple_swish', batch_norm='default', bn_momentum=0.99, bn_epsilon=0.001, weight_decay=5e-06, drop_connect_rate=0.2, depth_divisor=8, min_depth=None, use_se=True, input_channels=3, num_classes=1000, model_name='efficientnet', rescale_input=False, data_format='channels_last', dtype='float32')\n",
      "I0324 12:03:08.629157 139648966550336 ssd_efficientnet_bifpn_feature_extractor.py:143] EfficientDet EfficientNet backbone version: efficientnet-b7\n",
      "I0324 12:03:08.629300 139648966550336 ssd_efficientnet_bifpn_feature_extractor.py:144] EfficientDet BiFPN num filters: 384\n",
      "I0324 12:03:08.629357 139648966550336 ssd_efficientnet_bifpn_feature_extractor.py:146] EfficientDet BiFPN num iterations: 8\n",
      "I0324 12:03:08.630809 139648966550336 efficientnet_model.py:147] round_filter input=32 output=64\n",
      "I0324 12:03:08.643467 139648966550336 efficientnet_model.py:147] round_filter input=32 output=64\n",
      "I0324 12:03:08.643581 139648966550336 efficientnet_model.py:147] round_filter input=16 output=32\n",
      "I0324 12:03:08.845450 139648966550336 efficientnet_model.py:147] round_filter input=16 output=32\n",
      "I0324 12:03:08.845591 139648966550336 efficientnet_model.py:147] round_filter input=24 output=48\n",
      "I0324 12:03:09.293115 139648966550336 efficientnet_model.py:147] round_filter input=24 output=48\n",
      "I0324 12:03:09.293242 139648966550336 efficientnet_model.py:147] round_filter input=40 output=80\n",
      "I0324 12:03:09.737717 139648966550336 efficientnet_model.py:147] round_filter input=40 output=80\n",
      "I0324 12:03:09.737855 139648966550336 efficientnet_model.py:147] round_filter input=80 output=160\n",
      "I0324 12:03:10.349625 139648966550336 efficientnet_model.py:147] round_filter input=80 output=160\n",
      "I0324 12:03:10.349765 139648966550336 efficientnet_model.py:147] round_filter input=112 output=224\n",
      "I0324 12:03:10.980817 139648966550336 efficientnet_model.py:147] round_filter input=112 output=224\n",
      "I0324 12:03:10.980957 139648966550336 efficientnet_model.py:147] round_filter input=192 output=384\n",
      "I0324 12:03:11.994451 139648966550336 efficientnet_model.py:147] round_filter input=192 output=384\n",
      "I0324 12:03:11.994597 139648966550336 efficientnet_model.py:147] round_filter input=320 output=640\n",
      "I0324 12:03:12.250477 139648966550336 efficientnet_model.py:147] round_filter input=1280 output=2560\n",
      "I0324 12:03:12.273609 139648966550336 efficientnet_model.py:457] Building model efficientnet with params ModelConfig(width_coefficient=2.0, depth_coefficient=3.1, resolution=600, dropout_rate=0.5, blocks=(BlockConfig(input_filters=32, output_filters=16, kernel_size=3, num_repeat=1, expand_ratio=1, strides=(1, 1), se_ratio=0.25, id_skip=True, fused_conv=False, conv_type='depthwise'), BlockConfig(input_filters=16, output_filters=24, kernel_size=3, num_repeat=2, expand_ratio=6, strides=(2, 2), se_ratio=0.25, id_skip=True, fused_conv=False, conv_type='depthwise'), BlockConfig(input_filters=24, output_filters=40, kernel_size=5, num_repeat=2, expand_ratio=6, strides=(2, 2), se_ratio=0.25, id_skip=True, fused_conv=False, conv_type='depthwise'), BlockConfig(input_filters=40, output_filters=80, kernel_size=3, num_repeat=3, expand_ratio=6, strides=(2, 2), se_ratio=0.25, id_skip=True, fused_conv=False, conv_type='depthwise'), BlockConfig(input_filters=80, output_filters=112, kernel_size=5, num_repeat=3, expand_ratio=6, strides=(1, 1), se_ratio=0.25, id_skip=True, fused_conv=False, conv_type='depthwise'), BlockConfig(input_filters=112, output_filters=192, kernel_size=5, num_repeat=4, expand_ratio=6, strides=(2, 2), se_ratio=0.25, id_skip=True, fused_conv=False, conv_type='depthwise'), BlockConfig(input_filters=192, output_filters=320, kernel_size=3, num_repeat=1, expand_ratio=6, strides=(1, 1), se_ratio=0.25, id_skip=True, fused_conv=False, conv_type='depthwise')), stem_base_filters=32, top_base_filters=1280, activation='simple_swish', batch_norm='default', bn_momentum=0.99, bn_epsilon=0.001, weight_decay=5e-06, drop_connect_rate=0.2, depth_divisor=8, min_depth=None, use_se=True, input_channels=3, num_classes=1000, model_name='efficientnet', rescale_input=False, data_format='channels_last', dtype='float32')\n",
      "INFO:tensorflow:time(__main__.ModelBuilderTF2Test.test_create_ssd_models_from_config): 18.1s\n",
      "I0324 12:03:12.383007 139648966550336 test_util.py:2189] time(__main__.ModelBuilderTF2Test.test_create_ssd_models_from_config): 18.1s\n",
      "[       OK ] ModelBuilderTF2Test.test_create_ssd_models_from_config\n",
      "[ RUN      ] ModelBuilderTF2Test.test_invalid_faster_rcnn_batchnorm_update\n",
      "INFO:tensorflow:time(__main__.ModelBuilderTF2Test.test_invalid_faster_rcnn_batchnorm_update): 0.0s\n",
      "I0324 12:03:12.392090 139648966550336 test_util.py:2189] time(__main__.ModelBuilderTF2Test.test_invalid_faster_rcnn_batchnorm_update): 0.0s\n",
      "[       OK ] ModelBuilderTF2Test.test_invalid_faster_rcnn_batchnorm_update\n",
      "[ RUN      ] ModelBuilderTF2Test.test_invalid_first_stage_nms_iou_threshold\n",
      "INFO:tensorflow:time(__main__.ModelBuilderTF2Test.test_invalid_first_stage_nms_iou_threshold): 0.0s\n",
      "I0324 12:03:12.393590 139648966550336 test_util.py:2189] time(__main__.ModelBuilderTF2Test.test_invalid_first_stage_nms_iou_threshold): 0.0s\n",
      "[       OK ] ModelBuilderTF2Test.test_invalid_first_stage_nms_iou_threshold\n",
      "[ RUN      ] ModelBuilderTF2Test.test_invalid_model_config_proto\n",
      "INFO:tensorflow:time(__main__.ModelBuilderTF2Test.test_invalid_model_config_proto): 0.0s\n",
      "I0324 12:03:12.393926 139648966550336 test_util.py:2189] time(__main__.ModelBuilderTF2Test.test_invalid_model_config_proto): 0.0s\n",
      "[       OK ] ModelBuilderTF2Test.test_invalid_model_config_proto\n",
      "[ RUN      ] ModelBuilderTF2Test.test_invalid_second_stage_batch_size\n",
      "INFO:tensorflow:time(__main__.ModelBuilderTF2Test.test_invalid_second_stage_batch_size): 0.0s\n",
      "I0324 12:03:12.395163 139648966550336 test_util.py:2189] time(__main__.ModelBuilderTF2Test.test_invalid_second_stage_batch_size): 0.0s\n",
      "[       OK ] ModelBuilderTF2Test.test_invalid_second_stage_batch_size\n",
      "[ RUN      ] ModelBuilderTF2Test.test_session\n",
      "[  SKIPPED ] ModelBuilderTF2Test.test_session\n",
      "[ RUN      ] ModelBuilderTF2Test.test_unknown_faster_rcnn_feature_extractor\n",
      "INFO:tensorflow:time(__main__.ModelBuilderTF2Test.test_unknown_faster_rcnn_feature_extractor): 0.0s\n",
      "I0324 12:03:12.396306 139648966550336 test_util.py:2189] time(__main__.ModelBuilderTF2Test.test_unknown_faster_rcnn_feature_extractor): 0.0s\n",
      "[       OK ] ModelBuilderTF2Test.test_unknown_faster_rcnn_feature_extractor\n",
      "[ RUN      ] ModelBuilderTF2Test.test_unknown_meta_architecture\n",
      "INFO:tensorflow:time(__main__.ModelBuilderTF2Test.test_unknown_meta_architecture): 0.0s\n",
      "I0324 12:03:12.396609 139648966550336 test_util.py:2189] time(__main__.ModelBuilderTF2Test.test_unknown_meta_architecture): 0.0s\n",
      "[       OK ] ModelBuilderTF2Test.test_unknown_meta_architecture\n",
      "[ RUN      ] ModelBuilderTF2Test.test_unknown_ssd_feature_extractor\n",
      "INFO:tensorflow:time(__main__.ModelBuilderTF2Test.test_unknown_ssd_feature_extractor): 0.0s\n",
      "I0324 12:03:12.397520 139648966550336 test_util.py:2189] time(__main__.ModelBuilderTF2Test.test_unknown_ssd_feature_extractor): 0.0s\n",
      "[       OK ] ModelBuilderTF2Test.test_unknown_ssd_feature_extractor\n",
      "----------------------------------------------------------------------\n",
      "Ran 24 tests in 22.384s\n",
      "\n",
      "OK (skipped=1)\n"
     ]
    }
   ],
   "source": [
    "if SETUP_ENVIRONMENT:\n",
    "    VERIFICATION_SCRIPT = os.path.join(paths['APIMODEL_PATH'], 'research', 'object_detection', 'builders', 'model_builder_tf2_test.py')\n",
    "    # Verify Installation\n",
    "    !python {VERIFICATION_SCRIPT}"
   ]
  },
  {
   "cell_type": "code",
   "execution_count": 11,
   "metadata": {},
   "outputs": [
    {
     "name": "stdout",
     "output_type": "stream",
     "text": [
      "Requirement already satisfied: tensorflow in /home/ivo/anaconda3/envs/tfod/lib/python3.6/site-packages (2.6.2)\n",
      "Requirement already satisfied: h5py~=3.1.0 in /home/ivo/anaconda3/envs/tfod/lib/python3.6/site-packages (from tensorflow) (3.1.0)\n",
      "Requirement already satisfied: clang~=5.0 in /home/ivo/anaconda3/envs/tfod/lib/python3.6/site-packages (from tensorflow) (5.0)\n",
      "Requirement already satisfied: typing-extensions~=3.7.4 in /home/ivo/anaconda3/envs/tfod/lib/python3.6/site-packages (from tensorflow) (3.7.4.3)\n",
      "Requirement already satisfied: gast==0.4.0 in /home/ivo/anaconda3/envs/tfod/lib/python3.6/site-packages (from tensorflow) (0.4.0)\n",
      "Requirement already satisfied: grpcio<2.0,>=1.37.0 in /home/ivo/anaconda3/envs/tfod/lib/python3.6/site-packages (from tensorflow) (1.48.2)\n",
      "Requirement already satisfied: astunparse~=1.6.3 in /home/ivo/anaconda3/envs/tfod/lib/python3.6/site-packages (from tensorflow) (1.6.3)\n",
      "Requirement already satisfied: tensorboard<2.7,>=2.6.0 in /home/ivo/anaconda3/envs/tfod/lib/python3.6/site-packages (from tensorflow) (2.6.0)\n",
      "Requirement already satisfied: keras<2.7,>=2.6.0 in /home/ivo/anaconda3/envs/tfod/lib/python3.6/site-packages (from tensorflow) (2.6.0)\n",
      "Requirement already satisfied: keras-preprocessing~=1.1.2 in /home/ivo/anaconda3/envs/tfod/lib/python3.6/site-packages (from tensorflow) (1.1.2)\n",
      "Requirement already satisfied: flatbuffers~=1.12.0 in /home/ivo/anaconda3/envs/tfod/lib/python3.6/site-packages (from tensorflow) (1.12)\n",
      "Requirement already satisfied: six~=1.15.0 in /home/ivo/anaconda3/envs/tfod/lib/python3.6/site-packages (from tensorflow) (1.15.0)\n",
      "Requirement already satisfied: numpy~=1.19.2 in /home/ivo/anaconda3/envs/tfod/lib/python3.6/site-packages (from tensorflow) (1.19.5)\n",
      "Requirement already satisfied: google-pasta~=0.2 in /home/ivo/anaconda3/envs/tfod/lib/python3.6/site-packages (from tensorflow) (0.2.0)\n",
      "Requirement already satisfied: protobuf>=3.9.2 in /home/ivo/anaconda3/envs/tfod/lib/python3.6/site-packages (from tensorflow) (3.19.6)\n",
      "Requirement already satisfied: opt-einsum~=3.3.0 in /home/ivo/anaconda3/envs/tfod/lib/python3.6/site-packages (from tensorflow) (3.3.0)\n",
      "Requirement already satisfied: termcolor~=1.1.0 in /home/ivo/anaconda3/envs/tfod/lib/python3.6/site-packages (from tensorflow) (1.1.0)\n",
      "Requirement already satisfied: tensorflow-estimator<2.7,>=2.6.0 in /home/ivo/anaconda3/envs/tfod/lib/python3.6/site-packages (from tensorflow) (2.6.0)\n",
      "Requirement already satisfied: wrapt~=1.12.1 in /home/ivo/anaconda3/envs/tfod/lib/python3.6/site-packages (from tensorflow) (1.12.1)\n",
      "Requirement already satisfied: wheel~=0.35 in /home/ivo/anaconda3/envs/tfod/lib/python3.6/site-packages (from tensorflow) (0.37.1)\n",
      "Requirement already satisfied: absl-py~=0.10 in /home/ivo/anaconda3/envs/tfod/lib/python3.6/site-packages (from tensorflow) (0.12.0)\n",
      "Requirement already satisfied: cached-property in /home/ivo/anaconda3/envs/tfod/lib/python3.6/site-packages (from h5py~=3.1.0->tensorflow) (1.5.2)\n",
      "Requirement already satisfied: google-auth-oauthlib<0.5,>=0.4.1 in /home/ivo/anaconda3/envs/tfod/lib/python3.6/site-packages (from tensorboard<2.7,>=2.6.0->tensorflow) (0.4.6)\n",
      "Requirement already satisfied: setuptools>=41.0.0 in /home/ivo/anaconda3/envs/tfod/lib/python3.6/site-packages (from tensorboard<2.7,>=2.6.0->tensorflow) (59.6.0)\n",
      "Requirement already satisfied: werkzeug>=0.11.15 in /home/ivo/anaconda3/envs/tfod/lib/python3.6/site-packages (from tensorboard<2.7,>=2.6.0->tensorflow) (2.0.3)\n",
      "Requirement already satisfied: tensorboard-plugin-wit>=1.6.0 in /home/ivo/anaconda3/envs/tfod/lib/python3.6/site-packages (from tensorboard<2.7,>=2.6.0->tensorflow) (1.8.1)\n",
      "Requirement already satisfied: markdown>=2.6.8 in /home/ivo/anaconda3/envs/tfod/lib/python3.6/site-packages (from tensorboard<2.7,>=2.6.0->tensorflow) (3.3.7)\n",
      "Requirement already satisfied: requests<3,>=2.21.0 in /home/ivo/anaconda3/envs/tfod/lib/python3.6/site-packages (from tensorboard<2.7,>=2.6.0->tensorflow) (2.27.1)\n",
      "Requirement already satisfied: tensorboard-data-server<0.7.0,>=0.6.0 in /home/ivo/anaconda3/envs/tfod/lib/python3.6/site-packages (from tensorboard<2.7,>=2.6.0->tensorflow) (0.6.1)\n",
      "Requirement already satisfied: google-auth<2,>=1.6.3 in /home/ivo/anaconda3/envs/tfod/lib/python3.6/site-packages (from tensorboard<2.7,>=2.6.0->tensorflow) (1.35.0)\n",
      "Requirement already satisfied: rsa<5,>=3.1.4 in /home/ivo/anaconda3/envs/tfod/lib/python3.6/site-packages (from google-auth<2,>=1.6.3->tensorboard<2.7,>=2.6.0->tensorflow) (4.9)\n",
      "Requirement already satisfied: cachetools<5.0,>=2.0.0 in /home/ivo/anaconda3/envs/tfod/lib/python3.6/site-packages (from google-auth<2,>=1.6.3->tensorboard<2.7,>=2.6.0->tensorflow) (4.2.4)\n",
      "Requirement already satisfied: pyasn1-modules>=0.2.1 in /home/ivo/anaconda3/envs/tfod/lib/python3.6/site-packages (from google-auth<2,>=1.6.3->tensorboard<2.7,>=2.6.0->tensorflow) (0.2.8)\n",
      "Requirement already satisfied: requests-oauthlib>=0.7.0 in /home/ivo/anaconda3/envs/tfod/lib/python3.6/site-packages (from google-auth-oauthlib<0.5,>=0.4.1->tensorboard<2.7,>=2.6.0->tensorflow) (1.3.1)\n",
      "Requirement already satisfied: importlib-metadata>=4.4 in /home/ivo/anaconda3/envs/tfod/lib/python3.6/site-packages (from markdown>=2.6.8->tensorboard<2.7,>=2.6.0->tensorflow) (4.8.3)\n",
      "Requirement already satisfied: idna<4,>=2.5 in /home/ivo/anaconda3/envs/tfod/lib/python3.6/site-packages (from requests<3,>=2.21.0->tensorboard<2.7,>=2.6.0->tensorflow) (3.4)\n",
      "Requirement already satisfied: charset-normalizer~=2.0.0 in /home/ivo/anaconda3/envs/tfod/lib/python3.6/site-packages (from requests<3,>=2.21.0->tensorboard<2.7,>=2.6.0->tensorflow) (2.0.12)\n",
      "Requirement already satisfied: urllib3<1.27,>=1.21.1 in /home/ivo/anaconda3/envs/tfod/lib/python3.6/site-packages (from requests<3,>=2.21.0->tensorboard<2.7,>=2.6.0->tensorflow) (1.26.15)\n",
      "Requirement already satisfied: certifi>=2017.4.17 in /home/ivo/anaconda3/envs/tfod/lib/python3.6/site-packages (from requests<3,>=2.21.0->tensorboard<2.7,>=2.6.0->tensorflow) (2021.5.30)\n",
      "Requirement already satisfied: dataclasses in /home/ivo/anaconda3/envs/tfod/lib/python3.6/site-packages (from werkzeug>=0.11.15->tensorboard<2.7,>=2.6.0->tensorflow) (0.8)\n",
      "Requirement already satisfied: zipp>=0.5 in /home/ivo/anaconda3/envs/tfod/lib/python3.6/site-packages (from importlib-metadata>=4.4->markdown>=2.6.8->tensorboard<2.7,>=2.6.0->tensorflow) (3.6.0)\n",
      "Requirement already satisfied: pyasn1<0.5.0,>=0.4.6 in /home/ivo/anaconda3/envs/tfod/lib/python3.6/site-packages (from pyasn1-modules>=0.2.1->google-auth<2,>=1.6.3->tensorboard<2.7,>=2.6.0->tensorflow) (0.4.8)\n",
      "Requirement already satisfied: oauthlib>=3.0.0 in /home/ivo/anaconda3/envs/tfod/lib/python3.6/site-packages (from requests-oauthlib>=0.7.0->google-auth-oauthlib<0.5,>=0.4.1->tensorboard<2.7,>=2.6.0->tensorflow) (3.2.2)\n",
      "\u001b[33mWARNING: You are using pip version 21.3.1; however, version 23.0.1 is available.\n",
      "You should consider upgrading via the '/home/ivo/anaconda3/envs/tfod/bin/python -m pip install --upgrade pip' command.\u001b[0m\n"
     ]
    }
   ],
   "source": [
    "if SETUP_ENVIRONMENT:\n",
    "    !pip install tensorflow --upgrade"
   ]
  },
  {
   "cell_type": "markdown",
   "metadata": {
    "id": "OLU-rs_ipfDE"
   },
   "source": [
    "# 1. Load pre-trained Model"
   ]
  },
  {
   "cell_type": "code",
   "execution_count": 12,
   "metadata": {},
   "outputs": [
    {
     "name": "stdout",
     "output_type": "stream",
     "text": [
      "Fri Mar 24 12:03:15 2023       \n",
      "+-----------------------------------------------------------------------------+\n",
      "| NVIDIA-SMI 510.108.03   Driver Version: 510.108.03   CUDA Version: 11.6     |\n",
      "|-------------------------------+----------------------+----------------------+\n",
      "| GPU  Name        Persistence-M| Bus-Id        Disp.A | Volatile Uncorr. ECC |\n",
      "| Fan  Temp  Perf  Pwr:Usage/Cap|         Memory-Usage | GPU-Util  Compute M. |\n",
      "|                               |                      |               MIG M. |\n",
      "|===============================+======================+======================|\n",
      "|   0  NVIDIA GeForce ...  Off  | 00000000:02:00.0 Off |                  N/A |\n",
      "|  0%   38C    P0    55W / 200W |    102MiB /  8192MiB |      0%      Default |\n",
      "|                               |                      |                  N/A |\n",
      "+-------------------------------+----------------------+----------------------+\n",
      "                                                                               \n",
      "+-----------------------------------------------------------------------------+\n",
      "| Processes:                                                                  |\n",
      "|  GPU   GI   CI        PID   Type   Process name                  GPU Memory |\n",
      "|        ID   ID                                                   Usage      |\n",
      "|=============================================================================|\n",
      "|    0   N/A  N/A      1746      G   /usr/lib/xorg/Xorg                 89MiB |\n",
      "|    0   N/A  N/A      1876      G   /usr/bin/gnome-shell                9MiB |\n",
      "+-----------------------------------------------------------------------------+\n"
     ]
    }
   ],
   "source": [
    "#!pip list\n",
    "!nvidia-smi"
   ]
  },
  {
   "cell_type": "code",
   "execution_count": 13,
   "metadata": {},
   "outputs": [
    {
     "name": "stdout",
     "output_type": "stream",
     "text": [
      "mattia   :1           2023-01-16 16:17 (:1)\n",
      "ivo      pts/9        2023-03-24 08:46 (82.170.226.202)\n",
      "ivo      pts/15       2023-03-24 10:22 (82.170.226.202)\n"
     ]
    }
   ],
   "source": [
    "!who"
   ]
  },
  {
   "attachments": {},
   "cell_type": "markdown",
   "metadata": {},
   "source": [
    "## Downloading the model\n",
    "On tf Model Zoo Website (https://github.com/tensorflow/models/blob/master/research/object_detection/g3doc/tf2_detection_zoo.md)\n",
    "- right click on model to get url\n",
    "- copy name part of url to use as name"
   ]
  },
  {
   "cell_type": "code",
   "execution_count": 14,
   "metadata": {
    "colab": {
     "base_uri": "https://localhost:8080/"
    },
    "id": "csofht2npfDE",
    "outputId": "ff5471b2-bed2-43f2-959c-327a706527b6"
   },
   "outputs": [
    {
     "name": "stdout",
     "output_type": "stream",
     "text": [
      "--2023-03-24 12:03:16--  http://download.tensorflow.org/models/object_detection/tf2/20200713/centernet_hg104_1024x1024_coco17_tpu-32.tar.gz\n",
      "Resolving download.tensorflow.org (download.tensorflow.org)... 142.250.179.208, 2a00:1450:400e:803::2010\n",
      "Connecting to download.tensorflow.org (download.tensorflow.org)|142.250.179.208|:80... connected.\n",
      "HTTP request sent, awaiting response... 200 OK\n",
      "Length: 1424430731 (1,3G) [application/x-tar]\n",
      "Saving to: ‘centernet_hg104_1024x1024_coco17_tpu-32.tar.gz’\n",
      "\n",
      "centernet_hg104_102 100%[===================>]   1,33G  33,3MB/s    in 19s     \n",
      "\n",
      "2023-03-24 12:03:35 (72,5 MB/s) - ‘centernet_hg104_1024x1024_coco17_tpu-32.tar.gz’ saved [1424430731/1424430731]\n",
      "\n",
      "centernet_hg104_1024x1024_coco17_tpu-32/\n",
      "centernet_hg104_1024x1024_coco17_tpu-32/checkpoint/\n",
      "centernet_hg104_1024x1024_coco17_tpu-32/checkpoint/ckpt-0.data-00000-of-00001\n",
      "centernet_hg104_1024x1024_coco17_tpu-32/checkpoint/checkpoint\n",
      "centernet_hg104_1024x1024_coco17_tpu-32/checkpoint/ckpt-0.index\n",
      "centernet_hg104_1024x1024_coco17_tpu-32/pipeline.config\n",
      "centernet_hg104_1024x1024_coco17_tpu-32/saved_model/\n",
      "centernet_hg104_1024x1024_coco17_tpu-32/saved_model/saved_model.pb\n",
      "centernet_hg104_1024x1024_coco17_tpu-32/saved_model/assets/\n",
      "centernet_hg104_1024x1024_coco17_tpu-32/saved_model/variables/\n",
      "centernet_hg104_1024x1024_coco17_tpu-32/saved_model/variables/variables.data-00000-of-00001\n",
      "centernet_hg104_1024x1024_coco17_tpu-32/saved_model/variables/variables.index\n"
     ]
    }
   ],
   "source": [
    "# download model from tf model zoo\n",
    "if os.name =='posix':\n",
    "    !wget {PRETRAINED_MODEL_URL}\n",
    "    !mv {PRETRAINED_MODEL_NAME+'.tar.gz'} {paths['PRETRAINED_MODEL_PATH']}\n",
    "    !cd {paths['PRETRAINED_MODEL_PATH']} && tar -zxvf {PRETRAINED_MODEL_NAME+'.tar.gz'}\n",
    "if os.name == 'nt':\n",
    "    wget.download(PRETRAINED_MODEL_URL)\n",
    "    !move {PRETRAINED_MODEL_NAME+'.tar.gz'} {paths['PRETRAINED_MODEL_PATH']}\n",
    "    !cd {paths['PRETRAINED_MODEL_PATH']} && tar -zxvf {PRETRAINED_MODEL_NAME+'.tar.gz'}"
   ]
  },
  {
   "cell_type": "markdown",
   "metadata": {
    "id": "M5KJTnkfpfDC"
   },
   "source": [
    "# 2. Create Label Map"
   ]
  },
  {
   "cell_type": "code",
   "execution_count": 15,
   "metadata": {
    "id": "p1BVDWo7pfDC"
   },
   "outputs": [],
   "source": [
    "labels = [{'name':'Bubble', 'id':1}]\n",
    "\n",
    "# write into label map file\n",
    "with open(files['LABELMAP'], 'w') as f:\n",
    "    for label in labels:\n",
    "        f.write('item { \\n')\n",
    "        f.write('\\tname:\\'{}\\'\\n'.format(label['name']))\n",
    "        f.write('\\tid:{}\\n'.format(label['id']))\n",
    "        f.write('}\\n')"
   ]
  },
  {
   "cell_type": "markdown",
   "metadata": {
    "id": "C88zyVELpfDC"
   },
   "source": [
    "# 3. Create TF records\n",
    "- binary storage format\n",
    "- convert annotations and images into format for training\n",
    "- storing data as sequence of binary strings has impact on training time\n",
    "- (less space on disk, copy faster, read efficiently)"
   ]
  },
  {
   "cell_type": "code",
   "execution_count": 16,
   "metadata": {
    "colab": {
     "base_uri": "https://localhost:8080/"
    },
    "id": "UPFToGZqpfDD",
    "outputId": "0ebb456f-aadc-4a1f-96e6-fbfec1923e1c",
    "scrolled": true
   },
   "outputs": [
    {
     "name": "stdout",
     "output_type": "stream",
     "text": [
      "Successfully created the TFRecord file: Tensorflow/workspace/annotations/my_centernet_hg104_1024_8/train.record\n",
      "Successfully created the TFRecord file: Tensorflow/workspace/annotations/my_centernet_hg104_1024_8/test.record\n"
     ]
    }
   ],
   "source": [
    "# create TFRecord file\n",
    "# --> train and test record file within annotations path\n",
    "!python {files['TF_RECORD_SCRIPT']} -x {os.path.join(paths['IMAGE_PATH'], 'train')} -l {files['LABELMAP']} -o {os.path.join(paths['ANNOTATION_PATH'], 'train.record')} \n",
    "!python {files['TF_RECORD_SCRIPT']} -x {os.path.join(paths['IMAGE_PATH'], 'test')} -l {files['LABELMAP']} -o {os.path.join(paths['ANNOTATION_PATH'], 'test.record')} "
   ]
  },
  {
   "cell_type": "markdown",
   "metadata": {
    "id": "qT4QU7pLpfDE"
   },
   "source": [
    "# 4. Copy Model Config to Training Folder\n",
    "- pipeline.config defines architecture of model\n",
    "- contains e.g. prebuilt data augmentation\n",
    "- see pipeline file in pre-trained model folder --> preset configurations (e.g. data augmentation etc.)"
   ]
  },
  {
   "cell_type": "code",
   "execution_count": 17,
   "metadata": {
    "id": "cOjuTFbwpfDF"
   },
   "outputs": [],
   "source": [
    "# copy pipeline.config into my_model folder\n",
    "if os.name =='posix':\n",
    "    !cp {os.path.join(paths['PRETRAINED_MODEL_PATH'], PRETRAINED_MODEL_NAME, 'pipeline.config')} {os.path.join(paths['CHECKPOINT_PATH'])}\n",
    "if os.name == 'nt':\n",
    "    !copy {os.path.join(paths['PRETRAINED_MODEL_PATH'], PRETRAINED_MODEL_NAME, 'pipeline.config')} {os.path.join(paths['CHECKPOINT_PATH'])}"
   ]
  },
  {
   "cell_type": "markdown",
   "metadata": {
    "id": "Ga8gpNslpfDF"
   },
   "source": [
    "# 5. Update Config For Transfer Learning\n",
    "config file: change parameter of the model"
   ]
  },
  {
   "cell_type": "code",
   "execution_count": 18,
   "metadata": {
    "id": "Z9hRrO_ppfDF"
   },
   "outputs": [],
   "source": [
    "import tensorflow as tf\n",
    "from object_detection.utils import config_util\n",
    "from object_detection.protos import pipeline_pb2\n",
    "from google.protobuf import text_format"
   ]
  },
  {
   "cell_type": "code",
   "execution_count": 19,
   "metadata": {
    "id": "c2A0mn4ipfDF"
   },
   "outputs": [],
   "source": [
    "config = config_util.get_configs_from_pipeline_file(files['PIPELINE_CONFIG'])"
   ]
  },
  {
   "cell_type": "code",
   "execution_count": 20,
   "metadata": {
    "colab": {
     "base_uri": "https://localhost:8080/"
    },
    "id": "uQA13-afpfDF",
    "outputId": "907496a4-a39d-4b13-8c2c-e5978ecb1f10"
   },
   "outputs": [
    {
     "data": {
      "text/plain": [
       "{'model': center_net {\n",
       "   num_classes: 90\n",
       "   feature_extractor {\n",
       "     type: \"hourglass_104\"\n",
       "     channel_means: 104.01361846923828\n",
       "     channel_means: 114.03422546386719\n",
       "     channel_means: 119.91659545898438\n",
       "     channel_stds: 73.60276794433594\n",
       "     channel_stds: 69.89082336425781\n",
       "     channel_stds: 70.91507720947266\n",
       "     bgr_ordering: true\n",
       "   }\n",
       "   image_resizer {\n",
       "     keep_aspect_ratio_resizer {\n",
       "       min_dimension: 1024\n",
       "       max_dimension: 1024\n",
       "       pad_to_max_dimension: true\n",
       "     }\n",
       "   }\n",
       "   object_detection_task {\n",
       "     task_loss_weight: 1.0\n",
       "     offset_loss_weight: 1.0\n",
       "     scale_loss_weight: 0.10000000149011612\n",
       "     localization_loss {\n",
       "       l1_localization_loss {\n",
       "       }\n",
       "     }\n",
       "   }\n",
       "   object_center_params {\n",
       "     object_center_loss_weight: 1.0\n",
       "     classification_loss {\n",
       "       penalty_reduced_logistic_focal_loss {\n",
       "         alpha: 2.0\n",
       "         beta: 4.0\n",
       "       }\n",
       "     }\n",
       "     min_box_overlap_iou: 0.699999988079071\n",
       "     max_box_predictions: 100\n",
       "   }\n",
       " }, 'train_config': batch_size: 128\n",
       " data_augmentation_options {\n",
       "   random_horizontal_flip {\n",
       "   }\n",
       " }\n",
       " data_augmentation_options {\n",
       "   random_adjust_hue {\n",
       "   }\n",
       " }\n",
       " data_augmentation_options {\n",
       "   random_adjust_contrast {\n",
       "   }\n",
       " }\n",
       " data_augmentation_options {\n",
       "   random_adjust_saturation {\n",
       "   }\n",
       " }\n",
       " data_augmentation_options {\n",
       "   random_adjust_brightness {\n",
       "   }\n",
       " }\n",
       " data_augmentation_options {\n",
       "   random_square_crop_by_scale {\n",
       "     scale_min: 0.6000000238418579\n",
       "     scale_max: 1.2999999523162842\n",
       "   }\n",
       " }\n",
       " optimizer {\n",
       "   adam_optimizer {\n",
       "     learning_rate {\n",
       "       cosine_decay_learning_rate {\n",
       "         learning_rate_base: 0.0010000000474974513\n",
       "         total_steps: 50000\n",
       "         warmup_learning_rate: 0.0002500000118743628\n",
       "         warmup_steps: 5000\n",
       "       }\n",
       "     }\n",
       "     epsilon: 1.0000000116860974e-07\n",
       "   }\n",
       "   use_moving_average: false\n",
       " }\n",
       " fine_tune_checkpoint: \"PATH_TO_BE_CONFIGURED\"\n",
       " num_steps: 50000\n",
       " max_number_of_boxes: 100\n",
       " unpad_groundtruth_tensors: false\n",
       " fine_tune_checkpoint_type: \"detection\"\n",
       " fine_tune_checkpoint_version: V2, 'train_input_config': tf_record_input_reader {\n",
       "   input_path: \"PATH_TO_BE_CONFIGURED\"\n",
       " }, 'eval_config': metrics_set: \"coco_detection_metrics\"\n",
       " use_moving_averages: false\n",
       " batch_size: 1, 'eval_input_configs': [label_map_path: \"PATH_TO_BE_CONFIGURED\"\n",
       " shuffle: false\n",
       " num_epochs: 1\n",
       " tf_record_input_reader {\n",
       "   input_path: \"PATH_TO_BE_CONFIGURED\"\n",
       " }\n",
       " ], 'eval_input_config': label_map_path: \"PATH_TO_BE_CONFIGURED\"\n",
       " shuffle: false\n",
       " num_epochs: 1\n",
       " tf_record_input_reader {\n",
       "   input_path: \"PATH_TO_BE_CONFIGURED\"\n",
       " }}"
      ]
     },
     "execution_count": 20,
     "metadata": {},
     "output_type": "execute_result"
    }
   ],
   "source": [
    "config"
   ]
  },
  {
   "cell_type": "code",
   "execution_count": 21,
   "metadata": {},
   "outputs": [],
   "source": [
    "#ckeys = config.keys()\n",
    "#print(type(ckeys))\n",
    "#print(list(ckeys)[0])"
   ]
  },
  {
   "cell_type": "code",
   "execution_count": 22,
   "metadata": {
    "id": "9vK5lotDpfDF"
   },
   "outputs": [],
   "source": [
    "pipeline_config = pipeline_pb2.TrainEvalPipelineConfig()\n",
    "with tf.io.gfile.GFile(files['PIPELINE_CONFIG'], \"r\") as f:                                                                                                                                                                                                                     \n",
    "    proto_str = f.read()                                                                                                                                                                                                                                          \n",
    "    text_format.Merge(proto_str, pipeline_config)  "
   ]
  },
  {
   "cell_type": "markdown",
   "metadata": {},
   "source": [
    "MODIFY FIRST LINE!\n",
    "- pipeline_config.model.###\n",
    "- insert model name (shown in first line of config file)"
   ]
  },
  {
   "cell_type": "code",
   "execution_count": 23,
   "metadata": {
    "id": "rP43Ph0JpfDG"
   },
   "outputs": [],
   "source": [
    "# modify pipeline.config for personal use case (num classes, set paths etc.)\n",
    "pipeline_config.model.center_net.num_classes = len(labels)\n",
    "pipeline_config.train_config.batch_size = 1\n",
    "pipeline_config.train_config.fine_tune_checkpoint = os.path.join(paths['PRETRAINED_MODEL_PATH'], PRETRAINED_MODEL_NAME, 'checkpoint', 'ckpt-0')\n",
    "pipeline_config.train_config.fine_tune_checkpoint_type = \"detection\"\n",
    "pipeline_config.train_input_reader.label_map_path= files['LABELMAP']\n",
    "pipeline_config.train_input_reader.tf_record_input_reader.input_path[:] = [os.path.join(paths['ANNOTATION_PATH'], 'train.record')]\n",
    "pipeline_config.eval_input_reader[0].label_map_path = files['LABELMAP']\n",
    "pipeline_config.eval_input_reader[0].tf_record_input_reader.input_path[:] = [os.path.join(paths['ANNOTATION_PATH'], 'test.record')]"
   ]
  },
  {
   "cell_type": "code",
   "execution_count": 24,
   "metadata": {},
   "outputs": [
    {
     "name": "stdout",
     "output_type": "stream",
     "text": [
      "['Tensorflow/workspace/annotations/my_centernet_hg104_1024_8/test.record']\n"
     ]
    }
   ],
   "source": [
    "print([os.path.join(paths['ANNOTATION_PATH'], 'test.record')])"
   ]
  },
  {
   "cell_type": "code",
   "execution_count": 25,
   "metadata": {
    "id": "oJvfgwWqpfDG"
   },
   "outputs": [],
   "source": [
    "config_text = text_format.MessageToString(pipeline_config)                                                                                                                                                                                                        \n",
    "with tf.io.gfile.GFile(files['PIPELINE_CONFIG'], \"wb\") as f:                                                                                                                                                                                                                     \n",
    "    f.write(config_text)   "
   ]
  },
  {
   "cell_type": "markdown",
   "metadata": {
    "id": "Zr3ON7xMpfDG"
   },
   "source": [
    "# 6. Train the model\n",
    "Before Training, my_model directory must be empty!"
   ]
  },
  {
   "cell_type": "code",
   "execution_count": 26,
   "metadata": {
    "id": "B-Y2UQmQpfDG"
   },
   "outputs": [],
   "source": [
    "TRAINING_SCRIPT = os.path.join(paths['APIMODEL_PATH'], 'research', 'object_detection', 'model_main_tf2.py')"
   ]
  },
  {
   "cell_type": "code",
   "execution_count": 27,
   "metadata": {},
   "outputs": [
    {
     "name": "stdout",
     "output_type": "stream",
     "text": [
      "Num GPUs Available:  1\n"
     ]
    }
   ],
   "source": [
    "# test if GPU is available\n",
    "print(\"Num GPUs Available: \", len(tf.config.list_physical_devices('GPU')))\n",
    "\n",
    "# check GPU use\n",
    "# watch -n0.1 nvidia-smi"
   ]
  },
  {
   "cell_type": "code",
   "execution_count": 28,
   "metadata": {
    "id": "jMP2XDfQpfDH"
   },
   "outputs": [],
   "source": [
    "command = \"python {} --model_dir={} --pipeline_config_path={} --num_train_steps=20000\".format(TRAINING_SCRIPT, paths['CHECKPOINT_PATH'],files['PIPELINE_CONFIG'])"
   ]
  },
  {
   "cell_type": "code",
   "execution_count": 29,
   "metadata": {
    "colab": {
     "base_uri": "https://localhost:8080/"
    },
    "id": "A4OXXi-ApfDH",
    "outputId": "117a0e83-012b-466e-b7a6-ccaa349ac5ab",
    "scrolled": true
   },
   "outputs": [
    {
     "name": "stdout",
     "output_type": "stream",
     "text": [
      "python Tensorflow/models/research/object_detection/model_main_tf2.py --model_dir=Tensorflow/workspace/models/my_centernet_hg104_1024_8 --pipeline_config_path=Tensorflow/workspace/models/my_centernet_hg104_1024_8/pipeline.config --num_train_steps=20000\n"
     ]
    }
   ],
   "source": [
    "# to see training status, copy command to prompt and run from there\n",
    "# (from tfodCourse directory and with activated environment)\n",
    "print(command)"
   ]
  },
  {
   "cell_type": "markdown",
   "metadata": {},
   "source": [
    "- runs model_main_tf2.py\n",
    "- arguments passed:\n",
    "    - model directory\n",
    "    - directory of pipeline.config\n",
    "    - number of training steps"
   ]
  },
  {
   "cell_type": "code",
   "execution_count": 30,
   "metadata": {
    "colab": {
     "base_uri": "https://localhost:8080/"
    },
    "collapsed": true,
    "id": "i3ZsJR-qpfDH",
    "outputId": "cabec5e1-45e6-4f2f-d9cf-297d9c1d0225"
   },
   "outputs": [],
   "source": [
    "#!{command}"
   ]
  },
  {
   "cell_type": "markdown",
   "metadata": {
    "id": "4_YRZu7npfDH"
   },
   "source": [
    "# 7. Evaluate the Model\n",
    "Calculate performance metrics"
   ]
  },
  {
   "cell_type": "code",
   "execution_count": 31,
   "metadata": {
    "id": "80L7-fdPpfDH"
   },
   "outputs": [],
   "source": [
    "command = \"python {} --model_dir={} --pipeline_config_path={} --checkpoint_dir={}\".format(TRAINING_SCRIPT, paths['CHECKPOINT_PATH'],files['PIPELINE_CONFIG'], paths['CHECKPOINT_PATH'])"
   ]
  },
  {
   "cell_type": "code",
   "execution_count": 32,
   "metadata": {
    "colab": {
     "base_uri": "https://localhost:8080/"
    },
    "id": "lYsgEPx9pfDH",
    "outputId": "8632d48b-91d2-45d9-bcb8-c1b172bf6eed"
   },
   "outputs": [
    {
     "name": "stdout",
     "output_type": "stream",
     "text": [
      "python Tensorflow/models/research/object_detection/model_main_tf2.py --model_dir=Tensorflow/workspace/models/my_centernet_hg104_1024_8 --pipeline_config_path=Tensorflow/workspace/models/my_centernet_hg104_1024_8/pipeline.config --checkpoint_dir=Tensorflow/workspace/models/my_centernet_hg104_1024_8\n"
     ]
    }
   ],
   "source": [
    "# command can be run from prompt to see progress\n",
    "print(command)"
   ]
  },
  {
   "cell_type": "code",
   "execution_count": 33,
   "metadata": {
    "collapsed": true,
    "id": "lqTV2jGBpfDH"
   },
   "outputs": [],
   "source": [
    "#!{command}"
   ]
  },
  {
   "cell_type": "markdown",
   "metadata": {},
   "source": [
    "# See Evaluation graphically with Tensorboard\n",
    "- Eval folder: \\TFODCourse\\Tensorflow\\workspace\\models\\my_ssd_mobnet\\eval --> AV, AR\n",
    "- Train folder: \\TFODCourse\\Tensorflow\\workspace\\models\\my_ssd_mobnet\\train --> losscurve\n",
    "\n",
    "in prompt: go to directory\n",
    "\n",
    "run command: tensorboard --logdir=.\n",
    "    \n",
    "open localhost url\n",
    "\n",
    "## Ideas to improve performance\n",
    "- more imgs of low performing classes to training dataset\n",
    "- train longer\n",
    "- change architecture"
   ]
  }
 ],
 "metadata": {
  "accelerator": "GPU",
  "colab": {
   "name": "3. Training and Detection.ipynb",
   "provenance": []
  },
  "interpreter": {
   "hash": "c1a5abd9fcc236de744981f6e7e78926a49df198c56982f6743dab32b3f4f43f"
  },
  "kernelspec": {
   "display_name": "Python 3.8.12 ('tfod_v2')",
   "language": "python",
   "name": "python3"
  },
  "language_info": {
   "codemirror_mode": {
    "name": "ipython",
    "version": 3
   },
   "file_extension": ".py",
   "mimetype": "text/x-python",
   "name": "python",
   "nbconvert_exporter": "python",
   "pygments_lexer": "ipython3",
   "version": "3.6.13"
  }
 },
 "nbformat": 4,
 "nbformat_minor": 1
}
