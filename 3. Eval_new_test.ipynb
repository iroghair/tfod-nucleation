{
 "cells": [
  {
   "cell_type": "markdown",
   "metadata": {
    "id": "QUANWN3rpfC9"
   },
   "source": [
    "# Test Bubble Detection model on new test images\n",
    "- Evaluates performance of custom bubble detection model on new test images\n",
    "- Calculates various precision, recall values\n",
    "- Format: JPEG, PNG, GIF, BMP required --> needs to be corrected in xml file if annotation made for image in tif format\n",
    "\n",
    "# Note:\n",
    "- COCO Metrics can only detect up to 100 objects"
   ]
  },
  {
   "cell_type": "code",
   "execution_count": 1,
   "metadata": {
    "id": "146BB11JpfDA"
   },
   "outputs": [],
   "source": [
    "import os\n",
    "import tensorflow as tf\n",
    "from object_detection.utils import label_map_util\n",
    "from object_detection.utils import visualization_utils as viz_utils\n",
    "from object_detection.builders import model_builder\n",
    "from object_detection.utils import config_util\n",
    "from object_detection.protos import pipeline_pb2\n",
    "from google.protobuf import text_format"
   ]
  },
  {
   "cell_type": "code",
   "execution_count": 2,
   "metadata": {
    "id": "42hJEdo_pfDB"
   },
   "outputs": [],
   "source": [
    "# indicate custom model & desired checkpoint from training\n",
    "CUSTOM_MODEL = 'my_centernet_hg104_1024_7'\n",
    "CUSTOM_CHECKPOINT = 'ckpt-21'\n",
    "LABEL_MAP_NAME = 'label_map.pbtxt'\n",
    "TF_RECORD_SCRIPT_NAME = 'generate_tfrecord.py'\n",
    "# indicate name of folder of new test images\n",
    "NEW_TEST_IMGS = 'test'#'supersaturation_0.16_cropIR'\n",
    "# give unique name for tf record file\n",
    "NEW_RECORD_FILE_NAME = 'test_maskJGIR.record'\n",
    "# max allowed detections\n",
    "max_detect = 500"
   ]
  },
  {
   "cell_type": "code",
   "execution_count": 3,
   "metadata": {
    "id": "hbPhYVy_pfDB"
   },
   "outputs": [],
   "source": [
    "paths = {\n",
    "    'WORKSPACE_PATH': os.path.join('Tensorflow', 'workspace'),\n",
    "    'SCRIPTS_PATH': os.path.join('Tensorflow','scripts'),\n",
    "    'APIMODEL_PATH': os.path.join('Tensorflow','models'),\n",
    "    'ANNOTATION_PATH': os.path.join('Tensorflow', 'workspace','annotations',CUSTOM_MODEL),\n",
    "    'IMAGE_PATH': os.path.join('Tensorflow', 'workspace','images'),\n",
    "    'IMAGE_PATH_TRAIN': os.path.join('Tensorflow', 'workspace','images','train'),\n",
    "    'IMAGE_PATH_TEST': os.path.join('Tensorflow', 'workspace','images',NEW_TEST_IMGS),\n",
    "    'MODEL_PATH': os.path.join('Tensorflow', 'workspace','models'),\n",
    "    'PRETRAINED_MODEL_PATH': os.path.join('Tensorflow', 'workspace','pre-trained-models'),\n",
    "    'CHECKPOINT_PATH': os.path.join('Tensorflow', 'workspace','models',CUSTOM_MODEL), \n",
    "    'OUTPUT_PATH': os.path.join('Tensorflow', 'workspace','models',CUSTOM_MODEL, 'export'), \n",
    "    'TFJS_PATH':os.path.join('Tensorflow', 'workspace','models',CUSTOM_MODEL, 'tfjsexport'), \n",
    "    'TFLITE_PATH':os.path.join('Tensorflow', 'workspace','models',CUSTOM_MODEL, 'tfliteexport'),\n",
    "    'PROTOC_PATH':os.path.join('Tensorflow','protoc')\n",
    " }"
   ]
  },
  {
   "cell_type": "code",
   "execution_count": 4,
   "metadata": {
    "id": "LwhWZMI0pfDC"
   },
   "outputs": [],
   "source": [
    "files = {\n",
    "    'PIPELINE_CONFIG':os.path.join('Tensorflow', 'workspace','models', CUSTOM_MODEL, 'pipeline.config'),\n",
    "    'TF_RECORD_SCRIPT': os.path.join(paths['SCRIPTS_PATH'], TF_RECORD_SCRIPT_NAME), \n",
    "    'LABELMAP': os.path.join(paths['ANNOTATION_PATH'], LABEL_MAP_NAME)\n",
    "}"
   ]
  },
  {
   "cell_type": "code",
   "execution_count": 5,
   "metadata": {},
   "outputs": [],
   "source": [
    "# create pipeline path for new test images\n",
    "pipeline_path = os.path.join('Tensorflow', 'workspace','models', CUSTOM_MODEL, NEW_TEST_IMGS)\n",
    "if not os.path.exists(pipeline_path):\n",
    "    if os.name == 'posix':\n",
    "        os.mkdir(pipeline_path)\n",
    "    if os.name == 'nt':\n",
    "        os.mkdir(pipeline_path)\n",
    "\n",
    "# save path name for new pipeline config to files\n",
    "files['PIPELINE_CONFIG_NEW'] = os.path.join('Tensorflow', 'workspace','models', CUSTOM_MODEL, NEW_TEST_IMGS,'pipeline.config')"
   ]
  },
  {
   "cell_type": "code",
   "execution_count": 6,
   "metadata": {},
   "outputs": [],
   "source": [
    "# CHECKPOINT PATH: copy pipeline.config (old) into new config folder\n",
    "if os.name =='posix':\n",
    "    !cp {files['PIPELINE_CONFIG']} {files['PIPELINE_CONFIG_NEW']}\n",
    "if os.name == 'nt':\n",
    "    !copy {files['PIPELINE_CONFIG']} {files['PIPELINE_CONFIG_NEW']}"
   ]
  },
  {
   "cell_type": "code",
   "execution_count": 7,
   "metadata": {},
   "outputs": [
    {
     "name": "stdout",
     "output_type": "stream",
     "text": [
      "Successfully created the TFRecord file: Tensorflow/workspace/annotations/my_centernet_hg104_1024_7/test_maskJGIR.record\n"
     ]
    }
   ],
   "source": [
    "# ANNOTATION PATH: create tf.record file for new test images\n",
    "# ONLY WORKS WITH JPG FORMAT\n",
    "!python {files['TF_RECORD_SCRIPT']} -x {paths['IMAGE_PATH_TEST']} -l {files['LABELMAP']} -o {os.path.join(paths['ANNOTATION_PATH'], NEW_RECORD_FILE_NAME)} "
   ]
  },
  {
   "cell_type": "code",
   "execution_count": 8,
   "metadata": {},
   "outputs": [],
   "source": [
    "# Load pipeline config (copy of old config file)\n",
    "pipeline_config = pipeline_pb2.TrainEvalPipelineConfig()\n",
    "with tf.io.gfile.GFile(files['PIPELINE_CONFIG_NEW'], \"r\") as f:                                                                                                                                                                                                                     \n",
    "    proto_str = f.read()                                                                                                                                                                                                                                          \n",
    "    text_format.Merge(proto_str, pipeline_config)"
   ]
  },
  {
   "cell_type": "code",
   "execution_count": 9,
   "metadata": {},
   "outputs": [],
   "source": [
    "# MODIFY PIPELINE.CONFIG\n",
    "# indicate the path to new test image tf record file\n",
    "pipeline_config.eval_input_reader[0].tf_record_input_reader.input_path[:] = [os.path.join(paths['ANNOTATION_PATH'], NEW_RECORD_FILE_NAME)]\n",
    "# allow max_detect detections\n",
    "pipeline_config.model.center_net.object_center_params.max_box_predictions = max_detect\n",
    "pipeline_config.train_config.max_number_of_boxes = max_detect"
   ]
  },
  {
   "cell_type": "code",
   "execution_count": 10,
   "metadata": {},
   "outputs": [],
   "source": [
    "# save new pipeline config (to model folder)\n",
    "config_text = text_format.MessageToString(pipeline_config)\n",
    "# dfile: accessing the file ('wb'= writing to file in binary mode)                                                                                                                                                                                                     \n",
    "with tf.io.gfile.GFile(files['PIPELINE_CONFIG_NEW'], \"wb\") as f:                                                                                                                                                                                                                     \n",
    "    f.write(config_text)"
   ]
  },
  {
   "cell_type": "code",
   "execution_count": 11,
   "metadata": {},
   "outputs": [],
   "source": [
    "# Load pipeline config (new/modified config file)\n",
    "configs_test = config_util.get_configs_from_pipeline_file(files['PIPELINE_CONFIG_NEW'])"
   ]
  },
  {
   "cell_type": "code",
   "execution_count": 12,
   "metadata": {},
   "outputs": [
    {
     "data": {
      "text/plain": [
       "{'model': center_net {\n",
       "   num_classes: 1\n",
       "   feature_extractor {\n",
       "     type: \"hourglass_104\"\n",
       "     channel_means: 104.01361846923828\n",
       "     channel_means: 114.03422546386719\n",
       "     channel_means: 119.91659545898438\n",
       "     channel_stds: 73.60276794433594\n",
       "     channel_stds: 69.89082336425781\n",
       "     channel_stds: 70.91507720947266\n",
       "     bgr_ordering: true\n",
       "   }\n",
       "   image_resizer {\n",
       "     keep_aspect_ratio_resizer {\n",
       "       min_dimension: 1024\n",
       "       max_dimension: 1024\n",
       "       pad_to_max_dimension: true\n",
       "     }\n",
       "   }\n",
       "   object_detection_task {\n",
       "     task_loss_weight: 1.0\n",
       "     offset_loss_weight: 1.0\n",
       "     scale_loss_weight: 0.10000000149011612\n",
       "     localization_loss {\n",
       "       l1_localization_loss {\n",
       "       }\n",
       "     }\n",
       "   }\n",
       "   object_center_params {\n",
       "     object_center_loss_weight: 1.0\n",
       "     classification_loss {\n",
       "       penalty_reduced_logistic_focal_loss {\n",
       "         alpha: 2.0\n",
       "         beta: 4.0\n",
       "       }\n",
       "     }\n",
       "     min_box_overlap_iou: 0.699999988079071\n",
       "     max_box_predictions: 500\n",
       "   }\n",
       " },\n",
       " 'train_config': batch_size: 1\n",
       " data_augmentation_options {\n",
       "   random_horizontal_flip {\n",
       "   }\n",
       " }\n",
       " data_augmentation_options {\n",
       "   random_adjust_hue {\n",
       "   }\n",
       " }\n",
       " data_augmentation_options {\n",
       "   random_adjust_contrast {\n",
       "   }\n",
       " }\n",
       " data_augmentation_options {\n",
       "   random_adjust_saturation {\n",
       "   }\n",
       " }\n",
       " data_augmentation_options {\n",
       "   random_adjust_brightness {\n",
       "   }\n",
       " }\n",
       " data_augmentation_options {\n",
       "   random_square_crop_by_scale {\n",
       "     scale_min: 0.6000000238418579\n",
       "     scale_max: 1.2999999523162842\n",
       "   }\n",
       " }\n",
       " optimizer {\n",
       "   adam_optimizer {\n",
       "     learning_rate {\n",
       "       cosine_decay_learning_rate {\n",
       "         learning_rate_base: 0.0010000000474974513\n",
       "         total_steps: 50000\n",
       "         warmup_learning_rate: 0.0002500000118743628\n",
       "         warmup_steps: 5000\n",
       "       }\n",
       "     }\n",
       "     epsilon: 1.0000000116860974e-07\n",
       "   }\n",
       "   use_moving_average: false\n",
       " }\n",
       " fine_tune_checkpoint: \"Tensorflow/workspace/pre-trained-models/centernet_hg104_1024x1024_coco17_tpu-32/checkpoint/ckpt-0\"\n",
       " num_steps: 50000\n",
       " max_number_of_boxes: 500\n",
       " unpad_groundtruth_tensors: false\n",
       " fine_tune_checkpoint_type: \"detection\"\n",
       " fine_tune_checkpoint_version: V2,\n",
       " 'train_input_config': label_map_path: \"Tensorflow/workspace/annotations/my_centernet_hg104_1024_7/label_map.pbtxt\"\n",
       " tf_record_input_reader {\n",
       "   input_path: \"Tensorflow/workspace/annotations/my_centernet_hg104_1024_7/train.record\"\n",
       " },\n",
       " 'eval_config': metrics_set: \"coco_detection_metrics\"\n",
       " use_moving_averages: false\n",
       " batch_size: 1,\n",
       " 'eval_input_configs': [label_map_path: \"Tensorflow/workspace/annotations/my_centernet_hg104_1024_7/label_map.pbtxt\"\n",
       " shuffle: false\n",
       " num_epochs: 1\n",
       " tf_record_input_reader {\n",
       "   input_path: \"Tensorflow/workspace/annotations/my_centernet_hg104_1024_7/test_maskJGIR.record\"\n",
       " }\n",
       " ],\n",
       " 'eval_input_config': label_map_path: \"Tensorflow/workspace/annotations/my_centernet_hg104_1024_7/label_map.pbtxt\"\n",
       " shuffle: false\n",
       " num_epochs: 1\n",
       " tf_record_input_reader {\n",
       "   input_path: \"Tensorflow/workspace/annotations/my_centernet_hg104_1024_7/test_maskJGIR.record\"\n",
       " }}"
      ]
     },
     "execution_count": 12,
     "metadata": {},
     "output_type": "execute_result"
    }
   ],
   "source": [
    "configs_test"
   ]
  },
  {
   "cell_type": "markdown",
   "metadata": {
    "id": "4_YRZu7npfDH"
   },
   "source": [
    "# 7. Evaluate the Model\n",
    "Calculate performance metrics"
   ]
  },
  {
   "cell_type": "code",
   "execution_count": 13,
   "metadata": {},
   "outputs": [],
   "source": [
    "TRAINING_SCRIPT = os.path.join(paths['APIMODEL_PATH'], 'research', 'object_detection', 'model_main_tf2.py')"
   ]
  },
  {
   "cell_type": "code",
   "execution_count": 14,
   "metadata": {
    "id": "80L7-fdPpfDH"
   },
   "outputs": [],
   "source": [
    "command = \"python {} --model_dir={} --pipeline_config_path={} --checkpoint_dir={}\".format(TRAINING_SCRIPT, paths['CHECKPOINT_PATH'],files['PIPELINE_CONFIG_NEW'], paths['CHECKPOINT_PATH'])"
   ]
  },
  {
   "cell_type": "code",
   "execution_count": 15,
   "metadata": {
    "colab": {
     "base_uri": "https://localhost:8080/"
    },
    "id": "lYsgEPx9pfDH",
    "outputId": "8632d48b-91d2-45d9-bcb8-c1b172bf6eed"
   },
   "outputs": [
    {
     "name": "stdout",
     "output_type": "stream",
     "text": [
      "python Tensorflow/models/research/object_detection/model_main_tf2.py --model_dir=Tensorflow/workspace/models/my_centernet_hg104_1024_7 --pipeline_config_path=Tensorflow/workspace/models/my_centernet_hg104_1024_7/test/pipeline.config --checkpoint_dir=Tensorflow/workspace/models/my_centernet_hg104_1024_7\n"
     ]
    }
   ],
   "source": [
    "# command can be run from prompt\n",
    "# EVAL FOLDER MUST BE EMPTY BEFORE RUNNING COMMAND!\n",
    "print(command)"
   ]
  },
  {
   "cell_type": "code",
   "execution_count": null,
   "metadata": {},
   "outputs": [],
   "source": [
    "# cd Tensorflow/workspace/models/my_centernet_hg104_1024_5_v3/eval\n",
    "# tensorboard --logdir=."
   ]
  },
  {
   "cell_type": "code",
   "execution_count": 17,
   "metadata": {},
   "outputs": [
    {
     "ename": "FileNotFoundError",
     "evalue": "[Errno 2] No such file or directory: 'Tensorflow/workspace/models/my_centernet_hg104_1024_5/test/eval/events.out.tfevents.1643031764.TUE013625.1133607.0.v2'",
     "output_type": "error",
     "traceback": [
      "\u001b[0;31m---------------------------------------------------------------------------\u001b[0m",
      "\u001b[0;31mFileNotFoundError\u001b[0m                         Traceback (most recent call last)",
      "\u001b[0;32m/tmp/ipykernel_1132915/4244743271.py\u001b[0m in \u001b[0;36m<module>\u001b[0;34m\u001b[0m\n\u001b[1;32m      7\u001b[0m \u001b[0;32mif\u001b[0m \u001b[0;32mnot\u001b[0m \u001b[0mos\u001b[0m\u001b[0;34m.\u001b[0m\u001b[0mpath\u001b[0m\u001b[0;34m.\u001b[0m\u001b[0mexists\u001b[0m\u001b[0;34m(\u001b[0m\u001b[0mnew_eval_file_path\u001b[0m\u001b[0;34m)\u001b[0m\u001b[0;34m:\u001b[0m\u001b[0;34m\u001b[0m\u001b[0;34m\u001b[0m\u001b[0m\n\u001b[1;32m      8\u001b[0m     \u001b[0;32mif\u001b[0m \u001b[0mos\u001b[0m\u001b[0;34m.\u001b[0m\u001b[0mname\u001b[0m \u001b[0;34m==\u001b[0m \u001b[0;34m'posix'\u001b[0m\u001b[0;34m:\u001b[0m\u001b[0;34m\u001b[0m\u001b[0;34m\u001b[0m\u001b[0m\n\u001b[0;32m----> 9\u001b[0;31m         \u001b[0mos\u001b[0m\u001b[0;34m.\u001b[0m\u001b[0mmkdir\u001b[0m\u001b[0;34m(\u001b[0m\u001b[0mnew_eval_file_path\u001b[0m\u001b[0;34m)\u001b[0m\u001b[0;34m\u001b[0m\u001b[0;34m\u001b[0m\u001b[0m\n\u001b[0m\u001b[1;32m     10\u001b[0m     \u001b[0;32mif\u001b[0m \u001b[0mos\u001b[0m\u001b[0;34m.\u001b[0m\u001b[0mname\u001b[0m \u001b[0;34m==\u001b[0m \u001b[0;34m'nt'\u001b[0m\u001b[0;34m:\u001b[0m\u001b[0;34m\u001b[0m\u001b[0;34m\u001b[0m\u001b[0m\n\u001b[1;32m     11\u001b[0m         \u001b[0mos\u001b[0m\u001b[0;34m.\u001b[0m\u001b[0mmkdir\u001b[0m\u001b[0;34m(\u001b[0m\u001b[0mnew_eval_file_path\u001b[0m\u001b[0;34m)\u001b[0m\u001b[0;34m\u001b[0m\u001b[0;34m\u001b[0m\u001b[0m\n",
      "\u001b[0;31mFileNotFoundError\u001b[0m: [Errno 2] No such file or directory: 'Tensorflow/workspace/models/my_centernet_hg104_1024_5/test/eval/events.out.tfevents.1643031764.TUE013625.1133607.0.v2'"
     ]
    }
   ],
   "source": [
    "# EVAL PATH: move eval file into image set specific folder\n",
    "eval_path = os.path.join(paths['CHECKPOINT_PATH'],'eval')\n",
    "eval_file = os.listdir(eval_path)\n",
    "eval_file_path = os.path.join(eval_path,eval_file[0])\n",
    "new_eval_file_path = os.path.join('Tensorflow', 'workspace','models', CUSTOM_MODEL, NEW_TEST_IMGS,'eval', eval_file[0])\n",
    "\n",
    "if not os.path.exists(new_eval_file_path):\n",
    "    if os.name == 'posix':\n",
    "        os.mkdir(new_eval_file_path)\n",
    "    if os.name == 'nt':\n",
    "        os.mkdir(new_eval_file_path)\n",
    "\n",
    "if os.name =='posix':\n",
    "    !mv {eval_file_path} {new_eval_file_path}\n",
    "if os.name == 'nt':\n",
    "    !move {eval_file_path} {new_eval_file_path}"
   ]
  },
  {
   "cell_type": "code",
   "execution_count": 55,
   "metadata": {},
   "outputs": [
    {
     "ename": "IndexError",
     "evalue": "list index out of range",
     "output_type": "error",
     "traceback": [
      "\u001b[0;31m---------------------------------------------------------------------------\u001b[0m",
      "\u001b[0;31mIndexError\u001b[0m                                Traceback (most recent call last)",
      "\u001b[0;32m/tmp/ipykernel_777517/2271867028.py\u001b[0m in \u001b[0;36m<module>\u001b[0;34m\u001b[0m\n\u001b[0;32m----> 1\u001b[0;31m \u001b[0mnew_eval_file_path\u001b[0m \u001b[0;34m=\u001b[0m \u001b[0mos\u001b[0m\u001b[0;34m.\u001b[0m\u001b[0mpath\u001b[0m\u001b[0;34m.\u001b[0m\u001b[0mjoin\u001b[0m\u001b[0;34m(\u001b[0m\u001b[0;34m'Tensorflow'\u001b[0m\u001b[0;34m,\u001b[0m\u001b[0;34m'workspace'\u001b[0m\u001b[0;34m,\u001b[0m\u001b[0;34m'models'\u001b[0m\u001b[0;34m,\u001b[0m\u001b[0mCUSTOM_MODEL\u001b[0m\u001b[0;34m,\u001b[0m \u001b[0mNEW_TEST_IMGS\u001b[0m\u001b[0;34m,\u001b[0m\u001b[0;34m'eval'\u001b[0m\u001b[0;34m,\u001b[0m \u001b[0meval_file\u001b[0m\u001b[0;34m[\u001b[0m\u001b[0;36m0\u001b[0m\u001b[0;34m]\u001b[0m\u001b[0;34m)\u001b[0m\u001b[0;34m\u001b[0m\u001b[0;34m\u001b[0m\u001b[0m\n\u001b[0m",
      "\u001b[0;31mIndexError\u001b[0m: list index out of range"
     ]
    }
   ],
   "source": [
    "new_eval_file_path = os.path.join('Tensorflow','workspace','models',CUSTOM_MODEL, NEW_TEST_IMGS,'eval', eval_file[0])"
   ]
  },
  {
   "cell_type": "markdown",
   "metadata": {},
   "source": [
    "# See Evaluation graphically with Tensorboard\n",
    "- Eval folder: \\TFODCourse\\Tensorflow\\workspace\\models\\my_ssd_mobnet\\eval --> AV, AR\n",
    "- Train folder: \\TFODCourse\\Tensorflow\\workspace\\models\\my_ssd_mobnet\\train --> losscurve\n",
    "\n",
    "in prompt: go to directory --> cd Tensorflow/workspace/models/my_centernet_hg104_1024_5_v3/eval\n",
    "\n",
    "run command: tensorboard --logdir=.\n",
    "    \n",
    "open localhost url"
   ]
  }
 ],
 "metadata": {
  "accelerator": "GPU",
  "colab": {
   "name": "3. Training and Detection.ipynb",
   "provenance": []
  },
  "interpreter": {
   "hash": "c1a5abd9fcc236de744981f6e7e78926a49df198c56982f6743dab32b3f4f43f"
  },
  "kernelspec": {
   "display_name": "Python 3.8.12 ('tfod_v2')",
   "language": "python",
   "name": "python3"
  },
  "language_info": {
   "codemirror_mode": {
    "name": "ipython",
    "version": 3
   },
   "file_extension": ".py",
   "mimetype": "text/x-python",
   "name": "python",
   "nbconvert_exporter": "python",
   "pygments_lexer": "ipython3",
   "version": "3.8.12"
  }
 },
 "nbformat": 4,
 "nbformat_minor": 1
}
